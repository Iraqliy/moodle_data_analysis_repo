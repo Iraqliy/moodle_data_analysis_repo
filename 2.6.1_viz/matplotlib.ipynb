{
 "cells": [
  {
   "cell_type": "markdown",
   "metadata": {},
   "source": [
    "# Работа с matplotlib\n",
    "\n",
    "Matplotlib — популярная Python-библиотека для визуализации данных. Она используется для создания любых видов графиков: линейных, круговых диаграмм, построчных гистограмм и других — в зависимости от задач."
   ]
  },
  {
   "cell_type": "markdown",
   "metadata": {},
   "source": [
    "![title](img/structure.png)"
   ]
  },
  {
   "cell_type": "markdown",
   "metadata": {},
   "source": [
    "Проведем необходимые приготовления для работы, запустив следующие ячейки"
   ]
  },
  {
   "cell_type": "code",
   "execution_count": null,
   "metadata": {},
   "outputs": [],
   "source": [
    "!wget https://github.com/epidersis/moodle_data_analysis_repo/raw/main/2.6.1_viz/Titanic-Dataset.csv"
   ]
  },
  {
   "cell_type": "code",
   "execution_count": null,
   "metadata": {},
   "outputs": [],
   "source": [
    "from matplotlib import pyplot as plt # импортируем библиотеку построения графиков\n",
    "import numpy as np\n",
    "import pandas as pd\n",
    "\n",
    "plt.style.use(['seaborn']) # изменяем стиль для более опрятного вида графиков"
   ]
  },
  {
   "cell_type": "code",
   "execution_count": null,
   "metadata": {},
   "outputs": [],
   "source": [
    "df = pd.read_csv('Titanic-Dataset.csv')\n",
    "df.head()"
   ]
  },
  {
   "cell_type": "markdown",
   "metadata": {},
   "source": [
    "# Importing Matplotlib"
   ]
  },
  {
   "cell_type": "markdown",
   "metadata": {},
   "source": [
    "## Линейный график\n",
    "### Простой график\n",
    "Сначала сгенерируем фиктивные данные для построения графика."
   ]
  },
  {
   "cell_type": "code",
   "execution_count": null,
   "metadata": {},
   "outputs": [],
   "source": [
    "x = np.linspace(0,15,30)\n",
    "y = np.sin(x)\n",
    "\n",
    "plt.plot(x, y)"
   ]
  },
  {
   "cell_type": "markdown",
   "metadata": {},
   "source": [
    "## Упражнение\n",
    "\n",
    "Постройте график параболы от -10 до 10"
   ]
  },
  {
   "cell_type": "code",
   "execution_count": null,
   "metadata": {},
   "outputs": [],
   "source": [
    "# code"
   ]
  },
  {
   "cell_type": "markdown",
   "metadata": {},
   "source": [
    "А как насчет того, чтобы изменить линию на какую-нибудь другую, например, только пунктир или только точку, или точку и пунктир?\n",
    "\n",
    "Третий параметр используется для установки стиля линии - пунктир или точка."
   ]
  },
  {
   "cell_type": "code",
   "execution_count": null,
   "metadata": {},
   "outputs": [],
   "source": [
    "plt.plot(x,y, '--')"
   ]
  },
  {
   "cell_type": "code",
   "execution_count": null,
   "metadata": {},
   "outputs": [],
   "source": [
    "plt.plot(x, y, 'o')"
   ]
  },
  {
   "cell_type": "code",
   "execution_count": null,
   "metadata": {},
   "outputs": [],
   "source": [
    "plt.plot(x,y, '--o')"
   ]
  },
  {
   "cell_type": "markdown",
   "metadata": {},
   "source": [
    "Можно изменить цвет линии, а также ее ширину."
   ]
  },
  {
   "cell_type": "code",
   "execution_count": null,
   "metadata": {},
   "outputs": [],
   "source": [
    "plt.plot(x,y, color='red', lw=2)"
   ]
  },
  {
   "cell_type": "markdown",
   "metadata": {},
   "source": [
    "Если вы используете линию типа \"штрих и точка\", то размер точки также можно изменить с помощью параметра `ms`. Здесь ms означает размер маркера."
   ]
  },
  {
   "cell_type": "code",
   "execution_count": null,
   "metadata": {
    "scrolled": true
   },
   "outputs": [],
   "source": [
    "plt.plot(x,y, '--o', color='teal', lw=.5, ms=5)"
   ]
  },
  {
   "cell_type": "markdown",
   "metadata": {},
   "source": [
    "Также можно строить параметрические графики. Например, астроида"
   ]
  },
  {
   "cell_type": "code",
   "execution_count": null,
   "metadata": {
    "scrolled": true
   },
   "outputs": [],
   "source": [
    "t = np.linspace(0,2*np.pi,60)\n",
    "R = 2\n",
    "x = R * np.cos(t)**3\n",
    "y = R * np.sin(t)**3\n",
    "\n",
    "plt.plot(x, y)"
   ]
  },
  {
   "cell_type": "markdown",
   "metadata": {},
   "source": [
    "## Упражнение\n",
    "\n",
    "Постройте график кардиоды (подсказка: используйте параметр t). Самостоятельно определите диапазон значений параметра t.\n",
    "\n",
    "Задайте его красными точками, соединенными линиями."
   ]
  },
  {
   "cell_type": "code",
   "execution_count": null,
   "metadata": {},
   "outputs": [],
   "source": [
    "# code"
   ]
  },
  {
   "cell_type": "markdown",
   "metadata": {},
   "source": [
    "## Рисунок\n",
    "Теперь, допустим, вам не нужна такая квадратная фигура, вы хотите иметь фигуру, напоминающую прямоугольник, тогда вы можете задать размер фигуры с помощью метода `figure()`.\n",
    "\n",
    "В `figsize` необходимо указать единицы измерения по осям x и y соответственно, и тогда размер фигуры будет задан соответствующим образом."
   ]
  },
  {
   "cell_type": "code",
   "execution_count": null,
   "metadata": {},
   "outputs": [],
   "source": [
    "plt.figure(figsize=(12,3))\n",
    "plt.plot(x,y, '-', color='teal', lw=2)"
   ]
  },
  {
   "cell_type": "markdown",
   "metadata": {},
   "source": [
    "Итак, вроде бы мы узнали достаточно много, но чего-то не хватает.\n",
    "\n",
    "Как вы знаете, рисунок должен содержать метки по осям x и y, а также заголовок рисунка. Так что давайте добавим все это на рисунок."
   ]
  },
  {
   "cell_type": "code",
   "execution_count": null,
   "metadata": {},
   "outputs": [],
   "source": [
    "# установка размера фигуры\n",
    "plt.figure(figsize=(12,3)) \n",
    "\n",
    "# построение линии\n",
    "plt.plot(x,y, 'o--', color='teal', lw=2, ms=10) \n",
    "\n",
    "# установка метки оси x, а также изменение размера шрифта на 16\n",
    "plt.xlabel('x', fontsize=16) \n",
    "\n",
    "# установка метки оси y\n",
    "plt.ylabel('sin(x)') \n",
    "\n",
    "# установка заголовка рисунка\n",
    "plt.title('Синусоидальная волна')"
   ]
  },
  {
   "cell_type": "markdown",
   "metadata": {},
   "source": [
    "## Множественный график"
   ]
  },
  {
   "cell_type": "markdown",
   "metadata": {},
   "source": [
    "Допустим, вы хотите сравнить синусоидальную и косинусоидальную волны и для этого поместить эти кривые на один и тот же рисунок.\n",
    "\n",
    "Сначала создадим значения x и y для косинусоидальной волны."
   ]
  },
  {
   "cell_type": "code",
   "execution_count": null,
   "metadata": {},
   "outputs": [],
   "source": [
    "x2 = np.linspace(0, 15, 100)\n",
    "y2 = np.cos(x2)"
   ]
  },
  {
   "cell_type": "markdown",
   "metadata": {},
   "source": [
    "Теперь построим на том же рисунке графики для синусоидальной и косинусоидальной волн."
   ]
  },
  {
   "cell_type": "code",
   "execution_count": null,
   "metadata": {},
   "outputs": [],
   "source": [
    "# установить размер фигуры\n",
    "plt.figure(figsize=(8,3))\n",
    "\n",
    "# построить график синусоиды по осям x и y\n",
    "plt.plot(x,y, '-')\n",
    "\n",
    "# построить график косинусоиды с использованием x2 и y2\n",
    "plt.plot(x2,y2)\n",
    "\n",
    "# установка метки оси x рисунка\n",
    "plt.xlabel('x', fontsize=16)\n",
    "\n",
    "# установка метки оси y рисунка\n",
    "plt.ylabel('Волна')\n",
    "\n",
    "# установка заголовка фигуры\n",
    "plt.title('Синусоидальная и косинусоидальная волны')"
   ]
  },
  {
   "cell_type": "markdown",
   "metadata": {},
   "source": [
    "Приведенный выше рисунок выглядит красиво и чисто, но есть одна проблема.\n",
    "\n",
    "Если вы не знаете, как выглядят синусоидальные и косинусоидальные волны, то не сможете распознать, какая кривая является синусоидой, а какая - косинусоидой.\n",
    "\n",
    "Для решения этой проблемы у нас есть Легенда.\n",
    "\n",
    "Итак, давайте добавим легенду к нашему рисунку."
   ]
  },
  {
   "cell_type": "code",
   "execution_count": null,
   "metadata": {},
   "outputs": [],
   "source": [
    "# установить размер фигуры\n",
    "plt.figure(figsize=(8,3))\n",
    "\n",
    "# построить график синусоиды по осям x и y\n",
    "plt.plot(x,y, '-', label='Sine')\n",
    "\n",
    "# построить график косинусоидальной волны с использованием x2 и y2\n",
    "plt.plot(x2,y2, label='Cosine')\n",
    "\n",
    "# установка метки оси x рисунка\n",
    "plt.xlabel('x', fontsize=16)\n",
    "\n",
    "# установка метки оси y рисунка\n",
    "plt.ylabel('Wave')\n",
    "\n",
    "# установка заголовка фигуры\n",
    "plt.title('Синусоидальная и косинусоидальная волны')\n",
    "\n",
    "# установка размера шрифта 12, а расположение - наилучшее\n",
    "plt.legend(loc='best', fontsize=12)"
   ]
  },
  {
   "cell_type": "markdown",
   "metadata": {},
   "source": [
    "Обратите внимание, что в приведенном выше коде функция `plot()` имеет еще один параметр `label`, который используется для того, чтобы легенда знала метку графика.\n",
    "\n",
    "В приведенном выше коде функция `legend` имеет два параметра, `loc` и `fontsize`.\n",
    "\n",
    "- Параметр `loc` используется для задания расположения легенды на рисунке. Я попросил функцию использовать `лучшее` расположение, но можно выбрать несколько вариантов.\n",
    "\n",
    "- `fontsize` используется для установки размера шрифта содержимого легенды.\n",
    "\n",
    "На этом, я думаю, мы рассмотрели достаточно много вопросов, касающихся линейных графиков. Теперь давайте перейдем к другим графикам, начиная с гистограммы."
   ]
  },
  {
   "cell_type": "markdown",
   "metadata": {},
   "source": [
    "## Упражнение\n",
    "\n",
    "Постройте два графика на одном рисунке:\n",
    "- График x^3 (зеленые точки)\n",
    "- График модуля (синяя линия)\n",
    "\n",
    "Самостоятельно подберите интервал для x"
   ]
  },
  {
   "cell_type": "code",
   "execution_count": null,
   "metadata": {},
   "outputs": [],
   "source": [
    "# code"
   ]
  },
  {
   "cell_type": "markdown",
   "metadata": {},
   "source": [
    "## Гистограммы\n",
    "Давайте подумаем о следующем сценарии. В вашей школе или колледже 100 студентов, и вы попросили их выбрать любимый язык программирования.\n",
    "\n",
    "70 из них ответили Python, 20 - C++ и 10 - Java.\n",
    "\n",
    "Для визуализации этого можно использовать гистограммы."
   ]
  },
  {
   "cell_type": "code",
   "execution_count": null,
   "metadata": {},
   "outputs": [],
   "source": [
    "# нам нужно знать количество для каждого интервала диапазона 10\n",
    "bins = [0,10,20,30,40,50,60,70,80,90,100]\n",
    "\n",
    "# hist() принимает столбец в качестве данных и количество бинов\n",
    "plt.hist(df[\"Age\"], bins=bins)\n",
    "\n",
    "# использование xticks для установки значений по оси x\n",
    "plt.xticks(bins)\n",
    "plt.xlabel(\"Возраст\")\n",
    "plt.ylabel(\"Количество пассажиров\")\n",
    "plt.title(\"Количество пассажиров в интервале\")\n",
    "plt.show()"
   ]
  },
  {
   "cell_type": "markdown",
   "metadata": {},
   "source": [
    "Сначала мы задаем бины, которые выступают в качестве интервала 10. Так, первый бин будет от 0 до 10, второй - от 10 до 20 и так далее.\n",
    "\n",
    "Теперь просто построим гистограмму, используя столбец \"Возраст\" и бины.\n",
    "\n",
    "Установили `xticks`на бины, чтобы было легко визуализировать бины.\n",
    "\n",
    "Мы также можем изменить цвет, как мы это делали с другими графиками."
   ]
  },
  {
   "cell_type": "markdown",
   "metadata": {},
   "source": [
    "## Упражнение. Столбчатые диаграммы\n",
    "\n",
    "- Постройте график для колонки Sex\n",
    "- Постройте график для колонки SibSp\n",
    "- Постройте график для возрастов (как в примере выше), но для возрастов больше 30"
   ]
  },
  {
   "cell_type": "code",
   "execution_count": null,
   "metadata": {},
   "outputs": [],
   "source": [
    "# code"
   ]
  },
  {
   "cell_type": "code",
   "execution_count": null,
   "metadata": {},
   "outputs": [],
   "source": [
    "#изменить цвет\n",
    "bins = [0,10,20,30,40,50,60,70,80,90,100]\n",
    "plt.hist(df[\"Age\"], bins=bins, color='teal')\n",
    "plt.xticks(bins)\n",
    "plt.xlabel(\"Возраст\")\n",
    "plt.ylabel(\" Число пассажиров\")\n",
    "plt.title(\"Количество пассажиров в интервале\")\n",
    "plt.show()"
   ]
  },
  {
   "cell_type": "markdown",
   "metadata": {},
   "source": [
    "## Круговая диаграмма\n",
    "Допустим, вы хотите проверить, сколько из всех пассажиров-мужчин выжило, а сколько из всех пассажиров-женщин выжило."
   ]
  },
  {
   "cell_type": "code",
   "execution_count": null,
   "metadata": {},
   "outputs": [],
   "source": [
    "# получение количества пассажиров-мужчин\n",
    "male = df.loc[df[\"Sex\"] == \"male\"].count()[0]\n",
    "\n",
    "# получение количества пассажиров-мужчин и выживших пассажиров\n",
    "survived_male = df.loc[(df[\"Sex\"] == \"male\") & (df[\"Survived\"] == 1)].count()[0]\n",
    "\n",
    "# получение количества пассажиров-женщин\n",
    "female = df.loc[df[\"Sex\"] == \"female\"].count()[0]\n",
    "\n",
    "# получение количества пассажиров-женщин и выживших пассажиров\n",
    "survived_female = df.loc[(df[\"Sex\"] == \"female\") & (df[\"Survived\"] == 1)].count()[0]\n",
    "\n",
    "\n",
    "# установка меток для каждого из них\n",
    "labels = ['male', 'female']\n",
    "\n",
    "# установка цветов \n",
    "colors = ['orange','teal']\n",
    "\n",
    "# построение круговой диаграммы по приведенным данным\n",
    "plt.pie([survived_male, survived_female], labels=labels, colors=colors, hatch=[\"/\", \"o\"])\n",
    "plt.title('Выжившие мужчины против выживших женщин')\n",
    "plt.legend(loc=\"upper left\", fontsize=12)\n",
    "plt.show()"
   ]
  },
  {
   "cell_type": "markdown",
   "metadata": {},
   "source": [
    "Вы можете задаться вопросом, почему `count()[0]`.\n",
    "\n",
    "\n",
    "Потому что функция `count()` возвращает кадр данных, а мы хотим получить количество пассажиров, поэтому если мы выберем только первый столбец этого кадра данных, т.е. `PassengerId`, то наша задача будет выполнена.\n",
    "\n",
    "\n",
    "Здесь также можно использовать `hatch`.\n",
    "\n",
    "\n",
    "Остальные действия практически аналогичны другим графикам, т.е. вы можете задать заголовок, цвет, метки и легенду графика.\n",
    "\n",
    "\n",
    "Примечание: Если вы не можете понять, как мы получили данные о мужчинах и выживших пассажирах или о женщинах и выживших пассажирах, то вам следует сначала узнать о пандах, и у меня есть отличный пост на эту тему. Посмотрите его здесь\n",
    "\n",
    "\n",
    "Подмножества\n",
    "Допустим, вы хотите получить рисунок, состоящий из множества различных фигур (не говоря уже о множестве графиков), тогда для этого можно использовать функцию `subplots()`.\n",
    "\n",
    "\n",
    "Подплоты полезны, когда мы хотим отобразить несколько графиков на одном рисунке, например, для сравнения различных наборов данных или отображения различных аспектов одних и тех же данных.\n",
    "\n",
    "\n",
    "Для создания подграфиков в matplotlib можно использовать функцию pyplot.subplots(), которая возвращает объект figure и массив объектов axes. Объект figure представляет весь рисунок, а объекты axes - отдельные участки внутри рисунка. В качестве аргументов функции subplots() можно указать количество строк и столбцов сетки подмножеств, а также передать другие параметры для управления внешним видом и поведением подмножеств.\n",
    "\n",
    "\n",
    "Например, создадим сетку subplots 2x2 и построим на них кривые синуса и косинуса:"
   ]
  },
  {
   "cell_type": "code",
   "execution_count": null,
   "metadata": {},
   "outputs": [],
   "source": [
    "import matplotlib.pyplot as plt\n",
    "import numpy as np\n",
    "# Создаем выборочные данные\n",
    "x = np.linspace(0, 2*np.pi, 100)\n",
    "y1 = np.sin(x)\n",
    "y2 = np.cos(x)\n",
    "y3 = np.sin(x)**2\n",
    "y4 = np.cos(x)**2\n",
    "# Создать фигуру и сетку подплощадок 2x2\n",
    "fig, axs = plt.subplots(2, 2)\n",
    "# Построить данные на каждой подплощадке\n",
    "axs[0, 0].plot(x, y1, color='blue')\n",
    "axs[0, 1].plot(x, y2, color='orange')\n",
    "axs[1, 0].plot(x, y3, color='green')\n",
    "axs[1, 1].plot(x, y4, color='red')\n",
    "# Добавляем заголовки и метки\n",
    "fig.suptitle('Matplotlib Subplots Example')\n",
    "axs[0, 0].set_title('Синус')\n",
    "axs[0, 1].set_title('Косинус')\n",
    "axs[1, 0].set_title('Синус в квадрате')\n",
    "axs[1, 1].set_title('Косинус в квадрате')\n",
    "for ax in axs.flat:\n",
    "    ax.set_xlabel('x')\n",
    "    ax.set_ylabel('y')\n",
    "# Настроить расстояние между субплощадками\n",
    "plt.tight_layout()\n",
    "# Показать рисунок\n",
    "plt.show()\n"
   ]
  },
  {
   "cell_type": "markdown",
   "metadata": {},
   "source": [
    "- `subplots` имеет два параметра: `number_of_rows` и `number_of_columns`, и в результате будет создана сетка из указанного количества строк и столбцов.\n",
    "\n",
    "- Все остается прежним, за исключением того, что здесь не нужно использовать `plt.plot`, а нужно использовать `axs[row_position, column_position]`. При этом для построения графика будет использоваться определенное положение строк и столбцов.\n",
    "\n",
    "- Здесь для установки меток x и y каждой фигуры необходимо использовать функции `set_xlabel()` и `set_ylabel()` соответственно.\n",
    "\n",
    "Как видите, мы создали четыре подграфа в одном рисунке, каждый из которых имеет свой заголовок и метки.\n",
    "\n",
    "Существует множество других параметров и методов, которые мы можем использовать для настройки наших подплощадок. Для получения более подробной информации и примеров можно обратиться к официальной документации"
   ]
  },
  {
   "cell_type": "markdown",
   "metadata": {},
   "source": [
    "## Упражнение\n",
    "\n",
    "Постройте с помощью subplots 4 графика:\n",
    "- Гипотрохоида\n",
    "- Циклоида\n",
    "- Трохоида\n",
    "- Эпитрохоида\n",
    "\n",
    "Подпишите графики. Укажите названия осей. Задайте легенду в виде подписей функций `y = sin(x)` (пример)"
   ]
  },
  {
   "cell_type": "code",
   "execution_count": null,
   "metadata": {},
   "outputs": [],
   "source": [
    "# code"
   ]
  },
  {
   "cell_type": "markdown",
   "metadata": {},
   "source": [
    "## Дополнительные построения"
   ]
  },
  {
   "cell_type": "code",
   "execution_count": null,
   "metadata": {},
   "outputs": [],
   "source": [
    "np.random.seed(19680801)  # seed the random number generator.\n",
    "data = {'a': np.arange(50),\n",
    "        'c': np.random.randint(0, 50, 50),\n",
    "        'd': np.random.randn(50)}\n",
    "data['b'] = data['a'] + 10 * np.random.randn(50)\n",
    "data['d'] = np.abs(data['d']) * 100\n",
    "\n",
    "fig, ax = plt.subplots(figsize=(5, 2.7), layout='constrained')\n",
    "ax.scatter('a', 'b', c='c', s='d', data=data)\n",
    "ax.set_xlabel('entry a')\n",
    "ax.set_ylabel('entry b')"
   ]
  },
  {
   "cell_type": "code",
   "execution_count": null,
   "metadata": {},
   "outputs": [],
   "source": [
    "X, Y = np.meshgrid(np.linspace(-3, 3, 128), np.linspace(-3, 3, 128))\n",
    "Z = (1 - X/2 + X**5 + Y**3) * np.exp(-X**2 - Y**2)\n",
    "\n",
    "fig, axs = plt.subplots(1, 2, layout='constrained')\n",
    "pc = axs[0].pcolormesh(X, Y, Z, vmin=-1, vmax=1, cmap='RdBu_r')\n",
    "fig.colorbar(pc, ax=axs[0])\n",
    "axs[0].set_title('pcolormesh()')\n",
    "\n",
    "co = axs[1].contourf(X, Y, Z, levels=np.linspace(-1.25, 1.25, 11))\n",
    "fig.colorbar(co, ax=axs[1])\n",
    "axs[1].set_title('contourf()')"
   ]
  },
  {
   "cell_type": "code",
   "execution_count": null,
   "metadata": {},
   "outputs": [],
   "source": []
  },
  {
   "cell_type": "code",
   "execution_count": null,
   "metadata": {},
   "outputs": [],
   "source": []
  },
  {
   "cell_type": "code",
   "execution_count": null,
   "metadata": {},
   "outputs": [],
   "source": []
  },
  {
   "cell_type": "code",
   "execution_count": null,
   "metadata": {},
   "outputs": [],
   "source": []
  },
  {
   "cell_type": "code",
   "execution_count": null,
   "metadata": {},
   "outputs": [],
   "source": []
  }
 ],
 "metadata": {
  "kernelspec": {
   "display_name": "Python 3 (ipykernel)",
   "language": "python",
   "name": "python3"
  },
  "language_info": {
   "codemirror_mode": {
    "name": "ipython",
    "version": 3
   },
   "file_extension": ".py",
   "mimetype": "text/x-python",
   "name": "python",
   "nbconvert_exporter": "python",
   "pygments_lexer": "ipython3",
   "version": "3.9.13"
  }
 },
 "nbformat": 4,
 "nbformat_minor": 4
}
