{
 "cells": [
  {
   "cell_type": "markdown",
   "id": "b091eebc-ba9d-45d2-805f-1734a5eee8e7",
   "metadata": {},
   "source": [
    "# Быстрый старт NumPy\n",
    "\n",
    "**Цели обучения**\n",
    "\n",
    "После прочтения вы будете уметь:\n",
    "- Понимать разницу между одно-, двух- и n-мерными массивами в NumPy;\n",
    "- Понимать, как применять некоторые операции линейной алгебры к n-мерным массивам без использования циклов for;\n",
    "\n",
    "## Основы\n",
    "Основным объектом NumPy является однородный многомерный массив. Он представляет собой таблицу элементов (обычно чисел) одного типа, индексируемых кортежем неотрицательных целых чисел. В NumPy размерности называются осями.\n",
    "\n",
    "Например, массив координат точки в трехмерном пространстве [1, 2, 1] имеет одну ось. Эта ось содержит 3 элемента, поэтому мы говорим, что ее длина равна 3.\n",
    "\n",
    "- Массивы с одной осью, как представленный выше, расположены на одной координатной оси."
   ]
  },
  {
   "cell_type": "markdown",
   "id": "5df1c9e5-fbd0-4b7a-8140-5240c81b3cb1",
   "metadata": {},
   "source": [
    "![title](img/axes_1.jpg)"
   ]
  },
  {
   "cell_type": "markdown",
   "id": "d3cf4a1f-7cf0-42ce-a41c-ffe6c7b55546",
   "metadata": {},
   "source": [
    "В примере, показанном ниже, массив имеет две оси. Длина первой оси равна 2, длина второй оси равна 3.\n",
    "\n",
    "Для простоты можете воспринимать оси двумерного массива как строки и столбцы, как это делается в Эксель. Например, у матрицы ниже 2 строки и 3 столбца. Однако держите в голове то, что это все-таки оси. В данном случае 2 оси можно представлять как координатную плоскость xy."
   ]
  },
  {
   "cell_type": "code",
   "execution_count": null,
   "id": "f0832d1a-27f4-4cee-91d0-af2fed48091c",
   "metadata": {},
   "outputs": [],
   "source": [
    "[[1., 0., 0.],\n",
    " [0., 1., 5.]]"
   ]
  },
  {
   "cell_type": "markdown",
   "id": "515d49a7-5151-4724-a01e-f7450dafbc7c",
   "metadata": {},
   "source": [
    "![title](img/axes_2.png)"
   ]
  },
  {
   "cell_type": "markdown",
   "id": "37523c97-691b-4959-bafd-41ddbac6a5bd",
   "metadata": {},
   "source": [
    "Класс массивов NumPy называется `ndarray`. Он также известен под псевдонимом `array`. Наиболее важными атрибутами объекта `ndarray` являются:\n",
    "\n",
    "- `ndarray.ndim`\n",
    "количество осей (размерностей) массива.\n",
    "\n",
    "- `ndarray.shape`\n",
    "размеры массива. Это кортеж целых чисел, указывающих размер массива в каждом измерении. Для матрицы с `n` строками и `m` столбцами `shape` будет иметь вид `(n,m)` (**данная пара чисел в круглых скобках в Python и называется кортежем**). Таким образом, длина кортежа `shape` равна количеству осей, `ndim`.\n",
    "\n",
    "- `ndarray.size`\n",
    "общее количество элементов массива. Оно равно произведению элементов `shape`.\n",
    "\n",
    "- `ndarray.dtype`\n",
    "объект, описывающий тип элементов массива. Для создания и задания `dtype` можно использовать стандартные типы Python. Кроме того, NumPy предоставляет собственные типы. В качестве примера можно привести `numpy.int32`, `numpy.int16` и `numpy.float64`. Вы уже сталкивались с типами данных в Python, рассматривая строки `string` и числа `int` / `float`\n",
    "\n",
    "- `ndarray.itemsize`\n",
    "размер в байтах каждого элемента массива. Например, массив элементов типа float64 имеет размер 8 (=64/8), а массив типа complex32 - 4 (=32/8). Это эквивалентно ndarray.dtype.itemsize.\n",
    "\n",
    "- `ndarray.data`\n",
    "буфер, содержащий собственно элементы массива. Обычно этот атрибут не нужен, поскольку доступ к элементам массива осуществляется с помощью средств индексации."
   ]
  },
  {
   "cell_type": "markdown",
   "id": "9d78f289-f582-4dda-8447-d104dd2bc0e4",
   "metadata": {},
   "source": [
    "### Пример"
   ]
  },
  {
   "cell_type": "code",
   "execution_count": null,
   "id": "a20beb7e-0971-4824-a746-0b5b26625010",
   "metadata": {},
   "outputs": [],
   "source": [
    "import numpy as np\n",
    "a = np.arange(15).reshape(3, 5)\n",
    "a"
   ]
  },
  {
   "cell_type": "code",
   "execution_count": null,
   "id": "4e70010d-0dc9-4b6d-87c5-20ffc5c70421",
   "metadata": {},
   "outputs": [],
   "source": [
    "a.shape"
   ]
  },
  {
   "cell_type": "code",
   "execution_count": null,
   "id": "9b587cf3-91b9-4fc7-8df6-55b48d028309",
   "metadata": {},
   "outputs": [],
   "source": [
    "a.size"
   ]
  },
  {
   "cell_type": "code",
   "execution_count": null,
   "id": "434af3b5-3b30-49b2-acb2-076ed4810d0e",
   "metadata": {},
   "outputs": [],
   "source": [
    "a.ndim"
   ]
  },
  {
   "cell_type": "code",
   "execution_count": null,
   "id": "0b5bb9da-d445-4fcb-92d3-181f8f8d8dd3",
   "metadata": {},
   "outputs": [],
   "source": [
    "a.dtype.name"
   ]
  },
  {
   "cell_type": "code",
   "execution_count": null,
   "id": "082e3bb5-f68e-4e63-9d58-047b55b0cc93",
   "metadata": {},
   "outputs": [],
   "source": [
    "a.itemsize"
   ]
  },
  {
   "cell_type": "code",
   "execution_count": null,
   "id": "d684d529-df44-4d7a-87b9-60244b516d3a",
   "metadata": {},
   "outputs": [],
   "source": [
    "type(a)"
   ]
  },
  {
   "cell_type": "code",
   "execution_count": null,
   "id": "4cbb93bb-e197-4233-aad3-450ed74f2a55",
   "metadata": {},
   "outputs": [],
   "source": [
    "b = np.array([6, 7, 8])\n",
    "b"
   ]
  },
  {
   "cell_type": "code",
   "execution_count": null,
   "id": "ab803d03-7e8a-4ed6-a499-1888e478f455",
   "metadata": {},
   "outputs": [],
   "source": [
    "b.shape"
   ]
  },
  {
   "cell_type": "code",
   "execution_count": null,
   "id": "fb32ca54-4025-4360-80f3-e47d08e39d4c",
   "metadata": {
    "scrolled": true
   },
   "outputs": [],
   "source": [
    "b.size"
   ]
  },
  {
   "cell_type": "markdown",
   "id": "a15a5ee2-4dc0-4dd2-8fbd-96d8468ac6be",
   "metadata": {},
   "source": [
    "## Создание массивов\n",
    "Существует несколько способов создания массивов.\n",
    "\n",
    "Например, можно создать массив из обычного `списка` или кортежа Python с помощью функции array. Тип результирующего массива определяется по типу элементов в последовательности."
   ]
  },
  {
   "cell_type": "markdown",
   "id": "31fd1013-01e7-4c87-86f3-949e9a9ce31d",
   "metadata": {},
   "source": [
    "### Небольшое лирическое отступление\n",
    "\n",
    "В Python хранение нескольких величин в одной переменной может быть реализовано с помощью `списков`. Они позволяют, например, сохранить ваш список дел на день, создав переменную to_do, или же записать фильмы, которые вы хотели бы посмотреть в ближайшем будущем `films`"
   ]
  },
  {
   "cell_type": "code",
   "execution_count": null,
   "id": "6879d03e-686c-4fa3-821c-c092dcea1ac9",
   "metadata": {},
   "outputs": [],
   "source": [
    "to_do = ['выгулять собаку', 'помыть посуду', 'поспать']\n",
    "to_do"
   ]
  },
  {
   "cell_type": "code",
   "execution_count": null,
   "id": "9328f351-6af7-4281-9a0a-b4e6dbf7f645",
   "metadata": {
    "scrolled": true
   },
   "outputs": [],
   "source": [
    "films = [\n",
    "    'Титаник',\n",
    "    'Она',\n",
    "    'Джокер'\n",
    "]\n",
    "\n",
    "print(films)"
   ]
  },
  {
   "cell_type": "code",
   "execution_count": null,
   "id": "f575ee92-a950-4968-bcb2-13d6184f1d07",
   "metadata": {},
   "outputs": [],
   "source": [
    "len(films) # длина списка / количество элементов"
   ]
  },
  {
   "cell_type": "markdown",
   "id": "2059504d-7c45-4791-9e4d-84ad3706dd3c",
   "metadata": {},
   "source": [
    "Списки удобны, например, когда вам требуется работать с однородными данными. Например, у вас есть список значений x для функции y = x^2, а вы хотите получить вывод значений y для каждого x. В данном случае нам пригодится комбинация циклов и списков. Используя цикл, можно перебрать каждый элемент списка x, использовав следующую конструкцию **for** (`для каждого элемента в x:`)"
   ]
  },
  {
   "cell_type": "code",
   "execution_count": null,
   "id": "e52b2922-1172-4528-9cba-c91de21b8f34",
   "metadata": {
    "scrolled": true
   },
   "outputs": [],
   "source": [
    "x = [1, 2, 3, 4, 5]\n",
    "for element in x:\n",
    "    print(element ** 2)"
   ]
  },
  {
   "cell_type": "markdown",
   "id": "8dc95320-6f52-45eb-afe0-7393da05e239",
   "metadata": {},
   "source": [
    "Также можно брать конкретный элемент списка. Например, чтобы взять второй фильм \"Она\" из списка `films` нужно написать следующее"
   ]
  },
  {
   "cell_type": "code",
   "execution_count": null,
   "id": "05d7c192-8376-44dc-9406-1ef55a5ca113",
   "metadata": {},
   "outputs": [],
   "source": [
    "films[1]"
   ]
  },
  {
   "cell_type": "markdown",
   "id": "516e93bc-f67a-4e49-a5f6-8ce1f785e188",
   "metadata": {},
   "source": [
    "Обратите внимание, что в скобках указывается 1. Не 2. Это связано с тем, что индексирование идет с 0. В данном случае, в списке `films` содержатся элементы с индексами `0, 1, 2`.\n",
    "\n",
    "Можно менять значения по индексу."
   ]
  },
  {
   "cell_type": "code",
   "execution_count": null,
   "id": "1a327e9c-8c8f-4238-a5a5-98f13aaa2f2d",
   "metadata": {},
   "outputs": [],
   "source": [
    "films[1] = 'Барби'"
   ]
  },
  {
   "cell_type": "code",
   "execution_count": null,
   "id": "46354582-b3e6-48fc-a290-22e52e9c2354",
   "metadata": {},
   "outputs": [],
   "source": [
    "films"
   ]
  },
  {
   "cell_type": "markdown",
   "id": "48a36dee-0d4e-48e9-9533-b950387cd92b",
   "metadata": {},
   "source": [
    "На данном этапе это все, что нам нужно знать о списках. Продолжим работу над созданием массивов в Numpy\n",
    "\n",
    "---"
   ]
  },
  {
   "cell_type": "code",
   "execution_count": null,
   "id": "57b3573c-0b8e-40dd-b621-63a7c43ea084",
   "metadata": {},
   "outputs": [],
   "source": [
    "import numpy as np\n",
    "# передаем np.array список [2, 3, 4]\n",
    "a = np.array([2, 3, 4])\n",
    "a"
   ]
  },
  {
   "cell_type": "code",
   "execution_count": null,
   "id": "69a0ca34-2453-49cf-8970-88a5da4b96bc",
   "metadata": {},
   "outputs": [],
   "source": [
    "a.dtype"
   ]
  },
  {
   "cell_type": "code",
   "execution_count": null,
   "id": "096fdf59-03cc-40c2-bbe2-aa236af6606f",
   "metadata": {},
   "outputs": [],
   "source": [
    "b = np.array([1.2, 3.5, 5.])\n",
    "b"
   ]
  },
  {
   "cell_type": "code",
   "execution_count": null,
   "id": "62cb69ea-db2d-4697-814a-2e006650da90",
   "metadata": {},
   "outputs": [],
   "source": [
    "b.dtype"
   ]
  },
  {
   "cell_type": "markdown",
   "id": "7a36b73e-0dfe-41f6-9641-fd8c5d2d887a",
   "metadata": {},
   "source": [
    "**Создадим двумерный массив**"
   ]
  },
  {
   "cell_type": "markdown",
   "id": "23529867-a604-4a45-849c-003cca5b0010",
   "metadata": {},
   "source": [
    "array преобразует последовательности последовательностей в двумерные массивы, последовательности последовательностей в трехмерные массивы и т.д."
   ]
  },
  {
   "cell_type": "code",
   "execution_count": null,
   "id": "922ffdb7-ab77-4237-bc54-8d1b9493e83a",
   "metadata": {
    "scrolled": true
   },
   "outputs": [],
   "source": [
    "b = np.array([(1.5, 2, 3), (4, 5, 6)])\n",
    "b"
   ]
  },
  {
   "cell_type": "markdown",
   "id": "ad44ded9-4e35-4429-8928-e598240d10e0",
   "metadata": {},
   "source": [
    "The type of the array can also be explicitly specified at creation time:"
   ]
  },
  {
   "cell_type": "code",
   "execution_count": null,
   "id": "71f32e5e-24ce-4e91-8f26-5b46a561a78b",
   "metadata": {},
   "outputs": [],
   "source": [
    "b = np.array([(1.5, 2, 3), (4, 5, 6)], dtype='int') # урежем все числа до целых, задав явно тип значений в массиве\n",
    "b"
   ]
  },
  {
   "cell_type": "markdown",
   "id": "421aba11-ec6c-4278-b548-9ed278d5080a",
   "metadata": {},
   "source": [
    "Часто бывает так, что элементы массива изначально неизвестны, но известен его размер. Поэтому NumPy предлагает несколько функций для создания массивов с начальным содержимым. Это позволяет минимизировать необходимость изменения размера массивов, что является дорогостоящей операцией.\n",
    "\n",
    "Функция `zeros` создает массив, заполненный нулями, функция `ones` - массив, заполненный единицами, а функция `empty` - массив, начальное содержимое которого является случайным и зависит от состояния памяти. По умолчанию `dtype` создаваемого массива - `float64`, но он может быть указан через ключевое слово аргумента `dtype`."
   ]
  },
  {
   "cell_type": "code",
   "execution_count": null,
   "id": "c023ee3c-c461-41bf-927d-61bc497bc60a",
   "metadata": {},
   "outputs": [],
   "source": [
    "np.zeros((3, 4))"
   ]
  },
  {
   "cell_type": "code",
   "execution_count": null,
   "id": "edf47ad2-389f-4d63-a5a1-1c8d115bbcca",
   "metadata": {},
   "outputs": [],
   "source": [
    "np.ones((2, 3, 4), dtype=np.int16)"
   ]
  },
  {
   "cell_type": "code",
   "execution_count": null,
   "id": "3491c368-9a83-49ef-ba33-ebb664795acc",
   "metadata": {},
   "outputs": [],
   "source": [
    "np.empty((2, 3)) # значения в массиве случайны, они берутся из того, что лежало в свободных ячейках памяти компьютера до создания массива"
   ]
  },
  {
   "cell_type": "markdown",
   "id": "a36da951-ad13-42a0-84f2-55bc4e46c067",
   "metadata": {},
   "source": [
    "Для создания последовательностей чисел в NumPy предусмотрена функция `arange`, которая аналогична встроенной в Python функции `range`, но возвращает массив."
   ]
  },
  {
   "cell_type": "code",
   "execution_count": null,
   "id": "de3e5ec0-3171-4c9c-81f6-2eb1bdbcff12",
   "metadata": {},
   "outputs": [],
   "source": [
    "np.arange(10, 30, 5) # от 10 до 30 с шагом в 5"
   ]
  },
  {
   "cell_type": "code",
   "execution_count": null,
   "id": "55800c5e-d143-4d95-b50e-fc29cc7be25a",
   "metadata": {},
   "outputs": [],
   "source": [
    "np.arange(0, 2, 0.3)"
   ]
  },
  {
   "cell_type": "markdown",
   "id": "70230897-9f0d-4a84-8aa7-a9a0f96ce71c",
   "metadata": {},
   "source": [
    "Когда arange используется с аргументами с плавающей точкой, предсказать количество полученных элементов обычно невозможно из-за конечной точности плавающей точки. Поэтому обычно вместо шага лучше использовать функцию `linspace`, принимающую в качестве аргумента нужное нам количество элементов:"
   ]
  },
  {
   "cell_type": "code",
   "execution_count": null,
   "id": "a9fde46f-4bb4-462a-8ee9-9f08da7e4cd6",
   "metadata": {},
   "outputs": [],
   "source": [
    "from numpy import pi\n",
    "np.linspace(0, 2, 9) # 9 чисел от 0 до 2"
   ]
  },
  {
   "cell_type": "code",
   "execution_count": null,
   "id": "3594ea78-c2ec-4fb0-9e68-b6753847e1a9",
   "metadata": {},
   "outputs": [],
   "source": [
    "x = np.linspace(0, 2 * pi, 10) # получаем 10 значений x\n",
    "f = np.sin(x) # считаем от 10 значений x 10 значений y (синус от x)\n",
    "f"
   ]
  },
  {
   "cell_type": "markdown",
   "id": "aa905a27-b476-411f-9bc4-80c5fcae3ff6",
   "metadata": {},
   "source": [
    "## Печать массивов\n",
    "При печати массива NumPy отображает его аналогично вложенным спискам, но со следующим расположением:\n",
    "\n",
    "- последняя ось выводится слева направо,\n",
    "\n",
    "- предпоследняя - сверху вниз,\n",
    "\n",
    "- остальные также выводятся сверху вниз, причем каждый фрагмент отделяется от следующего пустой строкой.\n",
    "\n",
    "Одномерные массивы выводятся в виде строк, двумерные - в виде матриц, трехмерные - в виде списков матриц."
   ]
  },
  {
   "cell_type": "code",
   "execution_count": null,
   "id": "b32dfe6e-f45a-4522-8f0a-dfc788b763fa",
   "metadata": {},
   "outputs": [],
   "source": [
    "a = np.arange(6)                    # 1d array\n",
    "print(a)"
   ]
  },
  {
   "cell_type": "code",
   "execution_count": null,
   "id": "dec0ec03-daa7-4029-8411-7362d92a09d1",
   "metadata": {},
   "outputs": [],
   "source": [
    "b = np.arange(12).reshape(4, 3)     # 2d array\n",
    "print(b)"
   ]
  },
  {
   "cell_type": "code",
   "execution_count": null,
   "id": "ccb0713e-786d-47b3-84e3-a8fd1401318f",
   "metadata": {},
   "outputs": [],
   "source": [
    "c = np.arange(24).reshape(2, 3, 4)  # 3d array\n",
    "print(c)"
   ]
  },
  {
   "cell_type": "markdown",
   "id": "1b990e72-9145-4365-9d34-dec28ebec545",
   "metadata": {},
   "source": [
    "Если массив слишком велик для печати, NumPy автоматически пропускает центральную часть массива и печатает только его углы:"
   ]
  },
  {
   "cell_type": "code",
   "execution_count": null,
   "id": "3a6cb56a-ef83-4bf0-8acc-5262a2ed51a9",
   "metadata": {},
   "outputs": [],
   "source": [
    "print(np.arange(10000))"
   ]
  },
  {
   "cell_type": "code",
   "execution_count": null,
   "id": "c6b1129e-0585-4bca-b129-65da9e99cb16",
   "metadata": {},
   "outputs": [],
   "source": [
    "print(np.arange(10000).reshape(100, 100))"
   ]
  },
  {
   "cell_type": "markdown",
   "id": "95a83781-87c9-4ee6-8330-a5549448bc16",
   "metadata": {},
   "source": [
    "Чтобы отключить это поведение и заставить NumPy печатать весь массив, можно изменить параметры печати с помощью set_printoptions.\n",
    "\n",
    "`import sys`\n",
    "\n",
    "`np.set_printoptions(threshold=sys.maxsize)`"
   ]
  },
  {
   "cell_type": "markdown",
   "id": "d0a7744e-7160-4c9c-9e6e-6550f758f581",
   "metadata": {},
   "source": [
    "## Основные операции\n",
    "Арифметические операторы над массивами применяются поэлементно. Создается новый массив, который заполняется результатом."
   ]
  },
  {
   "cell_type": "code",
   "execution_count": null,
   "id": "884459ea-9e97-4bd3-9762-b6980c13a586",
   "metadata": {},
   "outputs": [],
   "source": [
    "a = np.array([20, 30, 40, 50])\n",
    "b = np.arange(4)\n",
    "print(a)\n",
    "print(b)"
   ]
  },
  {
   "cell_type": "code",
   "execution_count": null,
   "id": "dadc2eec-6b72-4841-9fa7-a3fce30ed736",
   "metadata": {},
   "outputs": [],
   "source": [
    "c = a - b\n",
    "c"
   ]
  },
  {
   "cell_type": "code",
   "execution_count": null,
   "id": "411e8802-2f28-44b6-8b14-d460ea08d218",
   "metadata": {},
   "outputs": [],
   "source": [
    "b**2"
   ]
  },
  {
   "cell_type": "code",
   "execution_count": null,
   "id": "71ad2e5e-b8ed-420f-a2d9-d175b5726909",
   "metadata": {},
   "outputs": [],
   "source": [
    "10 * np.sin(a)"
   ]
  },
  {
   "cell_type": "code",
   "execution_count": null,
   "id": "b5a09600-aae7-4274-b7d0-d78fd10ba25b",
   "metadata": {},
   "outputs": [],
   "source": [
    "a < 35"
   ]
  },
  {
   "cell_type": "markdown",
   "id": "89141821-0390-4f2e-9629-1cfa5ea2c016",
   "metadata": {},
   "source": [
    "В отличие от многих матричных языков, оператор произведения * действует в массивах NumPy поэлементно. Матричное произведение может быть выполнено с помощью оператора @ (в python >=3.5) или функции или метода dot:"
   ]
  },
  {
   "cell_type": "code",
   "execution_count": null,
   "id": "ae1fe170-5dac-46e4-b856-0acb434351f1",
   "metadata": {},
   "outputs": [],
   "source": [
    "A = np.array([[1, 1],\n",
    "              [0, 1]])\n",
    "B = np.array([[2, 0],\n",
    "              [3, 4]])\n",
    "A * B     # поэлементно"
   ]
  },
  {
   "cell_type": "markdown",
   "id": "4f8946c5-0de6-4d7e-8952-16d1d2297ac3",
   "metadata": {},
   "source": [
    "Произведение матриц как это принято делать в линейной алгебре представлено ниже. Каждый элемент формируется суммой произведений элементов строки первой матрицы (левой) на элементы столбца вторйо матрицы (справа).\n",
    "\n",
    "Например, 19 есть 1 * 5 + 2 * 7. 50 = 3 * 6 + 4 * 8.\n",
    "\n",
    "Размерность итоговой матрицы есть (количество строк первой, количество столбцов второй матриц)\n",
    "\n",
    "Более подробно с умножением матриц можно познакомиться на [странице по ссылке](https://ru.wikipedia.org/wiki/%D0%A3%D0%BC%D0%BD%D0%BE%D0%B6%D0%B5%D0%BD%D0%B8%D0%B5_%D0%BC%D0%B0%D1%82%D1%80%D0%B8%D1%86).\n",
    "\n",
    "В том, как происходит перемножение матриц, нет никакого сакрального смысла. Это просто правило, которое стоит запомнить."
   ]
  },
  {
   "cell_type": "markdown",
   "id": "4f808cd4-e8fb-43dc-bcba-19c1e6f86bb9",
   "metadata": {},
   "source": [
    "![title](img/lin_alg.jpg)"
   ]
  },
  {
   "cell_type": "code",
   "execution_count": null,
   "id": "be0cae0c-972e-4c1a-9436-70332c3a8fe6",
   "metadata": {},
   "outputs": [],
   "source": [
    "print(A)\n",
    "print(B)\n",
    "A @ B"
   ]
  },
  {
   "cell_type": "markdown",
   "id": "ac1a324f-953e-476c-8690-604c0673065e",
   "metadata": {},
   "source": [
    "![title](img/mult_mat.png)"
   ]
  },
  {
   "cell_type": "code",
   "execution_count": null,
   "id": "a6b81ec9-c7ba-46d0-9b76-b18aa56678d7",
   "metadata": {},
   "outputs": [],
   "source": [
    "A.dot(B)"
   ]
  },
  {
   "cell_type": "markdown",
   "id": "f30a722a-64be-4417-b097-e7e9651d6d79",
   "metadata": {},
   "source": [
    "Некоторые операции, такие как `+=` и `*=`, действуют на месте, изменяя существующий массив, а не создавая новый."
   ]
  },
  {
   "cell_type": "code",
   "execution_count": null,
   "id": "a9cd64ef-54cc-4e0a-90b3-20ba9ccff3c7",
   "metadata": {},
   "outputs": [],
   "source": [
    "rg = np.random.default_rng(1)  # создать экземпляр генератора случайных чисел по умолчанию\n",
    "a = np.ones((2, 3), dtype=int)\n",
    "b = rg.random((2, 3))\n",
    "a *= 3\n",
    "print(a)"
   ]
  },
  {
   "cell_type": "code",
   "execution_count": null,
   "id": "d9c6d80c-08b9-4255-95f9-b287e3229f3d",
   "metadata": {},
   "outputs": [],
   "source": [
    "print(b)"
   ]
  },
  {
   "cell_type": "code",
   "execution_count": null,
   "id": "1c830065-9197-4e36-abc2-9c2d93a2a445",
   "metadata": {},
   "outputs": [],
   "source": [
    "b += a\n",
    "b"
   ]
  },
  {
   "cell_type": "markdown",
   "id": "08f0000f-e833-462c-892b-4b4bf92f72da",
   "metadata": {},
   "source": [
    "Многие унарные операции, например, вычисление суммы всех элементов массива, реализуются как методы класса `ndarray`"
   ]
  },
  {
   "cell_type": "code",
   "execution_count": null,
   "id": "1f43b55e-b2fc-407f-94ba-c05c941f5911",
   "metadata": {},
   "outputs": [],
   "source": [
    "a = rg.random((2, 3))\n",
    "a"
   ]
  },
  {
   "cell_type": "code",
   "execution_count": null,
   "id": "1faaeaf4-a649-4859-9c1f-09e241d5fb53",
   "metadata": {},
   "outputs": [],
   "source": [
    "a.sum()"
   ]
  },
  {
   "cell_type": "code",
   "execution_count": null,
   "id": "ada9ef06-d49b-4df1-bef9-450538abcb22",
   "metadata": {},
   "outputs": [],
   "source": [
    "a.min()"
   ]
  },
  {
   "cell_type": "code",
   "execution_count": null,
   "id": "c05c077b-0637-4cb1-ba3c-af83fcbb7dec",
   "metadata": {},
   "outputs": [],
   "source": [
    "a.max()"
   ]
  },
  {
   "cell_type": "markdown",
   "id": "6413cfff-fde2-4bc4-b8c3-bbbd4d691415",
   "metadata": {},
   "source": [
    "По умолчанию эти операции применяются к массиву так, как если бы он был списком чисел, независимо от его формы. Однако, указав параметр `axis`, можно применить операцию вдоль указанной оси массива:"
   ]
  },
  {
   "cell_type": "code",
   "execution_count": null,
   "id": "b42ca28f-f57a-44fa-9f4b-af1267787b94",
   "metadata": {},
   "outputs": [],
   "source": [
    "b = np.arange(12).reshape(3, 4)\n",
    "b"
   ]
  },
  {
   "cell_type": "code",
   "execution_count": null,
   "id": "fa5e995e-08ec-41a8-a7ad-a175cf15a06d",
   "metadata": {},
   "outputs": [],
   "source": [
    "b.sum(axis=0) # сумма по колонкам"
   ]
  },
  {
   "cell_type": "code",
   "execution_count": null,
   "id": "1a9519e6-1ce5-486e-b38d-d33d3efd3969",
   "metadata": {},
   "outputs": [],
   "source": [
    "b.min(axis=1) # по рядам"
   ]
  },
  {
   "cell_type": "code",
   "execution_count": null,
   "id": "fa165a82-bc4f-4874-9c72-334afb45d83d",
   "metadata": {},
   "outputs": [],
   "source": [
    "b.cumsum(axis=1) # кумулятивная сумма по каждой строке"
   ]
  },
  {
   "cell_type": "markdown",
   "id": "c1a075fc-9912-4702-81c3-421e4a3b9f18",
   "metadata": {},
   "source": [
    "## Универсальные функции\n",
    "NumPy предоставляет привычные математические функции, такие как `sin`, `cos` и `exp`. В NumPy они называются \"универсальными функциями\" (`ufunc`). В NumPy эти функции поэлементно оперируют с массивом, создавая на выходе массив."
   ]
  },
  {
   "cell_type": "code",
   "execution_count": null,
   "id": "0d748c4e-2945-4281-91ee-82ce5fbc1e1a",
   "metadata": {},
   "outputs": [],
   "source": [
    "B = np.arange(5)\n",
    "B"
   ]
  },
  {
   "cell_type": "code",
   "execution_count": null,
   "id": "d3a81a3b-b963-415c-8d15-1bf9b306bfba",
   "metadata": {},
   "outputs": [],
   "source": [
    "np.exp(B)"
   ]
  },
  {
   "cell_type": "code",
   "execution_count": null,
   "id": "fd908640-6c5a-4bde-98ec-8dc93557967a",
   "metadata": {},
   "outputs": [],
   "source": [
    "np.sqrt(B)"
   ]
  },
  {
   "cell_type": "code",
   "execution_count": null,
   "id": "d6007e51-e6ef-40f6-946f-306375fa6b80",
   "metadata": {},
   "outputs": [],
   "source": [
    "np.sin(B)"
   ]
  },
  {
   "cell_type": "markdown",
   "id": "446f5126-7534-4a9a-be37-624f71136a23",
   "metadata": {},
   "source": [
    "## Индексирование, срез и итерация\n",
    "Одномерные массивы можно индексировать, нарезать и итерировать, подобно спискам и другим последовательностям Python."
   ]
  },
  {
   "cell_type": "code",
   "execution_count": null,
   "id": "c059598c-ec0c-406f-9251-19660af2ec97",
   "metadata": {},
   "outputs": [],
   "source": [
    "a = np.arange(10)**3\n",
    "a"
   ]
  },
  {
   "cell_type": "code",
   "execution_count": null,
   "id": "ab35050b-6d73-45bb-8e00-44040b620226",
   "metadata": {
    "scrolled": true
   },
   "outputs": [],
   "source": [
    "a[2] # берем элемент с индексом 2"
   ]
  },
  {
   "cell_type": "markdown",
   "id": "5364a50f-c5e0-4329-b307-e45e635ae804",
   "metadata": {},
   "source": [
    "**Обратите внимание, что индексация массива стартует с 0, поэтому был взят третий элемент, равный 8, а не второй элемент, равный 1** "
   ]
  },
  {
   "cell_type": "code",
   "execution_count": null,
   "id": "9e7ef268-8e72-4706-b86f-da3d5a8ff2ed",
   "metadata": {},
   "outputs": [],
   "source": [
    "a[2:5] # срез со 2 по 5 не включая индекс 5"
   ]
  },
  {
   "cell_type": "code",
   "execution_count": null,
   "id": "4b8e7e03-5f30-44e5-abb0-9edaf8352392",
   "metadata": {},
   "outputs": [],
   "source": [
    "a[:6:2] = 1000 # замена каждого второго элемента на 1000 вплоть до 6 индекса, далее 6 индекса ничего не меняется\n",
    "a"
   ]
  },
  {
   "cell_type": "code",
   "execution_count": null,
   "id": "bb2b3b92-2c11-4e98-9742-2652efcb6645",
   "metadata": {},
   "outputs": [],
   "source": [
    "a[::-1] # перевернутый a / обратный порядок элементов"
   ]
  },
  {
   "cell_type": "code",
   "execution_count": null,
   "id": "d466c4aa-bb28-45d3-8728-ae95bf1a0d49",
   "metadata": {},
   "outputs": [],
   "source": [
    "for i in a:\n",
    "    print(i**(1 / 3.)) # кубические корни из каждого элемента a"
   ]
  },
  {
   "cell_type": "markdown",
   "id": "d308a300-c283-44a2-a4bb-4e57405e7744",
   "metadata": {},
   "source": [
    "Многомерные массивы могут иметь по одному индексу на ось. Эти индексы задаются в виде кортежа, разделенного запятыми:"
   ]
  },
  {
   "cell_type": "code",
   "execution_count": null,
   "id": "963e9574-7a0e-4804-ae96-0cb2064596ac",
   "metadata": {},
   "outputs": [],
   "source": [
    "b =np.arange(20).reshape(5, 4)\n",
    "b"
   ]
  },
  {
   "cell_type": "code",
   "execution_count": null,
   "id": "4e9b2bbe-863b-490a-818c-dd599b2d84f7",
   "metadata": {},
   "outputs": [],
   "source": [
    "b[2, 3]"
   ]
  },
  {
   "cell_type": "code",
   "execution_count": null,
   "id": "c3ba41be-9950-4dd2-a758-2a113082a272",
   "metadata": {},
   "outputs": [],
   "source": [
    "b[0:5, 1] # каждая строка второго столбца b"
   ]
  },
  {
   "cell_type": "code",
   "execution_count": null,
   "id": "5f443ab0-1709-47b5-b4cc-03df6fd2cdff",
   "metadata": {
    "scrolled": true
   },
   "outputs": [],
   "source": [
    "b[1:3, :] # каждый столбец второй и третьей строки b"
   ]
  },
  {
   "cell_type": "markdown",
   "id": "5cc958d7-130e-429a-96a0-46f7ad18877c",
   "metadata": {},
   "source": [
    "Если индексов предоставлено меньше, чем число осей, то недостающие индексы считаются полными срезами:"
   ]
  },
  {
   "cell_type": "code",
   "execution_count": null,
   "id": "dbac48e7-a4e8-4b40-8e26-157fe16c173c",
   "metadata": {},
   "outputs": [],
   "source": [
    "b[-1] # последний ряд. Эквивалентно b[-1, :]"
   ]
  },
  {
   "cell_type": "markdown",
   "id": "cf2b4bce-df24-449a-97e9-ab20a314396c",
   "metadata": {},
   "source": [
    "## Копии и представления"
   ]
  },
  {
   "cell_type": "markdown",
   "id": "30f5b571-8cc3-4dfe-b622-60692db9eef7",
   "metadata": {},
   "source": [
    "При работе с массивами и манипулировании ими их данные иногда копируются в новый массив, а иногда нет. Это часто вызывает недоумение у начинающих. Существует три случая:\n",
    "\n",
    "### Полное отсутствие копирования\n",
    "Простые присваивания не производят копирования объектов и их данных."
   ]
  },
  {
   "cell_type": "code",
   "execution_count": null,
   "id": "2fa3ce7c-59af-4bfd-a016-4e280fa7006a",
   "metadata": {},
   "outputs": [],
   "source": [
    "a = np.array([[ 0, 1, 2, 3],\n",
    "              [ 4, 5, 6, 7],\n",
    "              [ 8, 9, 10, 11]])\n",
    "b = a # новый объект не создается\n",
    "b is a"
   ]
  },
  {
   "cell_type": "code",
   "execution_count": null,
   "id": "c2303aa3-6d27-4422-93d9-e42ccced42ec",
   "metadata": {},
   "outputs": [],
   "source": [
    "print(a)\n",
    "print(b)"
   ]
  },
  {
   "cell_type": "code",
   "execution_count": null,
   "id": "14c2dad1-da4a-4514-9b12-5d8bc20e3bce",
   "metadata": {},
   "outputs": [],
   "source": [
    "a[0, :] = 555\n",
    "a"
   ]
  },
  {
   "cell_type": "code",
   "execution_count": null,
   "id": "a0c837d4-50e4-4bad-ad61-c6b37932747a",
   "metadata": {},
   "outputs": [],
   "source": [
    "b # b ссылается на ту же область памяти, что и a, поэтому все изменения a отражаются на b, а изменения в b отражаются на a"
   ]
  },
  {
   "cell_type": "markdown",
   "id": "b31e4047-a345-48bf-9797-8d06827fed56",
   "metadata": {},
   "source": [
    "## Представление или неглубокое копирование\n",
    "Различные объекты массива могут использовать одни и те же данные. Метод `view` создает новый объект массива, который просматривает те же данные."
   ]
  },
  {
   "cell_type": "code",
   "execution_count": null,
   "id": "ac0114dc-77f7-4516-9f5a-06f2ea8640d2",
   "metadata": {},
   "outputs": [],
   "source": [
    "c = a.view()\n",
    "c is a"
   ]
  },
  {
   "cell_type": "code",
   "execution_count": null,
   "id": "a1149241-aba3-4421-880b-31da344ae268",
   "metadata": {},
   "outputs": [],
   "source": [
    "c = c.reshape((2, 6))  # форма a не меняется\n",
    "print(a)\n",
    "print('-' * 50)\n",
    "print(c)"
   ]
  },
  {
   "cell_type": "code",
   "execution_count": null,
   "id": "2b7a7874-67d1-45e1-8529-5ab4e364f610",
   "metadata": {},
   "outputs": [],
   "source": [
    "c[0, 4] = 1234 # изменения в представлении c отразятся на массиве a"
   ]
  },
  {
   "cell_type": "code",
   "execution_count": null,
   "id": "a3dfaf6a-f382-4df5-8953-206ebc899205",
   "metadata": {},
   "outputs": [],
   "source": [
    "a # элемент 1234 теперь есть в массиве a"
   ]
  },
  {
   "cell_type": "markdown",
   "id": "64e81a87-abc1-4487-a5b3-cc119aae47d1",
   "metadata": {},
   "source": [
    "## Глубокое копирование\n",
    "Метод `copy` создает полную копию массива и его данных."
   ]
  },
  {
   "cell_type": "code",
   "execution_count": null,
   "id": "b12a9cc0-dc09-424a-8558-0554b7d1b9e2",
   "metadata": {},
   "outputs": [],
   "source": [
    "d = a.copy() # создается новый объект массива с новыми данными\n",
    "d is a"
   ]
  },
  {
   "cell_type": "code",
   "execution_count": null,
   "id": "b4711787-e254-475c-a682-93354d549965",
   "metadata": {},
   "outputs": [],
   "source": [
    "d.base is a # d не имеет ничего общего с a"
   ]
  },
  {
   "cell_type": "code",
   "execution_count": null,
   "id": "eba50dff-4911-4c70-8598-171a6cf34c81",
   "metadata": {},
   "outputs": [],
   "source": [
    "d[0, 0] = 9999\n",
    "d"
   ]
  },
  {
   "cell_type": "code",
   "execution_count": null,
   "id": "c53ca30e-cf5c-43c9-a66e-b0e1aab8dcfb",
   "metadata": {},
   "outputs": [],
   "source": [
    "a # элементы a не меняются, так как у массива а нет связи с массивом d"
   ]
  },
  {
   "cell_type": "markdown",
   "id": "c3fd1d8e-e3a5-4a4e-8ffb-e44140fb1115",
   "metadata": {},
   "source": [
    "## Расширенное индексирование и трюки с индексами\n",
    "NumPy предлагает больше возможностей индексирования, чем обычные последовательности Python. Помимо индексации по целым числам и срезам, как мы видели ранее, массивы можно индексировать по массивам целых чисел и массивам булевых чисел."
   ]
  },
  {
   "cell_type": "markdown",
   "id": "f111fdfe-84da-40b3-9aaf-3ed713b131d9",
   "metadata": {},
   "source": [
    "### Индексирование с помощью массивов индексов"
   ]
  },
  {
   "cell_type": "code",
   "execution_count": null,
   "id": "c06e4c0c-c87c-4ca9-9947-dfe9d0cda3c5",
   "metadata": {},
   "outputs": [],
   "source": [
    "a = np.arange(12)**2 # первые 12 квадратных чисел\n",
    "print('a = ', a)\n",
    "i = np.array([1, 1, 3, 8, 5]) # массив индексов\n",
    "print('i = ', i)\n",
    "print('элементы на позициях a[i] = ', a[i]) # элементы `a` в позициях `i`"
   ]
  },
  {
   "cell_type": "code",
   "execution_count": null,
   "id": "f7310786-bd50-4900-b935-e42804c778a8",
   "metadata": {
    "scrolled": true
   },
   "outputs": [],
   "source": [
    "j = np.array([[3, 4], [9, 7]]) # двумерный массив индексов\n",
    "a[j] # той же формы, что и `j`."
   ]
  },
  {
   "cell_type": "markdown",
   "id": "f5c37739-e515-441f-9a28-833b10cecd9b",
   "metadata": {},
   "source": [
    "Также можно использовать индексацию с массивами в качестве цели для присвоения:"
   ]
  },
  {
   "cell_type": "code",
   "execution_count": null,
   "id": "fa388bfc-be55-4300-b0c3-47939ce2d23e",
   "metadata": {},
   "outputs": [],
   "source": [
    "a = np.arange(5)\n",
    "a"
   ]
  },
  {
   "cell_type": "code",
   "execution_count": null,
   "id": "fdbaa2a7-7175-4860-8f00-989aa7efaace",
   "metadata": {},
   "outputs": [],
   "source": [
    "a[[1, 3, 4]] = 0 # присваиваем индексам 1, 3, 4 значение 0\n",
    "a"
   ]
  },
  {
   "cell_type": "markdown",
   "id": "aa38f42d-43a7-4c89-b1dc-abd030654d61",
   "metadata": {},
   "source": [
    "### Индексирование с помощью булевых массивов"
   ]
  },
  {
   "cell_type": "markdown",
   "id": "5afedbe6-78f8-4861-9dca-63589de6b6d8",
   "metadata": {},
   "source": [
    "Когда мы индексируем массивы с помощью массивов (целочисленных) индексов, мы предоставляем список индексов для выбора. С булевыми индексами подход другой: мы явно выбираем, какие элементы массива нам нужны, а какие нет.\n",
    "\n",
    "Наиболее естественным способом индексации булевых индексов является использование булевых массивов, имеющих ту же форму, что и исходный массив:"
   ]
  },
  {
   "cell_type": "code",
   "execution_count": null,
   "id": "052f66be-c80d-40b9-b16b-d03d1fc1c7a3",
   "metadata": {},
   "outputs": [],
   "source": [
    "a = np.arange(12).reshape(3, 4)\n",
    "a"
   ]
  },
  {
   "cell_type": "code",
   "execution_count": null,
   "id": "c19d1fdf-68d9-4245-931d-173ce78feafb",
   "metadata": {},
   "outputs": [],
   "source": [
    "b = a > 4\n",
    "b # `b` - булев массив с формой `a`, где находятся значения True / False для каждого элемента массива a\n",
    "  # каждый элемент из a был проверен по условию \"элемент > 4\", что и дало такие результаты "
   ]
  },
  {
   "cell_type": "code",
   "execution_count": null,
   "id": "30f50f36-6ca7-4401-856e-b09b3ebfd236",
   "metadata": {},
   "outputs": [],
   "source": [
    "a[b] = 0 # Все элементы `a`, превосходящие 4, становятся равными 0\n",
    "a"
   ]
  },
  {
   "cell_type": "markdown",
   "id": "57038f03-d4cd-4af0-9ebe-71ef473be70e",
   "metadata": {},
   "source": [
    "Второй способ индексации с помощью булевых чисел более похож на целочисленную индексацию; для каждой размерности массива мы задаем 1D булевый массив, выбирающий нужные нам срезы:"
   ]
  },
  {
   "cell_type": "code",
   "execution_count": null,
   "id": "66db7635-1db2-488e-83c3-204631563be2",
   "metadata": {},
   "outputs": [],
   "source": [
    "a = np.arange(12).reshape(3, 4)\n",
    "b1 = np.array([False, True, True]) # выборка первой величины\n",
    "b2 = np.array([True, False, True, False]) # выборка второй величины"
   ]
  },
  {
   "cell_type": "code",
   "execution_count": null,
   "id": "6f6e3c29-ae7c-484f-b358-a08785f6fb9a",
   "metadata": {},
   "outputs": [],
   "source": [
    "a"
   ]
  },
  {
   "cell_type": "code",
   "execution_count": null,
   "id": "23689a34-16da-44e7-a6a4-77bc21bb591a",
   "metadata": {},
   "outputs": [],
   "source": [
    "a[b1, :] # выборка строкa[b1, :] "
   ]
  },
  {
   "cell_type": "code",
   "execution_count": null,
   "id": "e4da56c8-05ad-453c-8489-e97c8ab1d3d6",
   "metadata": {},
   "outputs": [],
   "source": [
    "a[b1] # то же самое"
   ]
  },
  {
   "cell_type": "code",
   "execution_count": null,
   "id": "9deed7a3-fac6-486d-a370-dd39ffae0426",
   "metadata": {},
   "outputs": [],
   "source": [
    "a[:, b2] # выбор столбцов"
   ]
  },
  {
   "cell_type": "code",
   "execution_count": null,
   "id": "cebdce0a-5079-40fd-b67e-669ce1e2024e",
   "metadata": {},
   "outputs": [],
   "source": [
    "a[b1, b2] # странно, но можно"
   ]
  },
  {
   "cell_type": "markdown",
   "id": "9d325471-e105-4d5e-9d35-b8c065ac5ec5",
   "metadata": {},
   "source": [
    "Обратите внимание, что длина одномерного булевого массива должна совпадать с длиной измерения (или оси), которое необходимо нарезать. В предыдущем примере b1 имеет длину 3 (количество строк в a), а b2 (длина 4) подходит для индексации второй оси (столбцов) a."
   ]
  },
  {
   "cell_type": "markdown",
   "id": "129e328d-0992-4945-8d39-ce441eb1a927",
   "metadata": {},
   "source": [
    "# Упражнения"
   ]
  },
  {
   "cell_type": "markdown",
   "id": "13fe5e29-3362-4fc8-b5eb-f939b725d4af",
   "metadata": {},
   "source": [
    "Каждый этап задания (пункт списка) вы можете выполнять в отдельных ячейках, чтобы было наглядно видно результат каждого шага"
   ]
  },
  {
   "cell_type": "markdown",
   "id": "ee6a7a67-0ff0-412b-880f-bfb30ec807fa",
   "metadata": {},
   "source": [
    "## Задание 1"
   ]
  },
  {
   "cell_type": "markdown",
   "id": "96b88f73-5c0c-4d51-bb95-a36ff05fa11a",
   "metadata": {},
   "source": [
    "- Создайте матрицу 5x3, состоящую из единиц\n",
    "- Создайте матрицу 3x2, в которой будут содержаться случайные значения\n",
    "- Перемножьте эти две матрицы, как это принято делать в линейной алгебре"
   ]
  },
  {
   "cell_type": "code",
   "execution_count": null,
   "id": "2201ecf6-57a7-4ea8-958b-e704eca86730",
   "metadata": {},
   "outputs": [],
   "source": []
  },
  {
   "cell_type": "markdown",
   "id": "548c2fd3-1703-4e01-af50-990ea51dcb0c",
   "metadata": {},
   "source": [
    "## Задание 2"
   ]
  },
  {
   "cell_type": "markdown",
   "id": "e0a6bf7d-071e-452b-a392-08c04da1bf0a",
   "metadata": {},
   "source": [
    "- Создайте массив значений x от -20 до 20 с шагом в 1, то есть -20, -19, -18, ..., 20\n",
    "- Вам дана функция `y = (2 * x) ** 3`. Создайте на ее основе массив y, передав в функцию значения x\n",
    "- Выведите первые 10 значений массива y путем использования среза []\n",
    "- Выведите только те элементы y, которые кратны (делятся нацело) 3"
   ]
  },
  {
   "cell_type": "code",
   "execution_count": null,
   "id": "bcb46652-873c-41bb-9fc3-9b6e73adb681",
   "metadata": {},
   "outputs": [],
   "source": []
  },
  {
   "cell_type": "markdown",
   "id": "c2d6eaa3-07d1-49fc-8691-44e9ee3975e4",
   "metadata": {},
   "source": [
    "## Задание 3"
   ]
  },
  {
   "cell_type": "markdown",
   "id": "09c12f1e-3251-43ee-bebe-9619e533c3ea",
   "metadata": {},
   "source": [
    "- Создайте две матрицы 4x4\n",
    "- Сделайте так, чтобы все элементы второй матрицы стали равны своим квадратам (например, для 2x2 матрицы: [[1, 2], [3, 4]] станет [[1, 4], [9, 16]]\n",
    "- Поэлементно перемножьте первую и новую вторую матрицы\n",
    "- Измените размерность матрицы путем reshape с 4x4 на 2x8"
   ]
  },
  {
   "cell_type": "code",
   "execution_count": null,
   "id": "3269bbd3-aa3b-4bdf-aa3a-6c97cce7b17c",
   "metadata": {},
   "outputs": [],
   "source": []
  }
 ],
 "metadata": {
  "kernelspec": {
   "display_name": "Python 3 (ipykernel)",
   "language": "python",
   "name": "python3"
  },
  "language_info": {
   "codemirror_mode": {
    "name": "ipython",
    "version": 3
   },
   "file_extension": ".py",
   "mimetype": "text/x-python",
   "name": "python",
   "nbconvert_exporter": "python",
   "pygments_lexer": "ipython3",
   "version": "3.11.5"
  }
 },
 "nbformat": 4,
 "nbformat_minor": 5
}
