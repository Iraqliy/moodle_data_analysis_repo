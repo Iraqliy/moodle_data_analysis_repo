{
 "cells": [
  {
   "cell_type": "markdown",
   "id": "b0e4b03d",
   "metadata": {},
   "source": [
    "# Списки"
   ]
  },
  {
   "cell_type": "markdown",
   "id": "30bca9a8",
   "metadata": {},
   "source": [
    "Мы уже знаем тип данных, который называется **множество** и является **коллекцией (контейнером)**, то есть позволяет хранить несколько элементов данных, и тип, который тоже обладает свойствами коллекции и называется **строка**. Сегодня мы познакомимся с еще одним типом-коллекцией, который называется **список (list)**. Никогда не создавайте переменные с таким именем!"
   ]
  },
  {
   "cell_type": "markdown",
   "id": "134aa88b",
   "metadata": {},
   "source": [
    "> ## Списки\n",
    "> Списки являются очень гибкой структурой данных и широко используются в программах. Давайте рассмотрим основные свойства списка в сравнении с теми коллекциями, которые мы уже знаем:\n",
    "> - Список хранит несколько элементов под одним именем (как и множество)\n",
    "> - Элементы списка могут повторяться (в отличие от множества)\n",
    "> - Элементы списка упорядочены и проиндексированы, доступна операция среза (как в строке)\n",
    "> - Элементы списка можно изменять (в отличие от строки)\n",
    "> - Элементами списка могут быть значения любого типа: целые и действительные числа, строки и даже другие списки\n",
    "\n"
   ]
  },
  {
   "cell_type": "markdown",
   "id": "58cdd193",
   "metadata": {},
   "source": [
    "![title](img/list-set-str.svg)"
   ]
  },
  {
   "cell_type": "markdown",
   "id": "0c0c870f",
   "metadata": {},
   "source": [
    "##"
   ]
  },
  {
   "cell_type": "markdown",
   "id": "89da9455",
   "metadata": {},
   "source": []
  },
  {
   "cell_type": "markdown",
   "id": "b036d6fa",
   "metadata": {},
   "source": []
  },
  {
   "cell_type": "markdown",
   "id": "d2e6c44c",
   "metadata": {},
   "source": []
  },
  {
   "cell_type": "markdown",
   "id": "b45693fd",
   "metadata": {},
   "source": []
  },
  {
   "cell_type": "markdown",
   "id": "984f7007",
   "metadata": {},
   "source": []
  },
  {
   "cell_type": "markdown",
   "id": "95ef13de",
   "metadata": {},
   "source": []
  },
  {
   "cell_type": "markdown",
   "id": "9a004bce",
   "metadata": {},
   "source": []
  },
  {
   "cell_type": "markdown",
   "id": "03a87dfa",
   "metadata": {},
   "source": []
  },
  {
   "cell_type": "markdown",
   "id": "7a4c244c",
   "metadata": {},
   "source": []
  },
  {
   "cell_type": "markdown",
   "id": "008957a4",
   "metadata": {},
   "source": []
  },
  {
   "cell_type": "markdown",
   "id": "243d8001",
   "metadata": {},
   "source": []
  },
  {
   "cell_type": "markdown",
   "id": "d06b5a48",
   "metadata": {},
   "source": []
  },
  {
   "cell_type": "markdown",
   "id": "48ae21b6",
   "metadata": {},
   "source": []
  },
  {
   "cell_type": "markdown",
   "id": "96e33632",
   "metadata": {},
   "source": []
  },
  {
   "cell_type": "markdown",
   "id": "8ca68049",
   "metadata": {},
   "source": []
  },
  {
   "cell_type": "markdown",
   "id": "c745a348",
   "metadata": {},
   "source": []
  },
  {
   "cell_type": "markdown",
   "id": "c6e78ecf",
   "metadata": {},
   "source": []
  },
  {
   "cell_type": "markdown",
   "id": "b99dbd6a",
   "metadata": {},
   "source": []
  },
  {
   "cell_type": "markdown",
   "id": "fab7deed",
   "metadata": {},
   "source": []
  },
  {
   "cell_type": "markdown",
   "id": "f6d0c9df",
   "metadata": {},
   "source": []
  },
  {
   "cell_type": "markdown",
   "id": "223df8a7",
   "metadata": {},
   "source": []
  },
  {
   "cell_type": "markdown",
   "id": "d07624a1",
   "metadata": {},
   "source": []
  },
  {
   "cell_type": "markdown",
   "id": "d2745aa8",
   "metadata": {},
   "source": []
  },
  {
   "cell_type": "markdown",
   "id": "6750fe3f",
   "metadata": {},
   "source": []
  },
  {
   "cell_type": "markdown",
   "id": "0b83ec12",
   "metadata": {},
   "source": []
  },
  {
   "cell_type": "markdown",
   "id": "068d65a3",
   "metadata": {},
   "source": []
  },
  {
   "cell_type": "markdown",
   "id": "15114676",
   "metadata": {},
   "source": []
  },
  {
   "cell_type": "markdown",
   "id": "8e91fab6",
   "metadata": {},
   "source": []
  },
  {
   "cell_type": "markdown",
   "id": "79b33c72",
   "metadata": {},
   "source": []
  },
  {
   "cell_type": "markdown",
   "id": "845820d3",
   "metadata": {},
   "source": []
  },
  {
   "cell_type": "markdown",
   "id": "2aca0756",
   "metadata": {},
   "source": []
  },
  {
   "cell_type": "markdown",
   "id": "6c744dd7",
   "metadata": {},
   "source": []
  }
 ],
 "metadata": {
  "kernelspec": {
   "display_name": "Python 3 (ipykernel)",
   "language": "python",
   "name": "python3"
  },
  "language_info": {
   "codemirror_mode": {
    "name": "ipython",
    "version": 3
   },
   "file_extension": ".py",
   "mimetype": "text/x-python",
   "name": "python",
   "nbconvert_exporter": "python",
   "pygments_lexer": "ipython3",
   "version": "3.11.5"
  }
 },
 "nbformat": 4,
 "nbformat_minor": 5
}
