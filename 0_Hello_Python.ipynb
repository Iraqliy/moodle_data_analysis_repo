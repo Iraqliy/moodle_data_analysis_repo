{
 "cells": [
  {
   "cell_type": "markdown",
   "id": "f5984f49",
   "metadata": {},
   "source": [
    "# Раздел 1. Знакомство с Python\n",
    "## Программа\n",
    "\n",
    "Навык программирования — это не просто написание кода, а смесь навыков математики, инженерии и исследований. Нам предстоит на языке программирования Python реализовывать алгоритмы, используя структуры данных и их обработку. Нам предстоит из «кубиков» создавать сложные системы и проверять их надежность; изучать поведение нашей системы и ее окружения, оценивая возможные риски при исполнении программы.\n",
    "\n",
    "**Программа** — это реализация алгоритма, состоящая из последовательности инструкций, которые управляют данными. Примерами инструкций могут быть:\n",
    "\n",
    "- математические вычисления, например системы уравнений, которые составляют оптимальный маршрут автопилота или накладывают фильтры на фотографии;\n",
    "\n",
    "- обработка текста, например поиск подстроки или замена символов для проверки грамматики или переводов текстов;\n",
    "\n",
    "- создание графического образа, например визуализация графика курса валют или акций.  \n",
    " \n",
    "Независимо от языка программирования реализацию программы (алгоритма) можно свести к нескольким инструкциям:\n",
    "\n",
    "1. Получение данных от пользователя или из файла. Например, пользователь через приложение заказывает продукты, выбирая необходимые позиции.\n",
    "2. Ветвление алгоритма — проверка условий или значений данных. Например, заказанные пользователем позиции проверяются на наличие в различных магазинах.\n",
    "3. Обработка данных математическими или финансовыми операциями. Например, заказ формируется и  затем отправляется на сборку и доставку.\n",
    "4. Повторение алгоритма — повторение вычислений со старыми и новыми данными. Например, на протяжении всего исполнения обновляется статус заказа.\n",
    "5. Возврат данных на экран или в файл. Например, пользователю выводится статус заказа и время доставки.\n"
   ]
  },
  {
   "cell_type": "markdown",
   "id": "89481cb0",
   "metadata": {},
   "source": [
    "## Декомпозиция\n",
    "Процесс разработки программы состоит из декомпозиции большой задачи на маленькие подзадачи, до тех пор пока решение каждой из маленьких задач не станет простым и понятным, то есть не сведется к использованию одной из приведенных выше инструкций. Пусть, например, нам нужно рассчитать прибыль по пакету акций. Тогда декомпозиция этой задачи может быть следующей:\n",
    "\n",
    "1. Получаем пакет с различным количеством акций и стоимость этой покупки.\n",
    "2. Разделяем акции по типам.\n",
    "3. По типу акции определяем стоимость ее продажи.\n",
    "4. По каждому типу акции рассчитываем прибыль, исходя стоимости покупки и продажи.\n",
    "5. Суммируем полученную прибыль по пакету акций и возвращаем результат."
   ]
  },
  {
   "cell_type": "markdown",
   "id": "6bcdc83a",
   "metadata": {},
   "source": [
    "## Блок-схема\n",
    "Любую программу можно представить в виде блок-схемы. Например, представим блок-схемой визуализацию самой классической первой программы **Hello, World!**:\n",
    "![MarineGEO circle logo](https://cs.sberuniversity.online/image/1000/auto/upsize/55b299e0-d9f0-11ed-a104-02420a0002a0 \"MarineGEO logo\")\n",
    "**Блок-схема** визуализирует реализацию алгоритма программы через используемые инструкции. На схеме мы видим графические элементы **begin** и **end**, символизирующие начало и конец алгоритма, то есть точки входа в программу и выхода из программы. А в центре находится блок, символизирующий действие — вывод на экран фразы **Hello, World!**.\n",
    "\n",
    "Форма фигур у разных элементов разная и имеет значение. Подробнее: https://coderlessons.com/tutorials/akademicheskii/metodologii-programmirovaniia/elementy-blok-skhemy"
   ]
  },
  {
   "cell_type": "markdown",
   "id": "de2bc138",
   "metadata": {},
   "source": [
    "# История Python\n",
    "Изучая любую технологию, всегда полезно окунуться в историю и взглянуть, с чего все начиналось. Прослеживая историю развития технологии, можно отследить весь ее эволюционный путь и понять, почему были приняты те или иные решения, что позволит проще в ней ориентироваться.\n",
    "\n",
    "## Python. Начало\n",
    "**Python** — это интерпретируемый язык, созданный в далеком 1991 году. Он имеет низкий порог вхождения, в первую очередь из-за простого синтаксиса. **Python** пережил несколько поколений архитектурных изменений и по сей день продолжает быть актуальным. «Под капотом» у языка **Python** находятся скомпилированные функции и объекты, написанные на языке C. Таким образом, Python имеет и скомпилированную природу. А главное преимущество компилируемых языков — это скорость их исполнения, так как они конвертируются в машинный код и исполняются быстрее интерпретируемых. Интерпретируемые же языки просто построчно исполняются интерпретатором. Раньше процесс интерпретации занимал много времени, но с использованием современных подходов (например, JIT-компиляции) разрыв в производительности между компилируемыми и интерпретируемыми языками сокращается. Python также не отстает и стремится быть производительнее остальных языков. Для этого используется, например, промежуточный байт-код, который создается на основе исходных Python-скриптов. \n",
    "\n",
    "Автор языка **Python** — Гвидо ван Россум, лауреат премии Free Software Award в 2001 году за вклад в развитие свободного программного обеспечения. \n",
    "![MarineGEO circle logo](https://cs.sberuniversity.online/image/1000/auto/upsize/5134af18-c355-11ed-9ebd-0242ac120009 \"MarineGEO logo\")\n",
    "Язык программирования (со своим синтаксисом) и интерпретатор (программа для исполнения кода) называются одинаково: Python. Интерпретатор языка доступен в различных версиях и на различных платформах, например Windows, Linux, MacOS."
   ]
  },
  {
   "cell_type": "markdown",
   "id": "94d3b822",
   "metadata": {},
   "source": [
    "## Примечание\n",
    "Название языка **Python** не имеет отношения к пресмыкающимся, а является отсылкой к комедийному английскому проекту Monty Python. Согласно английской транскрипции правильно произносить «пайтон», но в народе прижилось звучание «питон»."
   ]
  },
  {
   "cell_type": "markdown",
   "id": "0b4c2aeb",
   "metadata": {},
   "source": [
    "## Python сейчас\n",
    "На **Python** написано множество программ, как на современном поколении 3.х, так и на устаревшем 2.x. Python также внес огромный вклад в развитие открытого программного обеспечения (**Open Source**) и распространился по всему миру. Python, как и многие языки, меняется и развивается: на данный момент актуальна 3-я версия поколения языка, но все так же доступны и предыдущие. Последней официально поддерживаемой версией 2-го поколения была версия 2.7.18.\n",
    "\n",
    "Язык **Python** уверенно занимает ТОП-5, причем на протяжении нескольких лет. При этом Python постоянно находится среди первых языков для изучения программирования, которые попадают в школьную программу. Также Python используется в дошкольном обучении, например для программирования конструктора LEGO MINDSTORMS. Помимо компании LEGO, для разработки своих приложений язык Python используют такие компании как:\n",
    "\n",
    "- Google\n",
    "- Dropbox\n",
    "- Netscape\n",
    "- Yandex\n",
    "- Microsoft\n",
    "- Intel\n",
    "- Spotify\n",
    "- Netflix\n",
    "- Quora\n",
    "и многие другие!"
   ]
  },
  {
   "cell_type": "markdown",
   "id": "5a0a75b7",
   "metadata": {},
   "source": [
    "## Принципы Python\n",
    "Основные качества языка **Python** — это простота, ясность и универсальность. На данный момент существует множество готовых модулей как в стандартной библиотеке, так созданных сторонними разработчиками, являющимися частью огромного сообщества **Python**-разработчиков. Язык **Python** можно применять в большом спектре задач, будь то:\n",
    "\n",
    "- скрипты по автоматизации администрирования системы или производства;\n",
    "- выгрузка данных из базы и их анализ для бизнеса (Data Science); \n",
    "- разработка backend-сервиса для высоконагруженной системы или кибербезопасности;\n",
    "- получение запроса от пользователя для анализа речи или синтеза речи;\n",
    "- реализация математических вычислений или обучение нейросетей (Machine Learning);\n",
    "- программирование устройств или роботов (Raspberry Pi, LEGO MINDSTORMS).\n",
    "\n",
    "Принципы языка Python, они же философия, к которой призывают стремиться «носители» языка, сформулированы в **The Zen of Python**:\n",
    "\n",
    "-      Красивое лучше, чем уродливое.\n",
    "-      Явное лучше, чем неявное.\n",
    "-      Простое лучше, чем сложное.\n",
    "-      Сложное лучше, чем запутанное.\n",
    "-      Плоское лучше, чем вложенное.\n",
    "-      Разреженное лучше, чем плотное.\n",
    "-      Читаемость имеет значение.\n",
    "-      Особые случаи не настолько особые, чтобы нарушать правила.\n",
    "-      При этом практичность важнее безупречности.\n",
    "-      Ошибки никогда не должны замалчиваться.\n",
    "-      Если они не замалчиваются явно.\n",
    "-      Встретив двусмысленность, отбрось искушение угадать.\n",
    "-      Должен существовать один и желательно только один очевидный способ сделать это.\n",
    "-      Хотя он поначалу может быть и не очевиден, если вы не голландец.\n",
    "-      Сейчас лучше, чем никогда.\n",
    "-      Хотя никогда зачастую лучше, чем прямо сейчас.\n",
    "-      Если реализацию сложно объяснить — идея плоха.\n",
    "-      Если реализацию легко объяснить — идея, возможно, хороша.\n",
    "-      Пространства имен — отличная штука! Будем делать их больше!\n",
    "\n",
    "Данная философия подходит к разработке на любом языке, и нередко разработчики на других языках ссылаются на **The Zen of Python**."
   ]
  },
  {
   "cell_type": "markdown",
   "id": "911bbe8f",
   "metadata": {},
   "source": [
    "Основные причины, почему стоит использовать язык Python:\n",
    "\n",
    "-      высокая скорость разработки программного обеспечения;\n",
    "-      переносимость программ на различные платформы;\n",
    "-      большая библиотека готовых решений.\n",
    " \n",
    "Эти факторы положительно сказываются на качестве разрабатываемого программного обеспечения и его интегрируемости с другими приложениями, а также делают процесс разработки комфортным."
   ]
  },
  {
   "cell_type": "markdown",
   "id": "bb948bae",
   "metadata": {},
   "source": [
    "## Синтаксис и первый код\n",
    "Об интерпретаторе языка Python мы уже говорили ранее. По сути ему можно передать на исполнение любой грамотный код и получить результат. Будет ли это ожидаемое поведение или сообщение об ошибке — это все результат работы нашего алгоритма, реализованного в программе.\n",
    " \n",
    "Традиционно первая программа на новом языке — это **Hello, World!**, не будем отступать от традиций. На платформе можно выполнять любой код на Python и получать результат прямо в окне браузера. Наша первая программа выглядит так.\n",
    "\n",
    "  Код: \n",
    "\n",
    "```python\n",
    "print(\"Hello, World!\")\n",
    "``` \n",
    "  Вывод: \n",
    "``` \n",
    "Hello, World!\n",
    "``` \n",
    "### Спойлер\n",
    "При вызове функции для передачи ей аргументов после написания ее имени ставятся скобки ().\n",
    "\n",
    "Функцию **print()** мы будем подробно разбирать на следующих уроках, а пока нам достаточно знать, что она выводит переданное ей значение на экран.\n",
    "\n",
    "### Примечание\n",
    "Использование точки с запятой (;) не является синтаксической ошибкой, но не применяется на практике за ненадобностью.\n",
    "\n",
    "**Важнейшей рекомендацией** для стиля кодирования на Python является стандарт **PEP8**: он описывает правила именования и структурирования кода, принятые в сообществе Python. К этим правилам относятся, в частности, **использование отступов для выделения блоков кода**, необязательность точки с запятой в конце строки, а также использование декораторов. Эти и многие другие особенности, которые будут рассмотрены далее, отличают код на языке Python от кода, написанного на многих других языках программирования."
   ]
  },
  {
   "cell_type": "markdown",
   "id": "01321460",
   "metadata": {},
   "source": [
    "Пробелы\n",
    "Пробелов в выражениях и инструкциях не должно быть много. Например, при вызове функции не вставляется пробел сразу перед открывающей скобкой, после которой начинается список аргументов:\n",
    "![M](https://cs.sberuniversity.online/image/1000/auto/upsize/b26cdbf0-ccb7-11ed-acce-0242ac120009 \"M\")\n",
    "Также это относится не только к круглым, но и к другим видам скобок, например к квадратным:\n",
    "![M1](https://cs.sberuniversity.online/image/1000/auto/upsize/c9a1a616-ccb7-11ed-9c21-0242ac120009 \"M1\")\n",
    "Рекомендуется добавлять пробелы вокруг операторов с самым низким приоритетом, но не более одного пробела и всегда одинаковое количество пробелов по обе стороны оператора:\n",
    "![M2](https://cs.sberuniversity.online/image/1000/auto/upsize/d262def0-ccb7-11ed-818a-02420a00029a \"M2\")"
   ]
  },
  {
   "cell_type": "markdown",
   "id": "8d2c1174",
   "metadata": {},
   "source": [
    "### Комментарии\n",
    "Комментарии выделяются либо символом решетка (#…), либо созданием многострочных структур с использованием тройных одинарных ('''…''') или двойных кавычек (\"\"\"...\"\"\"):\n",
    "\n",
    "Код:\n",
    "```python\n",
    " # комментарий\n",
    "\n",
    "''' и это комментарий'''\n",
    "\n",
    "\"\"\"\n",
    "\n",
    "и это тоже \n",
    "\n",
    "комментарий\n",
    "\n",
    "\"\"\"\n",
    "```\n",
    "Как можно заметить, многострочные комментарии могут состоять из нескольких строк, причем неважно, какие используются кавычки для комментирования — одинарные ('''…''') или двойные (\"\"\"...\"\"\"). Принципиальная разница заключается только в том, какие кавычки по тексту используются внутри комментария (или многострочной структуры).\n",
    "\n",
    "Примечание\n",
    "Комментарии являются неотъемлемой частью написания кода, так как позволяют описывать реализацию алгоритма более понятно.\n",
    "\n",
    "### Примечание\n",
    "Комментарии являются неотъемлемой частью написания кода, так как позволяют описывать реализацию алгоритма более понятно."
   ]
  },
  {
   "cell_type": "markdown",
   "id": "5d5073d7",
   "metadata": {},
   "source": [
    "Абзацы\n",
    "Разделение кода на абзацы (вставка пустых строк) не является обязательным требованием синтаксиса языка, однако крайне рекомендуется для улучшения читаемости кода.\n",
    "\n",
    "Код:\n",
    "```python\n",
    "\n",
    "# hello\n",
    "\n",
    "print(\"hello\")\n",
    "\n",
    "# world\n",
    "\n",
    "print(\"world\")\n",
    "\n",
    "# hello, world!\n",
    "\n",
    "print(\"hello, world!\")\n",
    "```\n",
    "Вывод:\n",
    "```\n",
    "hello\n",
    "\n",
    "world\n",
    "\n",
    "hello, world!\n",
    "```\n",
    "\n",
    "### Длинные строки\n",
    "Рекомендовано использовать строки, длина которых не превышает диапазон от 80 до 120 символов. Число 80 — историческая данность, так как первые мониторы были ограничены 80 символами в ширину. Но в современных реалиях верхнее ограничение в 80 символов уже не так существенно и во многих языках было доведено до 120 символов. Но если все же возникает необходимость в написании длинной строки, то в Python есть решение: обратная косая черта (\\).\n",
    "\n",
    "Код:\n",
    "```python\n",
    "with open('/path/to/some/file/you/want/to/read') as file_1, \\\n",
    "\n",
    "open('/path/to/some/file/being/written', 'w') as file_2:\n",
    "\n",
    "    file_2.write(file_1.read())\n",
    "```\n",
    "Хотя обратную косую черту можно время от времени использовать, например в приведенном примере с указанием длинного пути к файлу, все равно сохраняется рекомендация по сокращению длинных строк через рефакторинг кода.\n",
    "\n",
    "Код:\n",
    "```python\n",
    "file_1_path = '/path/to/some/file/you/want/to/read'\n",
    "\n",
    "file_2_path = '/path/to/some/file/being/written'\n",
    "\n",
    "with open(file_1_path) as file_1, open(file_2_path, 'w') as file_2:\n",
    "\n",
    "    file_2.write(file_1.read())\n",
    "```"
   ]
  },
  {
   "cell_type": "markdown",
   "id": "39830220",
   "metadata": {},
   "source": [
    "### Перед началом работы\n",
    "\n",
    "Jupyter Notebook (его вы сейчас и изучаете) является средой разработки, где сразу можно видеть результат выполнения кода и его отдельных фрагментов. Отличие от традиционной среды разработки в том, что код можно разбить на куски и выполнять их в произвольном порядке. Эти куски называются ячейками. **Пример пустой ячейки представлен ниже**. А, например, в разделе **\"Упражнения\"** представлены 2 ячейки с кодом."
   ]
  },
  {
   "cell_type": "code",
   "execution_count": null,
   "id": "334cbece",
   "metadata": {},
   "outputs": [],
   "source": []
  },
  {
   "cell_type": "markdown",
   "id": "fcc42304",
   "metadata": {},
   "source": [
    "В такой среде разработки можно, например, написать функцию и сразу проверить её работу, без запуска программы целиком. А ещё можно поменять порядок выполнения кода. Можно отдельно загрузить файл в память, отдельно проверить его содержимое, отдельно обработать содержимое.\n",
    "\n",
    "А ещё в jupyter-ноутбуках есть вывод результата сразу после фрагмента кода. Например, можно прямо в середине кода увидеть построенный график, получить предварительные цифры или любую другую визуализацию."
   ]
  },
  {
   "cell_type": "markdown",
   "id": "22fdc06c",
   "metadata": {},
   "source": [
    "Для начала работы с данной средой необходимо знать базовый функционал\n",
    "\n",
    "**ctrl + enter** - при нажатии на ячейку левой кнопкой мыши и применении данного сочетания клавиш код в ячейке запускается. ***Попробуйте запустить ячейку с кодом ниже***. Альтернативно можно нажать на кнопку запуска вверху (может иметь обозначения: значок play, \"Бегать\", \"Run\", \"Запуск\")"
   ]
  },
  {
   "cell_type": "code",
   "execution_count": null,
   "id": "d1066057",
   "metadata": {},
   "outputs": [],
   "source": [
    "print('Вы нажали ctrl + enter')"
   ]
  },
  {
   "cell_type": "markdown",
   "id": "11383d73",
   "metadata": {},
   "source": [
    "Обратите внимание, что слева находится **Ввод [n]**. На месте n стоит какое-то число. Это число - порядковый номер запущенной ячейки. Попробуйте позапускать две ячейки с кодом снизу и понаблюдайте, как меняются числа в квадратных скобках. В дальнейшем это будет иметь значение, так как порядок исполнения кода должен быть логичным. Вряд ли умно делать вывод данных из программы, не получив сначала эти самые данные на вход."
   ]
  },
  {
   "cell_type": "code",
   "execution_count": 5,
   "id": "0883e43a",
   "metadata": {
    "scrolled": true
   },
   "outputs": [
    {
     "name": "stdout",
     "output_type": "stream",
     "text": [
      "Запусти первой меня!\n"
     ]
    }
   ],
   "source": [
    "print('Запусти первой меня!')"
   ]
  },
  {
   "cell_type": "code",
   "execution_count": 4,
   "id": "0c807c13",
   "metadata": {
    "scrolled": true
   },
   "outputs": [
    {
     "name": "stdout",
     "output_type": "stream",
     "text": [
      "Нет, меня!\n"
     ]
    }
   ],
   "source": [
    "print('Нет, меня!')"
   ]
  },
  {
   "cell_type": "markdown",
   "id": "17e9431f",
   "metadata": {},
   "source": [
    "Например, **попробуйте последовательно** запустить две ячейки с кодом ниже. Что не так? Попробуйте разобраться и сделать так, чтобы в первой ячейке не было ошибки."
   ]
  },
  {
   "cell_type": "code",
   "execution_count": null,
   "id": "c61df37f",
   "metadata": {},
   "outputs": [],
   "source": [
    "# я первая\n",
    "print(magic_variable)"
   ]
  },
  {
   "cell_type": "code",
   "execution_count": null,
   "id": "068db6f0",
   "metadata": {},
   "outputs": [],
   "source": [
    "# я вторая\n",
    "magic_variable = 5"
   ]
  },
  {
   "cell_type": "markdown",
   "id": "2504ee92",
   "metadata": {},
   "source": [
    "Конечно, пример выше не является обычной ситуацией. В большинстве случаев программисты стараются писать последовательный код, который следует банальным принципам здравого смысла. Сначала данные, потом вывод. Сначала А, потом Б. Однако отслеживайте, в каком порядке вы запускаете ячейки."
   ]
  },
  {
   "cell_type": "markdown",
   "id": "13f5e7a7",
   "metadata": {},
   "source": [
    "**A** - при выделении мышкой нужной ячейки и нажатии этой кнопки, сверху добавляется пустая ячейка. **Обратите внимание**, что выделить ячейку значит нажать не на содержимое, а где-нибудь слева от содержимого. Иначе вы рискуете войти в режим редактирования содержимого ячейки, поэтому нажатия **A** будут считаться просто вводом буквы А.\n",
    "\n",
    "**B** - аналогично предыдущей команде, но при этом добавляет ячейку снизу.\n",
    "\n",
    "**X** - удалить ячейку\n",
    "\n",
    "Таким образом, если вам необходимо решить задачку или упраженение, но вы не видите свободной ячейки с кодом, вы можете добавить ее кнопками **A** или **B**, затем отредактировать, внеся свой код, а потом уже использовать **ctrl + enter**, чтобы запустить ячейку с кодом.\n",
    "\n",
    "Подробнее с сочетаниями клавиш вы можете ознакомиться, если нажмете клавишу **H**. Во всплывающей подсказке будут перечислены все сочетания клавиш, которые используются в Jupyter Notebook."
   ]
  },
  {
   "cell_type": "markdown",
   "id": "722a57b6",
   "metadata": {},
   "source": [
    "Однако **не все** полезные команды имеют сочетания клавиш. Например, если вы хотите запустить весь код в блокноте, необходимо зайчи в меню **ячейка** и выбрать там **запустить все**.\n",
    "\n",
    "**Внимание!** Не надо нажимать на этот пункт сейчас. В этом нет нужды."
   ]
  },
  {
   "attachments": {
    "jupyter_del_me.png": {
     "image/png": "[encoded data removed]"
    }
   },
   "cell_type": "markdown",
   "id": "7dcda5cc",
   "metadata": {},
   "source": [
    "![jupyter_del_me.png](attachment:jupyter_del_me.png)"
   ]
  },
  {
   "cell_type": "markdown",
   "id": "b84f5d91",
   "metadata": {},
   "source": [
    "Теперь вы можете смело приступать к отработке полученных знаний на упражнениях, представленных ниже."
   ]
  },
  {
   "cell_type": "markdown",
   "id": "bd99a692",
   "metadata": {},
   "source": [
    "## Упражнения\n",
    "**1. Исправление кода. Часть 1**\n",
    "\n",
    "Исправьте программу так, чтобы ее результат соответствовал ожидаемому выводу \"Hello, World!\"."
   ]
  },
  {
   "cell_type": "code",
   "execution_count": 1,
   "id": "e8bd3e1d",
   "metadata": {},
   "outputs": [
    {
     "ename": "SyntaxError",
     "evalue": "Missing parentheses in call to 'print'. Did you mean print(...)? (324857043.py, line 1)",
     "output_type": "error",
     "traceback": [
      "\u001b[1;36m  Input \u001b[1;32mIn [1]\u001b[1;36m\u001b[0m\n\u001b[1;33m    print \"Hello, World!\"\u001b[0m\n\u001b[1;37m    ^\u001b[0m\n\u001b[1;31mSyntaxError\u001b[0m\u001b[1;31m:\u001b[0m Missing parentheses in call to 'print'. Did you mean print(...)?\n"
     ]
    }
   ],
   "source": [
    "print \"Hello, World!\""
   ]
  },
  {
   "cell_type": "markdown",
   "id": "8147fde5",
   "metadata": {},
   "source": [
    "**2. Исправление кода. Часть 2**\n",
    "\n",
    "Исправьте программу так, чтобы ее результат соответствовал ожидаемому выводу \"Hello World!\"."
   ]
  },
  {
   "cell_type": "code",
   "execution_count": 3,
   "id": "c917bac1",
   "metadata": {},
   "outputs": [],
   "source": [
    "#print(\"Hello, World!\")"
   ]
  },
  {
   "cell_type": "markdown",
   "id": "b0b97cd1",
   "metadata": {},
   "source": [
    "### **Решите тест по ссылке:** \n",
    "https://forms.gle/RM8sZE6WgNpQQ5tQ8\n",
    "\n",
    "\n",
    "_____"
   ]
  },
  {
   "cell_type": "markdown",
   "id": "aebc94ae",
   "metadata": {},
   "source": [
    "# Раздел 2. Переменные, ввод/вывод строк и exceptions (ошибки и исключения)\n",
    "## Создание переменных\n",
    "Во время разработки требуется создавать, получать и сохранять данные. Под данными подразумеваются числа, строки и другие сущности, необходимые для решения задач. Для сохранения данных используются переменные. **Переменная** — это именованная сущность для хранения данных. \n",
    "![M2](https://cs.sberuniversity.online/image/1000/auto/upsize/5bfa978e-c371-11ed-9367-0242ac120009 \"M2\")\n",
    "\n",
    "\n",
    "Переменные бывают разных типов в зависимости от типа хранимых данных, например:\n",
    "\n",
    "- целочисленные;\n",
    "- дробные;\n",
    "- строковые.\n",
    "Создавая переменную, мы сохраняем данные в памяти либо для дальнейшего их получения, либо для изменения. Переменные занимают определенное место в памяти компьютера, к которому обязательно указывается тип, иначе их невозможно будет интерпретировать. Создадим первые переменные.\n",
    "\n",
    "Код:\n",
    "```\n",
    "days = 256\n",
    "```\n",
    "\n",
    "Мы создали переменную (days) и записали в нее целочисленное значение (256), используя оператор присваивания (=).\n",
    "\n",
    "Код:\n",
    "```\n",
    "temperature = 36.6\n",
    "```\n",
    "Мы создали переменную (temperature) и записали в нее дробное значение (36.6), используя оператор присваивания (=).\n",
    "\n",
    "### Важно!\n",
    "Дробные значения в Python пишутся только через точку (.), запятая используется исключительно как разделитель значений или типов данных и не участвует в записи числа.\n",
    "\n",
    "С числами мы познакомились, а теперь создадим переменную со строковым значением.\n",
    "\n",
    "Код:\n",
    "```\n",
    "drink = \"tea\"\n",
    "```\n",
    "Мы создали переменную (drink) и записали в нее строковое значение (\"tea\"), используя оператор присваивания (=).\n",
    "\n",
    " \n",
    "### Важно!\n",
    "Строковые значения указываются в двойных кавычках (\" \") или одинарных кавычках (' '), одинаковых с обеих сторон строки.\n",
    "\n",
    "Только что мы объявляли переменные с заранее известными названиями, однако в работе приходится придумывать собственные названия переменных. Для этого существуют следующие правила:\n",
    "\n",
    "| № | Правило | Можно | Нельзя |\n",
    "| - | ------- | ----- | ------ |\n",
    "| 1 | Можно использовать латинские символы, но не принято использовать кириллицу, хотя можно выставить даже эмодзи\t | word | слово |\n",
    "| 2 |Можно использовать знак подчеркивания \"_\", но нельзя использовать специальные символы: \", #, ;, %, ?, * и др. | word_1 | word#1 |\n",
    "| 3 |Можно использовать буквы любого регистра и вставлять цифры в середине и конце имени переменной, но нельзя начинать с цифры\t | Word1 WorD1 | 1Word 1_word |\n",
    "| 4 | Имя переменной может иметь любую длину, но внутри имени нельзя вставлять пробел | HelloWorld\t | Hello World |\n",
    " \n",
    " \n",
    "### Важно!\n",
    "Python чувствителен к регистру, то есть переменные F и f будут разными!\n",
    "\n",
    "\n",
    "### Примечание\n",
    "Называйте переменные очевидными и понятными именами, это сэкономит ваше время и время  ваших коллег при работе с кодами.\n",
    "\n",
    "Существует список имен, которыми нельзя называть переменные, эти названия зарезервированы в Python:\n",
    "-       and\n",
    "-       assert\n",
    "-       break\n",
    "-       class\n",
    "-       continue\n",
    "-       def\n",
    "-       del\n",
    "-       except\n",
    "-       False\n",
    "-       for\n",
    "-       from\n",
    "-       global\n",
    "-       if / elif / else\n",
    "-       import\n",
    "-       in\n",
    "-       is\n",
    "-       lambda\n",
    "-       list\n",
    "-       None\n",
    "-       nonlocal\n",
    "-       not\n",
    "-       or\n",
    "-       pass\n",
    "-       raise\n",
    "-       return\n",
    "-       True\n",
    "-       try / finally\n",
    "-       while\n",
    "-       with / as\n",
    "-       yield"
   ]
  },
  {
   "cell_type": "code",
   "execution_count": 1,
   "id": "928f2150",
   "metadata": {},
   "outputs": [],
   "source": [
    "\"\"\"\n",
    "Поменяйте значение переменной drink на \"coffee\". \n",
    "Выведите на экран с помощью функции print() измененное значение.\n",
    "\"\"\"\n",
    "drink = \"water\"\n",
    "#Ваш код"
   ]
  },
  {
   "cell_type": "code",
   "execution_count": 2,
   "id": "95010d2b",
   "metadata": {},
   "outputs": [],
   "source": [
    "\"\"\"Измените значение переменной drink на \"latte\" и \n",
    "создайте переменную dessert со значением \"cheesecake\". \n",
    "Выведите на экран с помощью функции print() значения переменных drink и dessert.\"\"\"\n",
    "drink = \"milk\"\n",
    "dessert = \"None\""
   ]
  },
  {
   "cell_type": "markdown",
   "id": "fc687685",
   "metadata": {},
   "source": [
    "## Подробнее про типы данных\n",
    "\n",
    "Мы уже рассмотрели некоторые типы данных, которые существуют в Python. Это **строки**, **целые числа** (1, 2, 3, 4) и **числа с плавающей точкой** (5.3, например).\n",
    "\n",
    "В отличии от человеческого восприятия информации, программа требует четких инструкций на тему того, с каким типом данных работает Python. Поясним далее на примере следующей ячейки с кодом. Попробуйте ее запустить"
   ]
  },
  {
   "cell_type": "code",
   "execution_count": null,
   "id": "1d0a2dc4",
   "metadata": {},
   "outputs": [],
   "source": [
    "a = '5'\n",
    "print(a + 7)"
   ]
  },
  {
   "cell_type": "markdown",
   "id": "c71f1926",
   "metadata": {},
   "source": [
    "Возможно, вы ожидали увидеть ответ \"12\", однако что-то пошло не так. Ошибка возникнет потому, что в переменную а у нас попадает строка, а в функции print мы пытаемся сложить эту строку из переменной а и число 1. Исправьте программу так, чтобы она работала."
   ]
  },
  {
   "cell_type": "markdown",
   "id": "c222e290",
   "metadata": {},
   "source": [
    "Получилось? Отлично. В общем случае в Python работает простое правило: числа складывать с числами, строки - со строками. Например, попробуйте запустить код ниже. Как думаете, что получится?"
   ]
  },
  {
   "cell_type": "code",
   "execution_count": null,
   "id": "e6a18f1d",
   "metadata": {},
   "outputs": [],
   "source": [
    "print('10' + '20') "
   ]
  },
  {
   "cell_type": "markdown",
   "id": "6144c654",
   "metadata": {},
   "source": [
    "Если ваше предположение совпало с результатом, то поздравляем. Именно так и работает сложение строк. Его иначе еще называют **конкатенацией**. При сложении чисел они вычисляются арифметически, а при сложении строк - они просто-напросто склеиваются, как есть. В ячейке ниже происходит немного неверный вывод. Хотелось бы иметь **пробел** между фамилией и именем. Как этого можно достичь?"
   ]
  },
  {
   "cell_type": "code",
   "execution_count": 11,
   "id": "0a888cfc",
   "metadata": {
    "scrolled": true
   },
   "outputs": [
    {
     "name": "stdout",
     "output_type": "stream",
     "text": [
      "ИвановВасилий\n"
     ]
    }
   ],
   "source": [
    "print('Иванов' + 'Василий')"
   ]
  },
  {
   "cell_type": "markdown",
   "id": "ce6b81b1",
   "metadata": {},
   "source": [
    "В сложении чисел есть еще один небольшой нюанс, который весьма очевиден, но мы о нем редко задумываемся. Попробуйте предположить, что будет, если сложить вещественное число и целое число 10.0 + 20 в Python."
   ]
  },
  {
   "cell_type": "code",
   "execution_count": null,
   "id": "8c8fb714",
   "metadata": {},
   "outputs": [],
   "source": [
    "print(10.0 + 20)"
   ]
  },
  {
   "cell_type": "markdown",
   "id": "1f0ecf58",
   "metadata": {},
   "source": [
    "Несмотря на то, что мы бы записали результат без лишних знаков, программа на языке Python имеет весьма строгие правила работы с типами данных. Если сталкиваются вещественное число и целое, то результатом всегда будет вещественное число за исключением нюансов, которые нас сейчас не волнуют."
   ]
  },
  {
   "cell_type": "markdown",
   "id": "2bd542b9",
   "metadata": {},
   "source": [
    "Мы выполняли **сложение двух чисел** внутри функции **print**, но мы можем переменным давать нужные значения и выполнять действия над переменными.\n",
    "\n",
    "Давайте напишем программу, которая задаст нужные значения двум переменным (10 и 20), потом вычислит их сумму, положит это значение в третью переменную и выведет на экран полученный результат. Допишите начальные строки, чтобы программа решала поставленную задачу:"
   ]
  },
  {
   "cell_type": "code",
   "execution_count": null,
   "id": "717e03a4",
   "metadata": {},
   "outputs": [],
   "source": [
    "# Под каждым комментарием есть пустая строка. В нее необходимо ввести код, смысл которого приведен в каждом комментарии.\n",
    "# создайте переменную a и присвойте ей значение 10\n",
    "\n",
    "# создайте переменную b и присвойте ей значение 20\n",
    "\n",
    "# создайте переменную summa и положите в нее значение суммы этих двух переменных\n",
    "\n",
    "print(summa)"
   ]
  },
  {
   "cell_type": "markdown",
   "id": "caac970d",
   "metadata": {},
   "source": [
    "## Операции над числами"
   ]
  },
  {
   "cell_type": "markdown",
   "id": "792d42c1",
   "metadata": {},
   "source": [
    "Как складывать два числа, мы научились. Еще числа можно вычитать, умножать, делить, возводить в степень, получать целую часть от деления и остаток от деления нацело. Давайте разберем эти операции на примерах."
   ]
  },
  {
   "cell_type": "code",
   "execution_count": 14,
   "id": "749e24f1",
   "metadata": {},
   "outputs": [
    {
     "name": "stdout",
     "output_type": "stream",
     "text": [
      "20\n",
      "20.0\n",
      "9\n"
     ]
    }
   ],
   "source": [
    "print(30 - 10)\n",
    "print(30.0 - 10)\n",
    "print(3 * 3)"
   ]
  },
  {
   "cell_type": "markdown",
   "id": "48ba3630",
   "metadata": {},
   "source": [
    "С вычитанием и умножением все понятно, они аналогичны сложению.\n",
    "\n",
    "Возведение в степень обозначается двумя звездочками \\**, которые должны записываться без разделителей."
   ]
  },
  {
   "cell_type": "code",
   "execution_count": 15,
   "id": "5e186bee",
   "metadata": {},
   "outputs": [
    {
     "name": "stdout",
     "output_type": "stream",
     "text": [
      "81\n"
     ]
    }
   ],
   "source": [
    "print(9 ** 2)"
   ]
  },
  {
   "cell_type": "markdown",
   "id": "27b74232",
   "metadata": {},
   "source": [
    "**Как думаете, что будет результатом возведения в степень в ячейке ниже?**"
   ]
  },
  {
   "cell_type": "code",
   "execution_count": null,
   "id": "ffa42908",
   "metadata": {},
   "outputs": [],
   "source": [
    "print(9 ** 0.5)"
   ]
  },
  {
   "cell_type": "markdown",
   "id": "0d9c1c11",
   "metadata": {},
   "source": [
    "Попробуйте заменить 9 на другой известный вам квадрат числа и убедитесь в том, что ваш вывод о работе данной операции возведения в степень верен."
   ]
  },
  {
   "cell_type": "markdown",
   "id": "ae16a3d6",
   "metadata": {},
   "source": [
    "**Обратите внимание**: результат деления всегда вещественный, даже если мы делим два целых числа, которые делятся нацело."
   ]
  },
  {
   "cell_type": "code",
   "execution_count": 16,
   "id": "2db291a0",
   "metadata": {},
   "outputs": [
    {
     "name": "stdout",
     "output_type": "stream",
     "text": [
      "5.0\n"
     ]
    }
   ],
   "source": [
    "print(10 / 2)"
   ]
  },
  {
   "cell_type": "markdown",
   "id": "2f4bb1f1",
   "metadata": {},
   "source": [
    "Перейдем к более сложным операциями, которые часто забываются на фоне других четырех всадников арифметики. А именно деление нацело и деление с остатком.\n",
    "\n",
    "Для реализации целочисленного деления существуют два действия: деление нацело и остаток от деления нацело. Получение целой части от деления обозначается как удвоенный знак деления, а остатка от деления нацело — %."
   ]
  },
  {
   "cell_type": "markdown",
   "id": "d827f2ba",
   "metadata": {},
   "source": [
    "Давайте подробнее разберем эти операции. Что будет выведено в результате этих действий?"
   ]
  },
  {
   "cell_type": "code",
   "execution_count": null,
   "id": "4d278444",
   "metadata": {},
   "outputs": [],
   "source": [
    "print(10 // 3, 10 % 3)\n",
    "print(10 // 5, 10 % 5)\n",
    "print(10 // 11, 10 % 11)"
   ]
  },
  {
   "cell_type": "markdown",
   "id": "298c41a8",
   "metadata": {},
   "source": [
    "## Простейшие функции"
   ]
  },
  {
   "cell_type": "markdown",
   "id": "c1639aa2",
   "metadata": {},
   "source": [
    "Мы разобрали с вами две важных компоненты многих программ, а именно вывод информации пользователю посредством функции **print**, а также хранение и обработку информации в виде переменных и арифметических операций над числами. Пусть пока мы умеем обрабатывать информацию на уровне третьеклассника в классе математики, однако принципиально мы уже владеем двумя важными вещами. Осталось ознакомиться с третьей..."
   ]
  },
  {
   "cell_type": "markdown",
   "id": "b4963e1f",
   "metadata": {},
   "source": [
    "## Ввод"
   ]
  },
  {
   "cell_type": "markdown",
   "id": "eb68d619",
   "metadata": {},
   "source": [
    "Пока что все наши программы выводили на экран фразы, известные в момент написания кода. Но программы могут работать и с данными, которые станут известны только во время выполнения: например, их будет вводить пользователь с клавиатуры. Мы можем реализовать это так. **Попробуйте запустить код**. Обратите **внимание**, что ячейка будет ожидать от вас **ввод с клавиатуры**."
   ]
  },
  {
   "cell_type": "code",
   "execution_count": null,
   "id": "76a6a7af",
   "metadata": {},
   "outputs": [],
   "source": [
    "print('Как тебя зовут?')\n",
    "name = input()\n",
    "print('Привет,', name)"
   ]
  },
  {
   "cell_type": "markdown",
   "id": "c350557e",
   "metadata": {},
   "source": [
    "Команда **input()** всегда пишется с круглыми скобками. Команда работает так: когда программа доходит до места, где есть input(), **она ждет**, пока пользователь введет строку с клавиатуры (ввод завершается нажатием клавиши Enter). Введенная строка подставляется на место **input()**.\n",
    "\n",
    "То есть, если вы ввели «Аня», программа дальше будет работать так, как будто на месте input() было написано «Аня».\n",
    "\n",
    "Таким образом, **input()** получает от пользователя какие-то данные и в место вызова подставляет строковое значение, в нашем случае записывает его в качестве значения переменной **name**. Запомните: если нужно, чтобы программа что-то печатала на экране и это увидел пользователь, — **print**. Если нужно, чтобы пользователь что-то напечатал с клавиатуры и чтобы программа могла использовать эти данные, — **input()**.\n",
    "\n",
    "Рассмотрите пример ниже. Обратите внимание на то, как функция **print** выводит значения внутри скобок, указанные через запятую. **Также обращайте внимание** на то, как создаются и используются переменные, как они получают свои значения и как их значения выводятся в **print**"
   ]
  },
  {
   "cell_type": "code",
   "execution_count": 18,
   "id": "31f70423",
   "metadata": {
    "scrolled": false
   },
   "outputs": [
    {
     "name": "stdout",
     "output_type": "stream",
     "text": [
      "Какая твоя любимая еда?\n",
      "чипсики\n",
      "Да. чипсики - это вкусно.\n"
     ]
    }
   ],
   "source": [
    "print('Какая твоя любимая еда?')\n",
    "meal = input()\n",
    "print('Да.', meal, '- это вкусно.')"
   ]
  },
  {
   "cell_type": "markdown",
   "id": "0ebfc917",
   "metadata": {},
   "source": [
    "Обратите внимание: интерпретатор ждет, что пользователь что-то введет с клавиатуры ровно столько раз, сколько команд input() встречается в программе. Каждый input() завершается нажатием Enter на клавиатуре. **Запустите пример ниже**"
   ]
  },
  {
   "cell_type": "code",
   "execution_count": 19,
   "id": "7cdca14b",
   "metadata": {
    "scrolled": true
   },
   "outputs": [
    {
     "name": "stdout",
     "output_type": "stream",
     "text": [
      "Как тебя зовут?\n",
      "Аня\n",
      "Привет, Аня\n",
      "А какая твоя любимая еда?\n",
      "артишоки\n",
      "Да. артишоки - это вкусно.\n"
     ]
    }
   ],
   "source": [
    "print('Как тебя зовут?')\n",
    "name = input()\n",
    "print('Привет,', name)\n",
    "print('А какая твоя любимая еда?')\n",
    "meal = input()\n",
    "print('Да.', meal, '- это вкусно.')"
   ]
  },
  {
   "cell_type": "markdown",
   "id": "361fa9d0",
   "metadata": {},
   "source": [
    "Мы задали значение переменной. И что же, оно никогда не меняется? Конечно, в двух разных программах могут быть переменные с одинаковыми названиями, но разными значениями. Но могут ли в пределах одной программы под одним именем быть разные значения?\n",
    "\n",
    "Да! Оператор присваивания сообщает переменной то или иное значение независимо от того, была ли эта переменная введена раньше. Вы можете **менять значение переменной**, записав **еще один оператор присваивания**. Если у нас имеется переменная, мы **можем делать с ее значением все что угодно** — например, присвоить другой переменной:"
   ]
  },
  {
   "cell_type": "markdown",
   "id": "b3000318",
   "metadata": {},
   "source": [
    "## Еще парочка полезных функций"
   ]
  },
  {
   "cell_type": "markdown",
   "id": "5a1ed1be",
   "metadata": {},
   "source": [
    "## int, float"
   ]
  },
  {
   "cell_type": "markdown",
   "id": "742f7b91",
   "metadata": {},
   "source": [
    "Давайте еще раз повторим.\n",
    "В программировании (и в Python, в частности) функция — это сущность, **которая из одного (или даже нескольких) значений делает другое**. При этом она может еще и выполнять какие-то действия.\n",
    "\n",
    "Например, есть функция модуля **у = |x|**, аналогично в Python есть функция **y = abs(x)**.\n",
    "\n",
    "Но функции в Python необязательно принимают только числа."
   ]
  },
  {
   "cell_type": "markdown",
   "id": "fbb22b9f",
   "metadata": {},
   "source": [
    "Для того чтобы вводить числа с клавиатуры и потом работать с ними, необходимо найти функцию, которая из строки делает число.\n"
   ]
  },
  {
   "cell_type": "markdown",
   "id": "f3cf8f1d",
   "metadata": {},
   "source": [
    ">Тип данных целых чисел в Python называется **int**, дробных чисел — **float**. Одноименные функции принимают в качестве аргумента строку и возвращают число, если в этой строке было записано число (иначе выдают ошибку):"
   ]
  },
  {
   "cell_type": "markdown",
   "id": "24e102e3",
   "metadata": {},
   "source": [
    "**Попробуйте запустить** код ниже несколько раз, вводя каждый раз разные значения. Например, можете попробовать ввести \"собака\", а можете попробовать ввести число 5. Обратите внимание на результаты своих действий."
   ]
  },
  {
   "cell_type": "code",
   "execution_count": null,
   "id": "8979a3ec",
   "metadata": {},
   "outputs": [],
   "source": [
    "a = input()\n",
    "b = int(a)\n",
    "print(b + 1)"
   ]
  },
  {
   "cell_type": "markdown",
   "id": "a940ebb6",
   "metadata": {},
   "source": [
    "На самом деле, для преобразования строки, которая вводится через функцию **input** (которая **всегда** возвращает тип данных строка, запомните это), не требуется вводить промежуточную переменную. Можно написать и так"
   ]
  },
  {
   "cell_type": "code",
   "execution_count": 21,
   "id": "1834c41e",
   "metadata": {
    "scrolled": true
   },
   "outputs": [
    {
     "name": "stdout",
     "output_type": "stream",
     "text": [
      "50\n",
      "51\n"
     ]
    }
   ],
   "source": [
    "a = int(input())\n",
    "print(a + 1)"
   ]
  },
  {
   "cell_type": "markdown",
   "id": "ff22fa8e",
   "metadata": {},
   "source": [
    "Функция int может быть применена и для получения целого числа из вещественного, в таком случае дробная часть будет отброшена (без округления). Например,```print(int(20.5 + 34.1))``` выдаст на экран число 54, хотя, если сложить эти числа и не отправлять их в функцию int, результат будет 54.6. Таким образом, **int** как бы отсекает все числа после точки.\n",
    "\n",
    "Если вам нужны вещественные числа, то пользуйтесь функцией **float**."
   ]
  },
  {
   "cell_type": "markdown",
   "id": "9bc4f85b",
   "metadata": {},
   "source": [
    "## len"
   ]
  },
  {
   "cell_type": "markdown",
   "id": "99cf861f",
   "metadata": {},
   "source": [
    "Функция ```len``` по большей части используется для определения длины чего-либо. На данном этапе достаточно знать, что она позволяет получить длину строки. Например, длина строки \"Кошка\" равна 5. Ниже представлен код, на котором вы можете убедиться в том, что функция работает так, как ожидается. Обратите внимание на то, как она ведет себя при введении предложений с пунктуацией и пробелами."
   ]
  },
  {
   "cell_type": "code",
   "execution_count": null,
   "id": "392b7d8a",
   "metadata": {},
   "outputs": [],
   "source": [
    "# запусти меня!\n",
    "text = input()\n",
    "length = len(text)\n",
    "print('Вы ввели текст длиной', length, 'символов.')"
   ]
  },
  {
   "cell_type": "markdown",
   "id": "cd0fa1dc",
   "metadata": {},
   "source": [
    ">Использование в программе функции называется «вызов функции». Он устроен так: пишем имя функции — len, а затем в скобках те данные, которые мы передаем этой функции, чтобы она что-то с ними сделала. Такие данные называются аргументами."
   ]
  },
  {
   "cell_type": "markdown",
   "id": "2fb5a272",
   "metadata": {},
   "source": [
    "В нашем примере данные в скобках должны быть строкой. Мы выбрали в качестве данных значение переменной ```text```, которое пользователь до этого ввел с клавиатуры. То есть значение переменной ```text``` выступает здесь в роли аргумента. А функция len выдает длину этой строки. Если пользователь ввел, например, «привет», ```text``` оказывается равно строке «привет», и на место ```len(text)``` подставляется длина строки «привет», то есть 6.\n",
    "\n",
    "Обратите внимание: каждый раз, когда мы пишем имя переменной (кроме самого первого раза — в операции присваивания слева от знака равно), вместо этого имени интерпретатор подставляет значение переменной."
   ]
  },
  {
   "cell_type": "markdown",
   "id": "cae24e67",
   "metadata": {},
   "source": [
    ">Точно так же на место вызова функции (то есть имени функции и ее аргументов в скобках) подставляется результат ее работы, это называется возвращаемое значение функции."
   ]
  },
  {
   "cell_type": "markdown",
   "id": "fe50701b",
   "metadata": {},
   "source": [
    "Таким образом, функция `len` возвращает длину своего аргумента. `input` — тоже функция (отсюда скобки), она может работать, не принимая никаких аргументов, а может в качестве аргумента принимать сообщение, которое надо вывести перед ожиданием пользовательского ввода. Но всегда считывает строку с клавиатуры и возвращает ее.\n",
    "\n",
    "`print` — тоже функция, она не возвращает никакого осмысленного значения, зато выводит свои аргументы на экран. Эта функция может принимать не один аргумент, а сколько угодно. Несколько аргументов одной функции следует разделять запятыми."
   ]
  },
  {
   "cell_type": "markdown",
   "id": "85e703fb",
   "metadata": {},
   "source": [
    "## str"
   ]
  },
  {
   "cell_type": "markdown",
   "id": "67a2470e",
   "metadata": {},
   "source": [
    "Как существует функция `int`, которая пытается сделать из того, что ей передали, целое число, так же существует и функция `str`, которая возвращает строку из тех данных, что в нее передали. **Предположите результат ячейки снизу, а затем запустите ее**"
   ]
  },
  {
   "cell_type": "code",
   "execution_count": null,
   "id": "cda9a172",
   "metadata": {},
   "outputs": [],
   "source": [
    "print(str(10) + str(20))\n",
    "print(int('10') + int('20'))"
   ]
  },
  {
   "cell_type": "markdown",
   "id": "90ab9235",
   "metadata": {},
   "source": [
    "## Для самых опытных\n",
    "Перейдите по ссылке, найдите задачу по номеру варианта и решите её ниже в Jupyter!\n",
    "https://clck.ru/35kNBR"
   ]
  },
  {
   "cell_type": "markdown",
   "id": "06cd75d5",
   "metadata": {},
   "source": [
    "Чтобы получить вариант, запустите код ниже и введите вашу фамилию и имя"
   ]
  },
  {
   "cell_type": "code",
   "execution_count": 28,
   "id": "25191467",
   "metadata": {},
   "outputs": [
    {
     "name": "stdout",
     "output_type": "stream",
     "text": [
      "Мишаченко Константин\n",
      "13\n"
     ]
    }
   ],
   "source": [
    "import random\n",
    "name = input()\n",
    "seed = sum(ord(ch) for ch in name)\n",
    "random.seed(seed)\n",
    "print(int(random.random() * 15) + 1)"
   ]
  },
  {
   "cell_type": "markdown",
   "id": "3ceaeeab",
   "metadata": {},
   "source": [
    "### Продолжение следует..."
   ]
  }
 ],
 "metadata": {
  "kernelspec": {
   "display_name": "Python 3 (ipykernel)",
   "language": "python",
   "name": "python3"
  },
  "language_info": {
   "codemirror_mode": {
    "name": "ipython",
    "version": 3
   },
   "file_extension": ".py",
   "mimetype": "text/x-python",
   "name": "python",
   "nbconvert_exporter": "python",
   "pygments_lexer": "ipython3",
   "version": "3.10.6"
  }
 },
 "nbformat": 4,
 "nbformat_minor": 5
}
