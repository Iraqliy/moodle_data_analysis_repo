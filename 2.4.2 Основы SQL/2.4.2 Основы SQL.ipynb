{
 "cells": [
  {
   "cell_type": "markdown",
   "id": "352324ce",
   "metadata": {
    "cellId": "gklqd3xsq5nvcr64y9ijj9",
    "execution_id": "569fa886-8672-4b29-8272-274c5561d4b8",
    "id": "352324ce"
   },
   "source": [
    "## 1. Введение в базы данных (далее БД)"
   ]
  },
  {
   "cell_type": "markdown",
   "id": "bc2f7013",
   "metadata": {
    "cellId": "aawx21s0qvweqgfkojaxwg",
    "execution_id": "6e73903f-85c3-4e2f-ad05-569d3e713ae4",
    "id": "bc2f7013"
   },
   "source": [
    "Хранение информации на компьютере - давно привычное явление. Люди хранят пароли в текстовых файлах, документы в формате Word, однако такая организация хранения мало пригодна при большом объеме информации по нескольким причинам:\n",
    "   - в них много дублирования, из-за чего требуется значительно больше места на жестком диске,\n",
    "   - а поиск работает медленно и слишком «дорогой» при сколько-либо значимом количестве обращений.\n",
    "   \n",
    "Разработчики промышленного программного обеспечения столкнулись с этими проблемами достаточно давно, и в качестве одного из решений еще в 1970 году Эдгар Кодд предложил реляционную модель данных (файловые базы данных появились еще раньше — в 1955 году).\n",
    "Эта идея развилась в привычные сегодня для почти каждого программиста реляционные базы данных (БД).\n",
    "База данных — это непосредственное хранилище информации, которое без инструментов для взаимодействия с ним не очень то и полезно. Такой интерфейс для общения с БД разработчикам и системным администраторам предоставляет специальное программное обеспечение — Системы управления базами данных (СУБД)."
   ]
  },
  {
   "cell_type": "markdown",
   "id": "4a9e7158",
   "metadata": {
    "cellId": "2pr0aafd021g659h6gvt8v",
    "execution_id": "de0e00ac-3758-4b8a-aaba-eafe5a3a280d",
    "id": "4a9e7158"
   },
   "source": [
    "## 2. Пример подключения к базе данных\n",
    "Мы будем работать с базами данных и языком SQL с помощью Python.\n",
    "Так как различных СУБД достаточно много, крайне неудобно было бы, если при переходе на новую СУБД приходилось бы с нуля изучать библиотеку для работы с ней. Чтобы избежать таких ситуаций, есть специальный стандарт PEP 249 (Python Database API Specification v2.0), в котором, помимо всего прочего, описано, какой интерфейс должна предоставлять программисту любая библиотека для работы с базами данных. Поэтому, какую бы СУБД вы не выбрали для управления хранением данных вашего приложения, принципы работы с ней будут очень похожи.\n",
    "\n",
    "PEP 249 оперирует такими понятиями, как подключения и курсоры:\n",
    "\n",
    "- Подключение — объект, в котором чаще всего указывается либо путь к файлу, либо путь к серверу. Он отвечает только за подключение к БД и, соответственно, отключение от нее\n",
    "- Курсор — объект, в котором непосредственно производится работа с БД"
   ]
  },
  {
   "cell_type": "code",
   "execution_count": 1,
   "id": "13fea469",
   "metadata": {
    "cellId": "lf4pecaat1ey3zk2aan9qs",
    "colab": {
     "base_uri": "https://localhost:8080/"
    },
    "executionInfo": {
     "elapsed": 17489,
     "status": "ok",
     "timestamp": 1719788300157,
     "user": {
      "displayName": "Aleksey Kim",
      "userId": "11038789716184989948"
     },
     "user_tz": -540
    },
    "id": "13fea469",
    "outputId": "745e8a53-4740-4ce3-cea4-b7b8b28b5c7b"
   },
   "outputs": [
    {
     "name": "stdout",
     "output_type": "stream",
     "text": [
      "Collecting psycopg[binary]\n",
      "  Downloading psycopg-3.2.0-py3-none-any.whl (197 kB)\n",
      "\u001b[2K     \u001b[90m━━━━━━━━━━━━━━━━━━━━━━━━━━━━━━━━━━━━━━━━\u001b[0m \u001b[32m197.7/197.7 kB\u001b[0m \u001b[31m2.7 MB/s\u001b[0m eta \u001b[36m0:00:00\u001b[0m\n",
      "\u001b[?25hRequirement already satisfied: typing-extensions>=4.4 in /usr/local/lib/python3.10/dist-packages (from psycopg[binary]) (4.12.2)\n",
      "INFO: pip is looking at multiple versions of psycopg[binary] to determine which version is compatible with other requirements. This could take a while.\n",
      "  Downloading psycopg-3.1.20-py3-none-any.whl (179 kB)\n",
      "\u001b[2K     \u001b[90m━━━━━━━━━━━━━━━━━━━━━━━━━━━━━━━━━━━━━━━━\u001b[0m \u001b[32m179.5/179.5 kB\u001b[0m \u001b[31m6.4 MB/s\u001b[0m eta \u001b[36m0:00:00\u001b[0m\n",
      "\u001b[?25hCollecting psycopg-binary==3.1.20 (from psycopg[binary])\n",
      "  Downloading psycopg_binary-3.1.20-cp310-cp310-manylinux_2_17_x86_64.manylinux2014_x86_64.whl (4.2 MB)\n",
      "\u001b[2K     \u001b[90m━━━━━━━━━━━━━━━━━━━━━━━━━━━━━━━━━━━━━━━━\u001b[0m \u001b[32m4.2/4.2 MB\u001b[0m \u001b[31m36.2 MB/s\u001b[0m eta \u001b[36m0:00:00\u001b[0m\n",
      "\u001b[?25hInstalling collected packages: psycopg-binary, psycopg\n",
      "Successfully installed psycopg-3.1.20 psycopg-binary-3.1.20\n"
     ]
    }
   ],
   "source": [
    "# Установка библиотек для работы с БД\n",
    "# обязательно запускайте данную ячейку перед началом новой рабочей сессии\n",
    "%pip install psycopg[binary]"
   ]
  },
  {
   "cell_type": "markdown",
   "id": "5b284a01",
   "metadata": {
    "cellId": "1spo4uhkvesivw8ekh7kt4",
    "execution_id": "ea5c2d0b-aab5-4ee6-b68c-4da5448bd3ae",
    "id": "5b284a01"
   },
   "source": [
    "Далее приведем пример кода для подключения к базе данных. Основные моменты:\n",
    "- Создание соединения\n",
    "- Обработка отказа\n",
    "- Создание курсора\n",
    "- Выполнение запроса\n",
    "- Обработка результатов"
   ]
  },
  {
   "cell_type": "markdown",
   "id": "d8efabab-9754-42ad-970b-9bc1379af343",
   "metadata": {},
   "source": [
    "films https://disk.yandex.ru/d/niw2CgBJY4ojgA\n",
    "countries https://disk.yandex.ru/d/ykdHwtz_fArYOQ"
   ]
  },
  {
   "cell_type": "code",
   "execution_count": 2,
   "id": "qIoyhkLLx91C",
   "metadata": {
    "executionInfo": {
     "elapsed": 386,
     "status": "ok",
     "timestamp": 1719788654337,
     "user": {
      "displayName": "Aleksey Kim",
      "userId": "11038789716184989948"
     },
     "user_tz": -540
    },
    "id": "qIoyhkLLx91C"
   },
   "outputs": [],
   "source": [
    "import psycopg"
   ]
  },
  {
   "cell_type": "code",
   "execution_count": 1,
   "id": "b7c766af",
   "metadata": {
    "cellId": "xeepx8a7kfi9b4obltuf",
    "colab": {
     "base_uri": "https://localhost:8080/"
    },
    "executionInfo": {
     "elapsed": 1867,
     "status": "ok",
     "timestamp": 1719752434682,
     "user": {
      "displayName": "Aleksey Kim",
      "userId": "11038789716184989948"
     },
     "user_tz": -540
    },
    "id": "b7c766af",
    "outputId": "7f57519b-0ff6-4199-e4e4-21baf04c28b7"
   },
   "outputs": [
    {
     "ename": "ModuleNotFoundError",
     "evalue": "No module named 'psycopg'",
     "output_type": "error",
     "traceback": [
      "\u001b[1;31m---------------------------------------------------------------------------\u001b[0m",
      "\u001b[1;31mModuleNotFoundError\u001b[0m                       Traceback (most recent call last)",
      "Cell \u001b[1;32mIn[1], line 1\u001b[0m\n\u001b[1;32m----> 1\u001b[0m \u001b[38;5;28;01mfrom\u001b[39;00m \u001b[38;5;21;01mpsycopg\u001b[39;00m \u001b[38;5;28;01mimport\u001b[39;00m connect  \u001b[38;5;66;03m# Импорт библиотек для работы с БД PostgreSQL (PostgreSQL является SQL совместимой БД)\u001b[39;00m\n\u001b[0;32m      2\u001b[0m \u001b[38;5;28;01mfrom\u001b[39;00m \u001b[38;5;21;01mpsycopg\u001b[39;00m \u001b[38;5;28;01mimport\u001b[39;00m OperationalError  \u001b[38;5;66;03m# Обработчик ошибок\u001b[39;00m\n\u001b[0;32m      3\u001b[0m \u001b[38;5;28;01mimport\u001b[39;00m \u001b[38;5;21;01mpandas\u001b[39;00m \u001b[38;5;28;01mas\u001b[39;00m \u001b[38;5;21;01mpd\u001b[39;00m\n",
      "\u001b[1;31mModuleNotFoundError\u001b[0m: No module named 'psycopg'"
     ]
    }
   ],
   "source": [
    "from psycopg import connect  # Импорт библиотек для работы с БД PostgreSQL (PostgreSQL является SQL совместимой БД)\n",
    "from psycopg import OperationalError  # Обработчик ошибок\n",
    "import pandas as pd\n",
    "import numpy as np\n",
    "\n",
    "try:  # Пытаемся совершить подключение к БД, с помощью параметров, выданных администратором сервера\n",
    "    connection = psycopg.connect(\n",
    "        user='da_student',\n",
    "        password='knowledge_is_power_7823',\n",
    "        host='ep-floral-union-a241upmf.eu-central-1.aws.neon.tech',\n",
    "        dbname='countries'\n",
    "    )\n",
    "    connection.autocommit = True\n",
    "    cur = connection.cursor()  # Создаем курсор управления\n",
    "\n",
    "    \"\"\"Создаем и выполняем запрос с помощью языка SQL\"\"\"\n",
    "\n",
    "    cur.execute(\"SELECT country, land_area_km2, life_expectancy, official_language FROM countries_table WHERE \\\n",
    "    official_language = 'Russian' AND land_area_km2 > 600000\")\n",
    "\n",
    "    result = cur.fetchall() # получаем результат\n",
    "\n",
    "    # Поместим результаты в DataFrame\n",
    "    df = pd.DataFrame(result)\n",
    "    df.columns = [row[0] for row in cur.description]\n",
    "    print(df.head(7))\n",
    "    connection.close()  # Не забываем закрыть соединение, иначе мы или другой пользователь может не попасть в следующую сессию\n",
    "\n",
    "except OperationalError as error:  # В случае отказа - выводим предполагаемую причину\n",
    "    print(f'Ошибка подключения к БД: {error}')\n"
   ]
  },
  {
   "cell_type": "markdown",
   "id": "3dda9e85",
   "metadata": {
    "id": "3dda9e85"
   },
   "source": [
    "Как можно заметить, результат запроса — это список кортежей.\n",
    "\n",
    "Метод .fetchall() возвращает все полученные элементы. Существует еще метод .fetchone(), возвращающий, как несложно догадаться, только первый элемент, и метод .fetchmany(n), возвращающий n первых записей.\n",
    "\n",
    "Для запросов очень часто необходимо указывать какие-либо параметры, в нашем случае: год выпуска, продолжительность фильма и т. д. Для этого существует удобный синтаксис. Вместо значения в запросе указывается знак процента и s (%s), а затем вторым параметром в итерируемом объекте (чаще всего в кортеже) указываются необходимые значения для подстановки.\n",
    "\n",
    "```SQL\n",
    "result = cur.execute(\"\"\"SELECT * FROM films\n",
    "            WHERE year = %s and duration > %s\"\"\", (2010, 90)).fetchall()\n",
    "```\n",
    "\n",
    "**Важно не забыть, что, если мы указываем кортеж из одного элемента, нам все равно необходимо после него поставить запятую.**\n",
    "\n",
    "```SQL\n",
    "result = cur.execute(\"\"\"SELECT * FROM Films\n",
    "            WHERE year = %s\"\"\", (2009,)).fetchall()\n",
    "```"
   ]
  },
  {
   "cell_type": "markdown",
   "id": "44c1aad2",
   "metadata": {
    "cellId": "ah1va8f7my51wc45il4mg",
    "execution_id": "3abd412c-a916-49d6-80f1-78af0b7050e4",
    "id": "44c1aad2"
   },
   "source": [
    "## 3. Основы SQL"
   ]
  },
  {
   "cell_type": "markdown",
   "id": "f2f1232e",
   "metadata": {
    "cellId": "ixuf0l003e0atueqkqwnat",
    "execution_id": "ab12a28e-a41a-4377-a577-d740599dd399",
    "id": "f2f1232e"
   },
   "source": [
    "### 3.1 films_db.sqlite\n",
    "Итак у нас есть база данных films_db. Давайте сначала посмотрим, как она выглядит в виде визуализации:\n",
    "\n",
    "<img src=\"https://yastatic.net/s3/lyceum/content/images/second-year/pyqt-6/qt-6-1.png\" alt=\"drawing\" width=\"200\"/>\n",
    "\n",
    "Такие визуализации используют достаточно часто для наглядного представления таблиц и связей, и называются они ER-диаграммами (сокращение от Entity-Relation или Сущность-Отношение).\n",
    "\n",
    "Итак, разберем, что есть в нашей базе данных. Есть две таблицы-сущности: **films** для хранения информации о фильмах и **genres** для хранения информации о жанрах. Таблица **genres** состоит всего из двух полей: **id и title**, в которых для каждого жанра хранится его идентификатор и название соответственно.\n",
    "\n",
    "Таблица films чуть сложнее. Там есть поля **id, title, year, genre, duration** для хранения идентификатора фильма, его названия, года выпуска, идентификатора жанра и длительности в минутах.\n",
    "\n",
    "Кроме того, как видно на диаграмме, между таблицами есть связь, которая говорит о том, что номер жанра **genre** у записи **films** соответствует записи в таблице **genres** с таким же значением идентификатора.\n",
    "\n",
    "Для работы с базами данных был придуман специальный язык — **SQL** (structured query language — «язык структурированных запросов»).\n",
    "\n",
    "### 3.2 Язык SQL\n",
    "Основной командой для получения какой-либо информации из БД является команда SELECT. Ее базовый синтаксис выглядит так:\n",
    "\n",
    "```SQL\n",
    "SELECT перечень_полей FROM имя_таблицы\n",
    "        WHERE условие\n",
    "```\n",
    "\n",
    "Кроме этого, есть и различные модификаторы этой команды. Например, ORDER BY ПОЛЕ — тогда результаты будут выведены в отсортированном виде по заданному полю или нескольким полям, а в условии может быть вложенный запрос.\n",
    "\n",
    "Напишем наш первый запрос. Получим все фильмы, выпущенные в 2010 году.\n",
    "```SQL\n",
    "SELECT * FROM Films\n",
    "    WHERE year = 2010\n",
    "```\n",
    "<img src=\"https://yastatic.net/s3/lyceum/content/images/second-year/pyqt-6/qt-6-5.png\" alt=\"drawing\" width=\"250\"/>"
   ]
  },
  {
   "cell_type": "markdown",
   "id": "CvIaOc1LHRDc",
   "metadata": {
    "id": "CvIaOc1LHRDc"
   },
   "source": [
    "### Пример запроса к базе данных с фильмами"
   ]
  },
  {
   "cell_type": "code",
   "execution_count": null,
   "id": "PnlhoIq0HbFI",
   "metadata": {
    "colab": {
     "base_uri": "https://localhost:8080/"
    },
    "executionInfo": {
     "elapsed": 1874,
     "status": "ok",
     "timestamp": 1719752448845,
     "user": {
      "displayName": "Aleksey Kim",
      "userId": "11038789716184989948"
     },
     "user_tz": -540
    },
    "id": "PnlhoIq0HbFI",
    "outputId": "d0054f70-52ec-4c5b-9a9d-1d428a1f7623"
   },
   "outputs": [
    {
     "name": "stdout",
     "output_type": "stream",
     "text": [
      "    id                         title  year  genre  duration\n",
      "0    9          А к нам цирк приехал  1978      2        23\n",
      "1   13          А потом оглянулся...  1980      2        31\n",
      "2  243  Али-баба и сорок разбойников  1959     16        28\n",
      "3  370                         Ангел  2007      9         6\n",
      "4  409               Андалузский пес  1928      2        33\n",
      "5  430                 Анна Каренина  2007      2        29\n",
      "6  459                       Антракт  1924      2        14\n"
     ]
    }
   ],
   "source": [
    "from psycopg import connect\n",
    "from psycopg import OperationalError\n",
    "import pandas as pd\n",
    "import numpy as np\n",
    "\n",
    "try:\n",
    "    connection = psycopg.connect(\n",
    "        user='da_student',\n",
    "        password='knowledge_is_power_7823',\n",
    "        host='ep-floral-union-a241upmf.eu-central-1.aws.neon.tech',\n",
    "        dbname='films_database' # меняем название базы данных с countries на нужное\n",
    "    )\n",
    "    connection.autocommit = True\n",
    "    cur = connection.cursor()  # Создаем курсор управления\n",
    "\n",
    "    \"\"\"Создаем и выполняем запрос с помощью языка SQL\"\"\"\n",
    "\n",
    "    cur.execute(\"SELECT * FROM Films WHERE duration < 40\")\n",
    "\n",
    "    result = cur.fetchall() # получаем результат\n",
    "\n",
    "    # Поместим результаты в DataFrame\n",
    "    df = pd.DataFrame(result)\n",
    "    df.columns = [row[0] for row in cur.description]\n",
    "    print(df.head(7))\n",
    "    connection.close()  # Не забываем закрыть соединение, иначе мы или другой пользователь может не попасть в следующую сессию\n",
    "\n",
    "except OperationalError as error:  # В случае отказа - выводим предполагаемую причину\n",
    "    print(f'Ошибка подключения к БД: {error}')"
   ]
  },
  {
   "cell_type": "markdown",
   "id": "42c55edd",
   "metadata": {
    "cellId": "hiswu0crwprazxah52y2de",
    "execution_id": "b13406d6-7a8a-4ccb-99b1-848113396878",
    "id": "42c55edd"
   },
   "source": [
    "### 3.3 Задание 1\n",
    "- Подключитесь к базе данных: films_db\n",
    "- Получите все фильмы, выпущенные в 2010 году\n",
    "- Поместите результат в DataFrame (pandas)\n",
    "- Не забудьте назначить соответвующие названия колонок (DF colums -> column_names SQL)\n",
    "- Выведите первые 10 фильмов из DataFrame"
   ]
  },
  {
   "cell_type": "code",
   "execution_count": null,
   "id": "57e2467e",
   "metadata": {
    "cellId": "83oqey1sq22xua59wyira8",
    "colab": {
     "base_uri": "https://localhost:8080/",
     "height": 35
    },
    "executionInfo": {
     "elapsed": 60,
     "status": "ok",
     "timestamp": 1702249567649,
     "user": {
      "displayName": "Konstantin Mishachenko",
      "userId": "04587812950753541177"
     },
     "user_tz": -540
    },
    "id": "57e2467e",
    "outputId": "133bd706-bd5d-4c34-89bc-cbaa43532c31"
   },
   "outputs": [
    {
     "data": {
      "application/vnd.google.colaboratory.intrinsic+json": {
       "type": "string"
      },
      "text/plain": [
       "'\\nИспользуйте пример из 1-го раздела\\n'"
      ]
     },
     "execution_count": 3,
     "metadata": {},
     "output_type": "execute_result"
    }
   ],
   "source": [
    "from psycopg import connect\n",
    "from psycopg import OperationalError\n",
    "import pandas as pd\n",
    "import numpy as np\n",
    "\n",
    "# Ваш код пишем тут\n",
    "\n",
    "\"\"\"\n",
    "Используйте пример выше\n",
    "\"\"\""
   ]
  },
  {
   "cell_type": "markdown",
   "id": "2510b05c",
   "metadata": {
    "id": "2510b05c"
   },
   "source": [
    "### 3.4 Задание 2\n",
    "\n",
    "Условий может быть и несколько: работают все знакомые нам логические операторы NOT, AND и OR. Например, выберем фильмы, выпущенные после 2005 года с продолжительностью от 40 минут до 1,5 часов:\n",
    "```SQL\n",
    "SELECT * FROM Films\n",
    "    WHERE year > 2005 AND duration >= 45 AND duration <= 90\n",
    "```\n",
    "\n",
    "<img src=\"https://yastatic.net/s3/lyceum/content/images/second-year/pyqt-6/qt-6-6.png\" alt=\"drawing\" width=\"700\"/>\n",
    "\n",
    "\n",
    "#### **Практика**\n",
    "- Подключитесь к базе данных: films_db\n",
    "- Получите все фильмы, выпущенные после 2005 года с продолжительностью от 40 минут до 1,5 часов\n",
    "- Поместите результат в DataFrame (pandas)\n",
    "- Не забудьте назначить соответвующие названия колонок (DF colums -> column_names SQL)\n",
    "- Выведите первые 20 фильмов из DataFrame"
   ]
  },
  {
   "cell_type": "code",
   "execution_count": null,
   "id": "0d686fb9",
   "metadata": {
    "colab": {
     "base_uri": "https://localhost:8080/",
     "height": 35
    },
    "executionInfo": {
     "elapsed": 55,
     "status": "ok",
     "timestamp": 1702249567652,
     "user": {
      "displayName": "Konstantin Mishachenko",
      "userId": "04587812950753541177"
     },
     "user_tz": -540
    },
    "id": "0d686fb9",
    "outputId": "3e53c350-8bde-4eff-8878-0822956fe4a7"
   },
   "outputs": [
    {
     "data": {
      "application/vnd.google.colaboratory.intrinsic+json": {
       "type": "string"
      },
      "text/plain": [
       "'\\nИспользуйте код из 1-го задания\\n'"
      ]
     },
     "execution_count": 4,
     "metadata": {},
     "output_type": "execute_result"
    }
   ],
   "source": [
    "# Ваш код пишем тут\n",
    "\n",
    "\n",
    "\"\"\"\n",
    "Используйте код из 1-го задания\n",
    "\"\"\""
   ]
  },
  {
   "cell_type": "markdown",
   "id": "91638021",
   "metadata": {
    "id": "91638021"
   },
   "source": [
    "### 3.5 Задание 3 - Запросы по 2-м таблицам\n",
    "\n",
    "А как вывести все фильмы определенного жанра, например, фантастика? Конечно, можно сходить в таблицу genres и посмотреть, какой id у жанра фантастика, а потом написать запрос вроде такого:\n",
    "\n",
    "```SQL\n",
    "SELECT title FROM films\n",
    "    WHERE genre = 8\n",
    "```\n",
    "\n",
    "Но это плохой путь, потому что через некоторое время данные могут измениться, и id у фантастики может стать другим, тогда наш запрос будет давать ошибочный результат. Поэтому правильным решением в данной ситуации будет написать подзапрос, который сам найдет нам необходимое значение id.\n",
    "\n",
    "```SQL\n",
    "SELECT title FROM Films\n",
    "    WHERE genre=(\n",
    "SELECT id FROM genres\n",
    "    WHERE title = 'фантастика')\n",
    "```\n",
    "Сначала выполнится внутренний запрос: из таблицы genres будет получен id для записи с title«Фантастика», а затем будет выполнено сравнение и выведен результат.\n",
    "\n",
    "<img src=\"https://yastatic.net/s3/lyceum/content/images/second-year/pyqt-6/qt-6-1.png\" alt=\"drawing\" width=\"200\"/>\n",
    "\n",
    "\n",
    "#### **Практика**\n",
    "- Подключитесь к базе данных: films_db\n",
    "- Получите все фильмы в жанре \"комедия\" (если таковых не окажется - выберите жанр по вашему усмотрению, предварительно выведите все жанры из таблицы genres), выпущенные после 2007 года\n",
    "- Поместите результат в DataFrame (pandas)\n",
    "- Не забудьте назначить соответвующие названия колонок (DF colums -> column_names SQL)\n",
    "- Выведите последние 5 фильмов из DataFrame"
   ]
  },
  {
   "cell_type": "code",
   "execution_count": null,
   "id": "x3vJpelMYv33",
   "metadata": {
    "id": "x3vJpelMYv33"
   },
   "outputs": [],
   "source": [
    "# Ваш код"
   ]
  },
  {
   "cell_type": "markdown",
   "id": "21dc6f2b",
   "metadata": {
    "id": "21dc6f2b"
   },
   "source": [
    "### 3.6 Задание 4 - Фильтрация\n",
    "\n",
    "Помимо того, может быть выполнено сравнение не с одним элементом, а проверка на попадание в список. Это делается с помощью уже знакомого нам оператора IN. Например, так можно выбрать фильмы, продолжительность которых строго 45 или 90 минут:\n",
    "\n",
    "```SQL\n",
    "SELECT title, duration FROM Films\n",
    "WHERE duration IN (45, 90)\n",
    "```\n",
    "\n",
    "Кроме уже операторов знакомых нам по Python, SQL содержит еще и ряд тех, которых в Python нет. Давайте рассмотрим несколько из них.\n",
    "\n",
    "Оператор BETWEEN — проверяет, попадает ли заданное значение в диапазон (включая границы).\n",
    "\n",
    "```SQL\n",
    "SELECT * FROM Films\n",
    "    WHERE (year > 2005) AND duration BETWEEN 45 AND 60\n",
    "```\n",
    "\n",
    "Оператор LIKE позволяет проверить, насколько похожа та или иная строка на заданный шаблон. Для шаблонов используются специальные символы:\n",
    "\n",
    "% — обозначает любое количество, в том числе нулевое, любых символов\n",
    "_ — обозначает один любой символ\n",
    "Давайте получим список фильмов, у которых первая буква в названии — А и третья — к.\n",
    "```SQL\n",
    "SELECT * FROM Films\n",
    "    WHERE title like 'А_к%'\n",
    "```\n",
    "\n",
    "<img src=\"https://yastatic.net/s3/lyceum/content/images/second-year/pyqt-6/qt-6-7.png\" alt=\"drawing\" width=\"400\"/>\n",
    "\n",
    "Оператор LIKE работает также в паре с NOT. Например, получим список фильмов, у которых третья буква в названии не равна д, а последняя не равна a.\n",
    "\n",
    "```SQL\n",
    "SELECT * FROM films\n",
    "    WHERE title NOT LIKE '__д%а'\n",
    "```\n",
    "Кроме этого, есть возможность избавиться от повторов, используя в запросе специальный оператор — DISTINCT. Например, вот так можно получить список годов, в которые выходили фильмы в нашей базе данных, без повторений.\n",
    "```SQL\n",
    "SELECT DISTINCT year FROM Films\n",
    "```\n",
    "\n",
    "#### **Практика**\n",
    "- Подключитесь к базе данных: films_db\n",
    "- Напишите программу, которая выполняет запрос для получения списка фильмов, в названии которых упоминается Астерикс, но не упоминается Обеликс.\n",
    "- Вывести необходимо все названия, каждое с новой строки."
   ]
  },
  {
   "cell_type": "code",
   "execution_count": null,
   "id": "94d61ebd",
   "metadata": {
    "id": "94d61ebd"
   },
   "outputs": [],
   "source": [
    "# Ваш код\n",
    "\n",
    "\n"
   ]
  },
  {
   "cell_type": "markdown",
   "id": "3c941458",
   "metadata": {
    "id": "3c941458"
   },
   "source": [
    "### 3.7 Задание 5 - Статистика\n",
    "\n",
    "#### **Практика**\n",
    "- Подключитесь с базе данных: films_db\n",
    "- Напишите программу, которая находит все фильмы продолжительностью от 30 до 120 минут. Формат выборки полей films.title, genre.title (Название фильма, название жанра)\n",
    "- Поместите выборку в DataFrame\n",
    "- Выведите основные статистические показатели\n",
    "- Выведите фильм с кратчайшим названием\n",
    "- Посчитайте количество добрых фильмов (содержащих корень \"добр\" в названии)\n",
    "- Посчитайте количество злых фильмов\n",
    "- Посчитайте отношение добрых фильмов к злым\n"
   ]
  },
  {
   "cell_type": "code",
   "execution_count": null,
   "id": "3a007ae3",
   "metadata": {
    "id": "3a007ae3"
   },
   "outputs": [],
   "source": [
    "# Ваш код тут"
   ]
  },
  {
   "cell_type": "markdown",
   "id": "0HSda1KBLzhd",
   "metadata": {
    "id": "0HSda1KBLzhd"
   },
   "source": [
    "## 4. Создание таблицы и занесение данных.\n",
    "\n",
    "Для создания таблицы используется конструкция:\n",
    "```SQL\n",
    "CREATE TABLE humans (\n",
    "    id INT NOT NULL AUTO_INCREMENT PRIMARY KEY,\n",
    "    name VARCHAR(100),\n",
    "    age SMALLINT);\n",
    "```\n",
    "Где:\n",
    "- id - первичный ключ - число - автоматически инкрементируемое\n",
    "- name - строковая переменная - размером 100 символов\n",
    "- age - целочисленная переменная - малого размера\n",
    "\n",
    "Справка по типам данных MySQL: https://dev.mysql.com/doc/refman/8.0/en/data-types.html\n",
    "\n",
    "Для занесения данных используется конструкция:\n",
    "```SQL\n",
    "INSERT INTO humans (name, age)\n",
    "    VALUES('Петя', 24), ('Таня', 22);\n",
    "```\n",
    "Для сохранения внесенных данных используется отдельный запрос:\n",
    "```SQL\n",
    "COMMIT;\n",
    "```\n",
    "Для проверки внесенных данных воспользуйтесь конструкцией SELECT после закрытия соединения и поторного подключения - чтобы убедиться в выполнении транзакции:\n",
    "```SQL\n",
    "SELECT * FROM humans;\n",
    "```"
   ]
  },
  {
   "cell_type": "code",
   "execution_count": 3,
   "id": "IbsV1ZKWB5Uv",
   "metadata": {
    "colab": {
     "base_uri": "https://localhost:8080/",
     "height": 367
    },
    "executionInfo": {
     "elapsed": 2163,
     "status": "error",
     "timestamp": 1719788698184,
     "user": {
      "displayName": "Aleksey Kim",
      "userId": "11038789716184989948"
     },
     "user_tz": -540
    },
    "id": "IbsV1ZKWB5Uv",
    "outputId": "5a3af1d8-dc91-43fc-fe89-c5f84349825a"
   },
   "outputs": [
    {
     "ename": "UndefinedTable",
     "evalue": "relation \"film_watch\" does not exist\nLINE 1: SELECT * FROM film_watch;\n                      ^",
     "output_type": "error",
     "traceback": [
      "\u001b[0;31m---------------------------------------------------------------------------\u001b[0m",
      "\u001b[0;31mUndefinedTable\u001b[0m                            Traceback (most recent call last)",
      "\u001b[0;32m<ipython-input-3-ebc27a690a95>\u001b[0m in \u001b[0;36m<cell line: 20>\u001b[0;34m()\u001b[0m\n\u001b[1;32m     18\u001b[0m \u001b[0;34m\u001b[0m\u001b[0m\n\u001b[1;32m     19\u001b[0m \u001b[0;34m\u001b[0m\u001b[0m\n\u001b[0;32m---> 20\u001b[0;31m \u001b[0mcur\u001b[0m\u001b[0;34m.\u001b[0m\u001b[0mexecute\u001b[0m\u001b[0;34m(\u001b[0m\u001b[0;34m\"\"\"SELECT * FROM film_watch;\"\"\"\u001b[0m\u001b[0;34m)\u001b[0m\u001b[0;34m\u001b[0m\u001b[0;34m\u001b[0m\u001b[0m\n\u001b[0m\u001b[1;32m     21\u001b[0m \u001b[0;34m\u001b[0m\u001b[0m\n\u001b[1;32m     22\u001b[0m \u001b[0mresult\u001b[0m \u001b[0;34m=\u001b[0m \u001b[0mcur\u001b[0m\u001b[0;34m.\u001b[0m\u001b[0mfetchall\u001b[0m\u001b[0;34m(\u001b[0m\u001b[0;34m)\u001b[0m \u001b[0;31m# получаем результат\u001b[0m\u001b[0;34m\u001b[0m\u001b[0;34m\u001b[0m\u001b[0m\n",
      "\u001b[0;32m/usr/local/lib/python3.10/dist-packages/psycopg/cursor.py\u001b[0m in \u001b[0;36mexecute\u001b[0;34m(self, query, params, prepare, binary)\u001b[0m\n\u001b[1;32m    730\u001b[0m                 )\n\u001b[1;32m    731\u001b[0m         \u001b[0;32mexcept\u001b[0m \u001b[0me\u001b[0m\u001b[0;34m.\u001b[0m\u001b[0m_NO_TRACEBACK\u001b[0m \u001b[0;32mas\u001b[0m \u001b[0mex\u001b[0m\u001b[0;34m:\u001b[0m\u001b[0;34m\u001b[0m\u001b[0;34m\u001b[0m\u001b[0m\n\u001b[0;32m--> 732\u001b[0;31m             \u001b[0;32mraise\u001b[0m \u001b[0mex\u001b[0m\u001b[0;34m.\u001b[0m\u001b[0mwith_traceback\u001b[0m\u001b[0;34m(\u001b[0m\u001b[0;32mNone\u001b[0m\u001b[0;34m)\u001b[0m\u001b[0;34m\u001b[0m\u001b[0;34m\u001b[0m\u001b[0m\n\u001b[0m\u001b[1;32m    733\u001b[0m         \u001b[0;32mreturn\u001b[0m \u001b[0mself\u001b[0m\u001b[0;34m\u001b[0m\u001b[0;34m\u001b[0m\u001b[0m\n\u001b[1;32m    734\u001b[0m \u001b[0;34m\u001b[0m\u001b[0m\n",
      "\u001b[0;31mUndefinedTable\u001b[0m: relation \"film_watch\" does not exist\nLINE 1: SELECT * FROM film_watch;\n                      ^"
     ]
    }
   ],
   "source": [
    "from psycopg import connect\n",
    "from psycopg import OperationalError\n",
    "import pandas as pd\n",
    "import numpy as np\n",
    "\n",
    "try:\n",
    "    connection = psycopg.connect(\n",
    "        user='da_student',\n",
    "        password='knowledge_is_power_7823',\n",
    "        host='ep-floral-union-a241upmf.eu-central-1.aws.neon.tech',\n",
    "        dbname='films_database'\n",
    "    )\n",
    "    connection.autocommit = True\n",
    "except OperationalError as error:  # В случае отказа - выводим предполагаемую причину\n",
    "    print(f'Ошибка подключения к БД: {error}')\n",
    "\n",
    "cur = connection.cursor()  # Создаем курсор управления\n",
    "\n",
    "# снимите комментарии ниже для создания таблицы в базе данных\n",
    "#cur.execute(\"\"\"CREATE TABLE film_watch (\n",
    "#    id INT NOT NULL AUTO_INCREMENT PRIMARY KEY,\n",
    "#    film_id VARCHAR(100))\"\"\")\n",
    "\n",
    "\n",
    "cur.execute(\"\"\"INSERT INTO film_watch (film_id)\n",
    "    VALUES(100);\"\"\")\n",
    "\n",
    "cur.execute(\"\"\"COMMIT;\"\"\")\n",
    "\n",
    "\n",
    "cur.execute(\"\"\"SELECT * FROM film_watch;\"\"\")\n",
    "\n",
    "result = cur.fetchall() # получаем результат\n",
    "print(result)\n",
    "\n",
    "connection.close()  # Не забываем закрыть соединение, иначе мы или другой пользователь может не попасть в следующую сессию\n"
   ]
  },
  {
   "cell_type": "markdown",
   "id": "XL0eaun30_tS",
   "metadata": {
    "id": "XL0eaun30_tS"
   },
   "source": [
    "Запустите пример запросов к БД в цикле - для имитации поисковой системы."
   ]
  },
  {
   "cell_type": "code",
   "execution_count": 16,
   "id": "vu_aD3rdJbAF",
   "metadata": {
    "colab": {
     "base_uri": "https://localhost:8080/"
    },
    "executionInfo": {
     "elapsed": 6801,
     "status": "ok",
     "timestamp": 1719789147721,
     "user": {
      "displayName": "Aleksey Kim",
      "userId": "11038789716184989948"
     },
     "user_tz": -540
    },
    "id": "vu_aD3rdJbAF",
    "outputId": "f7137b6d-2e45-4bb5-ccdd-1408a71008a1"
   },
   "outputs": [
    {
     "name": "stdout",
     "output_type": "stream",
     "text": [
      "Введите название или часть названия искомого фильма: опять\n",
      "                                                   0     1    2\n",
      "0                      А в России опять окаянные дни  1990  133\n",
      "1  На Дерибасовской хорошая погода или на Брайтон...  1992   90\n",
      "2                                     Оно опять живо  1978   91\n",
      "3              Полицейская академия III: опять учеба  1986   90\n",
      "                                               title  year  duration\n",
      "0                      А в России опять окаянные дни  1990       133\n",
      "1  На Дерибасовской хорошая погода или на Брайтон...  1992        90\n",
      "2                                     Оно опять живо  1978        91\n",
      "3              Полицейская академия III: опять учеба  1986        90\n",
      "\n",
      " для выхода нажмите Enter \n",
      "\n",
      "Введите название или часть названия искомого фильма: \n"
     ]
    }
   ],
   "source": [
    "from psycopg import connect\n",
    "from psycopg import OperationalError\n",
    "import pandas as pd\n",
    "\n",
    "try:\n",
    "    connection = psycopg.connect(\n",
    "        user='da_student',\n",
    "        password='knowledge_is_power_7823',\n",
    "        host='ep-floral-union-a241upmf.eu-central-1.aws.neon.tech',\n",
    "        dbname='films_database'\n",
    "    )\n",
    "    connection.autocommit = True\n",
    "except OperationalError as error:  # В случае отказа - выводим предполагаемую причину\n",
    "    print(f'Ошибка подключения к БД: {error}')\n",
    "\n",
    "cur = connection.cursor()  # Создаем курсор управления\n",
    "\n",
    "query = input(\"Введите название или часть названия искомого фильма: \")\n",
    "while query != '':\n",
    "  query = '%' + query + \"%\"\n",
    "  cur.execute(\"\"\"SELECT title, year, duration FROM films WHERE title LIKE %s;\"\"\", (query,))\n",
    "  result = cur.fetchall() # получаем результат\n",
    "  df = pd.DataFrame(result)\n",
    "  print(df)\n",
    "  df.columns = [row[0] for row in cur.description]\n",
    "  print(df)\n",
    "  print('\\n', 'для выхода нажмите Enter', '\\n')\n",
    "  query = input(\"Введите название или часть названия искомого фильма: \")\n",
    "\n",
    "connection.close()  # Не забываем закрыть соединение, иначе мы или другой пользователь может не попасть в следующую сессию\n"
   ]
  },
  {
   "cell_type": "markdown",
   "id": "VYnPonMSGPPt",
   "metadata": {
    "id": "VYnPonMSGPPt"
   },
   "source": [
    "### 4.1 Сохранение истории запросов\n",
    "Дополните код, представленный выше, для сохранения истории запросов к БД. Программа должна обеспечивать:\n",
    "\n",
    "\n",
    "*   Хранение текста запросов\n",
    "*   Хранение количества выданных результатов\n",
    "*   Первую полную строку выдачи результата\n",
    "\n",
    "Хранение этой структуры вы должны организовать в файле *.CSV\n",
    "\n",
    "Пример хранящихся данных:\n",
    "\n",
    "\n",
    "---\n",
    "\n",
    "\n",
    "Запрос  Кол-во ответов:    1-я строка выдачи:\n",
    "\n",
    "собак   28                Автомобиль, скрипка и собака Клякса  1974  101\n",
    "\n",
    "термин  9                 Женщина-терминатор                   1992  90\n",
    "\n",
    "\n",
    "\n",
    "---\n",
    "\n",
    "\n",
    "\n"
   ]
  },
  {
   "cell_type": "code",
   "execution_count": null,
   "id": "AqJQCiK4JprY",
   "metadata": {
    "id": "AqJQCiK4JprY"
   },
   "outputs": [],
   "source": [
    "# Разместите решение тут"
   ]
  },
  {
   "cell_type": "markdown",
   "id": "R0tqwxxcJ3Nx",
   "metadata": {
    "id": "R0tqwxxcJ3Nx"
   },
   "source": [
    "### 4.2 Сохрание просмотренных фильмов в БД\n",
    "Используя код поиска фильмов и код добавления записей в БД (*Раздел №4*), создайте программу позволяющую:\n",
    "\n",
    "*   Искать фильм по названию\n",
    "*   Выбрать запись из поисковой выборки с помощью индекса\n",
    "*   Сохранить номер фильма в таблицу film_watch\n",
    "*   Программа должна работать непрерывно, обеспечивая цикл работы: поиск - выбор - сохранение - поиск ....\n",
    "*   После окончания цикла (выход из цикла - нажатие Enter - пустая строка) выведите из БД все просмотренные фильмы из таблицы\n",
    "\n",
    "\n",
    "``` SQL\n",
    "SELECT title FROM films, film_watch  WHERE films.id == film_watch.film_id\n",
    "```\n",
    "\n",
    "\n",
    "*   После вывода удалите дубликаты записей с помощью:\n",
    "ALTER IGNORE TABLE \\`table name\\` ADD UNIQUE INDEX(index);\n",
    "*   Выведите просмотренные фильмы повторно"
   ]
  },
  {
   "cell_type": "markdown",
   "id": "9d0676bb",
   "metadata": {
    "cellId": "s15qzk913399hx1zw8sib4",
    "execution_id": "0699e658-2510-4421-8d84-aa839873f898",
    "id": "9d0676bb"
   },
   "source": [
    "### Мы работаем с базой world\n",
    "https://prowebmastering.ru/sample-mysql-base.html\n",
    "\n",
    "## SQL Style\n",
    "https://www.sqlstyle.guide/ru/"
   ]
  },
  {
   "cell_type": "code",
   "execution_count": null,
   "id": "a6ab6f43",
   "metadata": {
    "cellId": "8axsk0g6fq3hhtuzk3rjqi",
    "id": "a6ab6f43"
   },
   "outputs": [],
   "source": []
  }
 ],
 "metadata": {
  "colab": {
   "provenance": []
  },
  "kernelspec": {
   "display_name": "Python 3 (ipykernel)",
   "language": "python",
   "name": "python3"
  },
  "language_info": {
   "codemirror_mode": {
    "name": "ipython",
    "version": 3
   },
   "file_extension": ".py",
   "mimetype": "text/x-python",
   "name": "python",
   "nbconvert_exporter": "python",
   "pygments_lexer": "ipython3",
   "version": "3.9.13"
  },
  "notebookId": "7de70280-295c-4f23-8717-c6c9bc32c8ad",
  "notebookPath": "Untitled.ipynb"
 },
 "nbformat": 4,
 "nbformat_minor": 5
}
