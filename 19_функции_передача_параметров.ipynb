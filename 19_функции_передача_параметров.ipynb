{
 "cells": [
  {
   "cell_type": "markdown",
   "id": "4efc5c9e",
   "metadata": {},
   "source": [
    "# Функции. Передача параметров"
   ]
  },
  {
   "cell_type": "markdown",
   "id": "72c5a4c7",
   "metadata": {},
   "source": [
    "## Функции (повторение)"
   ]
  },
  {
   "cell_type": "markdown",
   "id": "379734b6",
   "metadata": {},
   "source": [
    "На прошлых занятиях мы начали разбирать, как работают функции и как с их помощью структурировать код. Напомним, как определяется функция:"
   ]
  },
  {
   "cell_type": "markdown",
   "id": "2f7374f5",
   "metadata": {},
   "source": [
    "```python\n",
    "def <имя функции>([названия аргументов]):\n",
    "    <тело функции> \\\n",
    "    <...>\n",
    "```"
   ]
  },
  {
   "cell_type": "markdown",
   "id": "075a45c1",
   "metadata": {},
   "source": [
    "И как она вызывается:"
   ]
  },
  {
   "cell_type": "markdown",
   "id": "961038af",
   "metadata": {},
   "source": [
    "```python\n",
    "<имя функции>([значения аргументов])\n",
    "```"
   ]
  },
  {
   "cell_type": "markdown",
   "id": "e6a54c64",
   "metadata": {},
   "source": [
    "Мы успели рассмотреть неочевидный вопрос о том, какими переменными функция может оперировать, а какие переменные ей недоступны. Как вы уже знаете, для того чтобы провести эту границу, в языке Python существует понятие об областях видимости, которые делят переменные на внешние и локальные. Они позволяют переменным с одинаковыми именами не мешать друг другу, а главное — разделяют программу на независимые друг от друга блоки. Вы узнали, что внутренние переменные функции недоступны снаружи, а внешние переменные, наоборот, можно беспрепятственно читать.\n",
    "\n",
    "Когда вы внутри функции выполняете присваивание, появляется новая внутренняя (локальная) переменная и, если ее имя совпадает с именем внешней, она перекрывает переменную из внешней (глобальной) области видимости — и внешняя переменная остается неизменной, таким образом, внешние переменные защищены от случайной порчи. Если вы все же хотите изменить внешнюю переменную, вы должны описать переменную внутри функцию ключевым словом global. Но злоупотреблять этим не рекомендуется, поскольку отдельные части программы начинают зависеть друг от друга, что может привести ко множеству ошибок."
   ]
  },
  {
   "cell_type": "markdown",
   "id": "f104b4b5",
   "metadata": {},
   "source": [
    "## Отличие между переменной и значением"
   ]
  },
  {
   "cell_type": "markdown",
   "id": "ec662ba2",
   "metadata": {},
   "source": []
  },
  {
   "cell_type": "markdown",
   "id": "d1b1504f",
   "metadata": {},
   "source": []
  },
  {
   "cell_type": "markdown",
   "id": "7157df59",
   "metadata": {},
   "source": []
  },
  {
   "cell_type": "markdown",
   "id": "b77d2d4f",
   "metadata": {},
   "source": []
  },
  {
   "cell_type": "markdown",
   "id": "4c5f253c",
   "metadata": {},
   "source": []
  },
  {
   "cell_type": "markdown",
   "id": "e9741622",
   "metadata": {},
   "source": []
  },
  {
   "cell_type": "markdown",
   "id": "9c317f24",
   "metadata": {},
   "source": []
  },
  {
   "cell_type": "markdown",
   "id": "30b33796",
   "metadata": {},
   "source": []
  },
  {
   "cell_type": "markdown",
   "id": "2e80dab2",
   "metadata": {},
   "source": []
  },
  {
   "cell_type": "markdown",
   "id": "db54d9ca",
   "metadata": {},
   "source": []
  },
  {
   "cell_type": "markdown",
   "id": "85827c5b",
   "metadata": {},
   "source": []
  },
  {
   "cell_type": "markdown",
   "id": "746d7480",
   "metadata": {},
   "source": []
  },
  {
   "cell_type": "markdown",
   "id": "27db96fe",
   "metadata": {},
   "source": []
  },
  {
   "cell_type": "markdown",
   "id": "266b7e62",
   "metadata": {},
   "source": []
  },
  {
   "cell_type": "markdown",
   "id": "cbb8cc09",
   "metadata": {},
   "source": []
  },
  {
   "cell_type": "markdown",
   "id": "6f311279",
   "metadata": {},
   "source": []
  },
  {
   "cell_type": "markdown",
   "id": "cf579eb4",
   "metadata": {},
   "source": []
  },
  {
   "cell_type": "markdown",
   "id": "06af3c3e",
   "metadata": {},
   "source": []
  },
  {
   "cell_type": "markdown",
   "id": "06ee9558",
   "metadata": {},
   "source": []
  },
  {
   "cell_type": "markdown",
   "id": "4cbc5e02",
   "metadata": {},
   "source": []
  },
  {
   "cell_type": "markdown",
   "id": "dd3a13bd",
   "metadata": {},
   "source": []
  },
  {
   "cell_type": "markdown",
   "id": "27c475ca",
   "metadata": {},
   "source": []
  },
  {
   "cell_type": "markdown",
   "id": "3b9b840f",
   "metadata": {},
   "source": []
  },
  {
   "cell_type": "markdown",
   "id": "b8e51671",
   "metadata": {},
   "source": []
  },
  {
   "cell_type": "markdown",
   "id": "f04c5b9f",
   "metadata": {},
   "source": []
  },
  {
   "cell_type": "markdown",
   "id": "860f83a3",
   "metadata": {},
   "source": []
  },
  {
   "cell_type": "markdown",
   "id": "6a7cdf50",
   "metadata": {},
   "source": []
  },
  {
   "cell_type": "markdown",
   "id": "71c3db3e",
   "metadata": {},
   "source": []
  },
  {
   "cell_type": "markdown",
   "id": "da3d270f",
   "metadata": {},
   "source": []
  },
  {
   "cell_type": "markdown",
   "id": "3748ccbb",
   "metadata": {},
   "source": []
  },
  {
   "cell_type": "markdown",
   "id": "9a1e17a3",
   "metadata": {},
   "source": []
  },
  {
   "cell_type": "markdown",
   "id": "f154aaca",
   "metadata": {},
   "source": []
  },
  {
   "cell_type": "markdown",
   "id": "064d9e26",
   "metadata": {},
   "source": []
  },
  {
   "cell_type": "markdown",
   "id": "4fd64789",
   "metadata": {},
   "source": []
  },
  {
   "cell_type": "markdown",
   "id": "8d47d737",
   "metadata": {},
   "source": []
  },
  {
   "cell_type": "markdown",
   "id": "325a9f79",
   "metadata": {},
   "source": []
  },
  {
   "cell_type": "markdown",
   "id": "4af04d19",
   "metadata": {},
   "source": []
  },
  {
   "cell_type": "markdown",
   "id": "f34c6650",
   "metadata": {},
   "source": []
  },
  {
   "cell_type": "markdown",
   "id": "fc215c54",
   "metadata": {},
   "source": []
  },
  {
   "cell_type": "markdown",
   "id": "cc5f7b1e",
   "metadata": {},
   "source": []
  },
  {
   "cell_type": "markdown",
   "id": "0712f55d",
   "metadata": {},
   "source": []
  },
  {
   "cell_type": "markdown",
   "id": "d094a14f",
   "metadata": {},
   "source": []
  },
  {
   "cell_type": "markdown",
   "id": "a4e09154",
   "metadata": {},
   "source": []
  },
  {
   "cell_type": "markdown",
   "id": "17826e1b",
   "metadata": {},
   "source": []
  },
  {
   "cell_type": "markdown",
   "id": "b784a210",
   "metadata": {},
   "source": []
  },
  {
   "cell_type": "markdown",
   "id": "e110f24e",
   "metadata": {},
   "source": []
  },
  {
   "cell_type": "markdown",
   "id": "7c8e7b88",
   "metadata": {},
   "source": []
  },
  {
   "cell_type": "markdown",
   "id": "0fa7ca15",
   "metadata": {},
   "source": []
  },
  {
   "cell_type": "markdown",
   "id": "a531a386",
   "metadata": {},
   "source": []
  },
  {
   "cell_type": "markdown",
   "id": "bc971db7",
   "metadata": {},
   "source": []
  },
  {
   "cell_type": "markdown",
   "id": "bb2fb66a",
   "metadata": {},
   "source": []
  },
  {
   "cell_type": "markdown",
   "id": "d8a44b7c",
   "metadata": {},
   "source": []
  },
  {
   "cell_type": "markdown",
   "id": "7419a7f5",
   "metadata": {},
   "source": []
  },
  {
   "cell_type": "markdown",
   "id": "2e3df3f6",
   "metadata": {},
   "source": []
  },
  {
   "cell_type": "markdown",
   "id": "55392bc9",
   "metadata": {},
   "source": []
  },
  {
   "cell_type": "markdown",
   "id": "6f397aa5",
   "metadata": {},
   "source": []
  },
  {
   "cell_type": "markdown",
   "id": "59c40184",
   "metadata": {},
   "source": []
  },
  {
   "cell_type": "markdown",
   "id": "fd3b55e3",
   "metadata": {},
   "source": []
  },
  {
   "cell_type": "markdown",
   "id": "6d23ac02",
   "metadata": {},
   "source": []
  },
  {
   "cell_type": "markdown",
   "id": "36aa0686",
   "metadata": {},
   "source": []
  },
  {
   "cell_type": "markdown",
   "id": "4181f355",
   "metadata": {},
   "source": []
  },
  {
   "cell_type": "markdown",
   "id": "4807e6b4",
   "metadata": {},
   "source": []
  },
  {
   "cell_type": "markdown",
   "id": "9ed64a97",
   "metadata": {},
   "source": []
  },
  {
   "cell_type": "markdown",
   "id": "b5ced61b",
   "metadata": {},
   "source": []
  },
  {
   "cell_type": "markdown",
   "id": "743aff08",
   "metadata": {},
   "source": []
  },
  {
   "cell_type": "markdown",
   "id": "c685903a",
   "metadata": {},
   "source": []
  },
  {
   "cell_type": "markdown",
   "id": "56dd5cec",
   "metadata": {},
   "source": []
  },
  {
   "cell_type": "markdown",
   "id": "f3749552",
   "metadata": {},
   "source": []
  },
  {
   "cell_type": "markdown",
   "id": "8cb98324",
   "metadata": {},
   "source": []
  },
  {
   "cell_type": "markdown",
   "id": "eee66277",
   "metadata": {},
   "source": []
  },
  {
   "cell_type": "markdown",
   "id": "1846160c",
   "metadata": {},
   "source": []
  },
  {
   "cell_type": "markdown",
   "id": "1aadfa65",
   "metadata": {},
   "source": []
  },
  {
   "cell_type": "markdown",
   "id": "970f6b68",
   "metadata": {},
   "source": []
  },
  {
   "cell_type": "markdown",
   "id": "151182d7",
   "metadata": {},
   "source": []
  },
  {
   "cell_type": "markdown",
   "id": "d81c1f22",
   "metadata": {},
   "source": []
  },
  {
   "cell_type": "markdown",
   "id": "32d6f32c",
   "metadata": {},
   "source": []
  },
  {
   "cell_type": "markdown",
   "id": "7674a078",
   "metadata": {},
   "source": []
  },
  {
   "cell_type": "markdown",
   "id": "e5c23982",
   "metadata": {},
   "source": []
  },
  {
   "cell_type": "markdown",
   "id": "aad1c68a",
   "metadata": {},
   "source": []
  },
  {
   "cell_type": "markdown",
   "id": "10c9a13f",
   "metadata": {},
   "source": []
  },
  {
   "cell_type": "markdown",
   "id": "f9a79e93",
   "metadata": {},
   "source": []
  },
  {
   "cell_type": "markdown",
   "id": "6b49fa43",
   "metadata": {},
   "source": []
  },
  {
   "cell_type": "markdown",
   "id": "805c79cb",
   "metadata": {},
   "source": []
  },
  {
   "cell_type": "markdown",
   "id": "e7a6749c",
   "metadata": {},
   "source": []
  },
  {
   "cell_type": "markdown",
   "id": "296e99ca",
   "metadata": {},
   "source": []
  },
  {
   "cell_type": "markdown",
   "id": "4ff40e70",
   "metadata": {},
   "source": []
  },
  {
   "cell_type": "markdown",
   "id": "0c39b896",
   "metadata": {},
   "source": []
  },
  {
   "cell_type": "markdown",
   "id": "d149670e",
   "metadata": {},
   "source": []
  },
  {
   "cell_type": "markdown",
   "id": "1a541315",
   "metadata": {},
   "source": []
  },
  {
   "cell_type": "markdown",
   "id": "35f03a53",
   "metadata": {},
   "source": []
  },
  {
   "cell_type": "markdown",
   "id": "68b20880",
   "metadata": {},
   "source": []
  },
  {
   "cell_type": "markdown",
   "id": "0ce17d5e",
   "metadata": {},
   "source": []
  }
 ],
 "metadata": {
  "kernelspec": {
   "display_name": "Python 3 (ipykernel)",
   "language": "python",
   "name": "python3"
  },
  "language_info": {
   "codemirror_mode": {
    "name": "ipython",
    "version": 3
   },
   "file_extension": ".py",
   "mimetype": "text/x-python",
   "name": "python",
   "nbconvert_exporter": "python",
   "pygments_lexer": "ipython3",
   "version": "3.11.5"
  }
 },
 "nbformat": 4,
 "nbformat_minor": 5
}
