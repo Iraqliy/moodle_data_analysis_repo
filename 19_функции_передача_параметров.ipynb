{
 "cells": [
  {
   "cell_type": "markdown",
   "id": "bd07084f",
   "metadata": {},
   "source": [
    "# Функции. Передача параметров"
   ]
  },
  {
   "cell_type": "markdown",
   "id": "923323a7",
   "metadata": {},
   "source": [
    "## Функции (повторение)"
   ]
  },
  {
   "cell_type": "markdown",
   "id": "6d8710dd",
   "metadata": {},
   "source": [
    "На прошлых занятиях мы начали разбирать, как работают функции и как с их помощью структурировать код. Напомним, как определяется функция:"
   ]
  },
  {
   "cell_type": "markdown",
   "id": "42292b53",
   "metadata": {},
   "source": [
    "`{def <имя функции>([названия аргументов]): <b\n",
    "    <тело функции> \\\n",
    "    <...>}`"
   ]
  },
  {
   "cell_type": "markdown",
   "id": "0f467acf",
   "metadata": {},
   "source": []
  },
  {
   "cell_type": "markdown",
   "id": "917f88f7",
   "metadata": {},
   "source": []
  },
  {
   "cell_type": "markdown",
   "id": "34d1afd9",
   "metadata": {},
   "source": []
  },
  {
   "cell_type": "markdown",
   "id": "5cc445cf",
   "metadata": {},
   "source": []
  },
  {
   "cell_type": "markdown",
   "id": "60d83461",
   "metadata": {},
   "source": []
  },
  {
   "cell_type": "markdown",
   "id": "e5d38c94",
   "metadata": {},
   "source": []
  },
  {
   "cell_type": "markdown",
   "id": "df0a417e",
   "metadata": {},
   "source": []
  },
  {
   "cell_type": "markdown",
   "id": "40f57277",
   "metadata": {},
   "source": []
  },
  {
   "cell_type": "markdown",
   "id": "779e8f71",
   "metadata": {},
   "source": []
  },
  {
   "cell_type": "markdown",
   "id": "cc59d92b",
   "metadata": {},
   "source": []
  },
  {
   "cell_type": "markdown",
   "id": "21cf63d0",
   "metadata": {},
   "source": []
  },
  {
   "cell_type": "markdown",
   "id": "90c7552f",
   "metadata": {},
   "source": []
  },
  {
   "cell_type": "markdown",
   "id": "f87d4820",
   "metadata": {},
   "source": []
  },
  {
   "cell_type": "markdown",
   "id": "561ec613",
   "metadata": {},
   "source": []
  },
  {
   "cell_type": "markdown",
   "id": "aa6cb0cf",
   "metadata": {},
   "source": []
  },
  {
   "cell_type": "markdown",
   "id": "1c4b684d",
   "metadata": {},
   "source": []
  },
  {
   "cell_type": "markdown",
   "id": "1027e3fe",
   "metadata": {},
   "source": []
  },
  {
   "cell_type": "markdown",
   "id": "c1c7228f",
   "metadata": {},
   "source": []
  },
  {
   "cell_type": "markdown",
   "id": "d49785d4",
   "metadata": {},
   "source": []
  },
  {
   "cell_type": "markdown",
   "id": "eb12bd79",
   "metadata": {},
   "source": []
  },
  {
   "cell_type": "markdown",
   "id": "502c59dc",
   "metadata": {},
   "source": []
  },
  {
   "cell_type": "markdown",
   "id": "03684832",
   "metadata": {},
   "source": []
  },
  {
   "cell_type": "markdown",
   "id": "4df8962f",
   "metadata": {},
   "source": []
  },
  {
   "cell_type": "markdown",
   "id": "5e656aec",
   "metadata": {},
   "source": []
  },
  {
   "cell_type": "markdown",
   "id": "650ca302",
   "metadata": {},
   "source": []
  },
  {
   "cell_type": "markdown",
   "id": "44ed7b4c",
   "metadata": {},
   "source": []
  },
  {
   "cell_type": "markdown",
   "id": "5fa1fa55",
   "metadata": {},
   "source": []
  },
  {
   "cell_type": "markdown",
   "id": "afd71a35",
   "metadata": {},
   "source": []
  },
  {
   "cell_type": "markdown",
   "id": "3e82b239",
   "metadata": {},
   "source": []
  },
  {
   "cell_type": "markdown",
   "id": "5860d3b4",
   "metadata": {},
   "source": []
  },
  {
   "cell_type": "markdown",
   "id": "77671a46",
   "metadata": {},
   "source": []
  },
  {
   "cell_type": "markdown",
   "id": "b8b8969b",
   "metadata": {},
   "source": []
  },
  {
   "cell_type": "markdown",
   "id": "9a849760",
   "metadata": {},
   "source": []
  },
  {
   "cell_type": "markdown",
   "id": "c0da5ac3",
   "metadata": {},
   "source": []
  },
  {
   "cell_type": "markdown",
   "id": "d634a419",
   "metadata": {},
   "source": []
  },
  {
   "cell_type": "markdown",
   "id": "39320695",
   "metadata": {},
   "source": []
  },
  {
   "cell_type": "markdown",
   "id": "0d4dafdf",
   "metadata": {},
   "source": []
  },
  {
   "cell_type": "markdown",
   "id": "515fd520",
   "metadata": {},
   "source": []
  },
  {
   "cell_type": "markdown",
   "id": "a6214764",
   "metadata": {},
   "source": []
  },
  {
   "cell_type": "markdown",
   "id": "c2e05478",
   "metadata": {},
   "source": []
  },
  {
   "cell_type": "markdown",
   "id": "62d0d2f3",
   "metadata": {},
   "source": []
  },
  {
   "cell_type": "markdown",
   "id": "7e00be36",
   "metadata": {},
   "source": []
  },
  {
   "cell_type": "markdown",
   "id": "2e1ee1d1",
   "metadata": {},
   "source": []
  },
  {
   "cell_type": "markdown",
   "id": "1ae85e1b",
   "metadata": {},
   "source": []
  },
  {
   "cell_type": "markdown",
   "id": "7817de15",
   "metadata": {},
   "source": []
  },
  {
   "cell_type": "markdown",
   "id": "fbee0397",
   "metadata": {},
   "source": []
  },
  {
   "cell_type": "markdown",
   "id": "e1ac0be8",
   "metadata": {},
   "source": []
  },
  {
   "cell_type": "markdown",
   "id": "0b6a2ec7",
   "metadata": {},
   "source": []
  },
  {
   "cell_type": "markdown",
   "id": "e53c8e36",
   "metadata": {},
   "source": []
  },
  {
   "cell_type": "markdown",
   "id": "06a31d3e",
   "metadata": {},
   "source": []
  },
  {
   "cell_type": "markdown",
   "id": "b145922d",
   "metadata": {},
   "source": []
  },
  {
   "cell_type": "markdown",
   "id": "84e8a235",
   "metadata": {},
   "source": []
  },
  {
   "cell_type": "markdown",
   "id": "63eff288",
   "metadata": {},
   "source": []
  },
  {
   "cell_type": "markdown",
   "id": "9cb5ab4d",
   "metadata": {},
   "source": []
  },
  {
   "cell_type": "markdown",
   "id": "a34b1088",
   "metadata": {},
   "source": []
  },
  {
   "cell_type": "markdown",
   "id": "3e132181",
   "metadata": {},
   "source": []
  },
  {
   "cell_type": "markdown",
   "id": "d2b7388e",
   "metadata": {},
   "source": []
  },
  {
   "cell_type": "markdown",
   "id": "74dcd575",
   "metadata": {},
   "source": []
  },
  {
   "cell_type": "markdown",
   "id": "a7011930",
   "metadata": {},
   "source": []
  },
  {
   "cell_type": "markdown",
   "id": "12151c5e",
   "metadata": {},
   "source": []
  },
  {
   "cell_type": "markdown",
   "id": "7bfeb860",
   "metadata": {},
   "source": []
  },
  {
   "cell_type": "markdown",
   "id": "8479e2a2",
   "metadata": {},
   "source": []
  },
  {
   "cell_type": "markdown",
   "id": "831c8607",
   "metadata": {},
   "source": []
  },
  {
   "cell_type": "markdown",
   "id": "dd5d8c41",
   "metadata": {},
   "source": []
  },
  {
   "cell_type": "markdown",
   "id": "31868726",
   "metadata": {},
   "source": []
  },
  {
   "cell_type": "markdown",
   "id": "f8e6f775",
   "metadata": {},
   "source": []
  },
  {
   "cell_type": "markdown",
   "id": "5f66ae82",
   "metadata": {},
   "source": []
  },
  {
   "cell_type": "markdown",
   "id": "26293701",
   "metadata": {},
   "source": []
  },
  {
   "cell_type": "markdown",
   "id": "9371c183",
   "metadata": {},
   "source": []
  },
  {
   "cell_type": "markdown",
   "id": "64b0f2fd",
   "metadata": {},
   "source": []
  },
  {
   "cell_type": "markdown",
   "id": "be5c2e1a",
   "metadata": {},
   "source": []
  },
  {
   "cell_type": "markdown",
   "id": "e8d6a3d0",
   "metadata": {},
   "source": []
  },
  {
   "cell_type": "markdown",
   "id": "62877fe1",
   "metadata": {},
   "source": []
  },
  {
   "cell_type": "markdown",
   "id": "4a6e915b",
   "metadata": {},
   "source": []
  },
  {
   "cell_type": "markdown",
   "id": "418e74a8",
   "metadata": {},
   "source": []
  },
  {
   "cell_type": "markdown",
   "id": "17de435a",
   "metadata": {},
   "source": []
  },
  {
   "cell_type": "markdown",
   "id": "fac6d7b6",
   "metadata": {},
   "source": []
  },
  {
   "cell_type": "markdown",
   "id": "797f6b40",
   "metadata": {},
   "source": []
  },
  {
   "cell_type": "markdown",
   "id": "517830a2",
   "metadata": {},
   "source": []
  },
  {
   "cell_type": "markdown",
   "id": "c116e13a",
   "metadata": {},
   "source": []
  },
  {
   "cell_type": "markdown",
   "id": "efe6ae10",
   "metadata": {},
   "source": []
  },
  {
   "cell_type": "markdown",
   "id": "2a94afeb",
   "metadata": {},
   "source": []
  },
  {
   "cell_type": "markdown",
   "id": "1e399aab",
   "metadata": {},
   "source": []
  },
  {
   "cell_type": "markdown",
   "id": "8c01f780",
   "metadata": {},
   "source": []
  },
  {
   "cell_type": "markdown",
   "id": "7a0f1ecf",
   "metadata": {},
   "source": []
  },
  {
   "cell_type": "markdown",
   "id": "73b35bb4",
   "metadata": {},
   "source": []
  },
  {
   "cell_type": "markdown",
   "id": "5aced4ad",
   "metadata": {},
   "source": []
  },
  {
   "cell_type": "markdown",
   "id": "00c14ff6",
   "metadata": {},
   "source": []
  },
  {
   "cell_type": "markdown",
   "id": "0d3d8293",
   "metadata": {},
   "source": []
  },
  {
   "cell_type": "markdown",
   "id": "73c83890",
   "metadata": {},
   "source": []
  },
  {
   "cell_type": "markdown",
   "id": "4188a132",
   "metadata": {},
   "source": []
  },
  {
   "cell_type": "markdown",
   "id": "66030245",
   "metadata": {},
   "source": []
  },
  {
   "cell_type": "markdown",
   "id": "157958fd",
   "metadata": {},
   "source": []
  },
  {
   "cell_type": "markdown",
   "id": "69da00ca",
   "metadata": {},
   "source": []
  },
  {
   "cell_type": "markdown",
   "id": "ad739f55",
   "metadata": {},
   "source": []
  },
  {
   "cell_type": "markdown",
   "id": "29378cb3",
   "metadata": {},
   "source": []
  }
 ],
 "metadata": {
  "kernelspec": {
   "display_name": "Python 3 (ipykernel)",
   "language": "python",
   "name": "python3"
  },
  "language_info": {
   "codemirror_mode": {
    "name": "ipython",
    "version": 3
   },
   "file_extension": ".py",
   "mimetype": "text/x-python",
   "name": "python",
   "nbconvert_exporter": "python",
   "pygments_lexer": "ipython3",
   "version": "3.11.5"
  }
 },
 "nbformat": 4,
 "nbformat_minor": 5
}
