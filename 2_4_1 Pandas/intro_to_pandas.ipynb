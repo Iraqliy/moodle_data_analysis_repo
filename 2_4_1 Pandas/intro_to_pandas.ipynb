{
 "cells": [
  {
   "cell_type": "markdown",
   "id": "876acf47-3135-4e12-95e4-747f699450af",
   "metadata": {},
   "source": [
    "# Pandas вкратце"
   ]
  },
  {
   "cell_type": "markdown",
   "id": "fee6923e-e109-4f4f-8559-d7031059d8cd",
   "metadata": {},
   "source": [
    "Это краткое введение в pandas, предназначенное в основном для начинающих пользователей"
   ]
  },
  {
   "cell_type": "markdown",
   "id": "93da999c-f467-4b8c-b653-8a3639368502",
   "metadata": {},
   "source": [
    "## Basic data structures in pandas"
   ]
  },
  {
   "cell_type": "markdown",
   "id": "dcecd79c-c72a-4a81-8786-fcfd8dd97574",
   "metadata": {},
   "source": [
    "Pandas предоставляет два типа классов для работы с данными:\n",
    "\n",
    "- `Series`: одномерный маркированный массив, содержащий данные любого типа\n",
    "таких как целые числа, строки, объекты Python и т.д.\n",
    "\n",
    "- `DataFrame` - двумерная структура данных, которая хранит данные как двумерный массив или таблица со строками и столбцами."
   ]
  },
  {
   "cell_type": "markdown",
   "id": "894e775a-a4af-4a67-8be4-c2557cffd207",
   "metadata": {},
   "source": [
    "## Создание объектов\n",
    "\n",
    "Создание `серии` путем передачи списка значений, позволяя pandas создать `RangeIndex` по умолчанию."
   ]
  },
  {
   "cell_type": "code",
   "execution_count": null,
   "id": "7446f20e-3699-4863-bbd4-6628e00935f3",
   "metadata": {},
   "outputs": [],
   "source": [
    "import pandas as pd\n",
    "import numpy as np"
   ]
  },
  {
   "cell_type": "code",
   "execution_count": null,
   "id": "7b6f107c-b78f-4d24-98d0-53acbedf56e0",
   "metadata": {},
   "outputs": [],
   "source": [
    "s = pd.Series([1, 3, 5, np.nan, 6, 8])\n",
    "s"
   ]
  },
  {
   "cell_type": "markdown",
   "id": "030b1032-21dc-455c-8483-f8dec6be4e1a",
   "metadata": {},
   "source": [
    "Создание `DataFrame` путем передачи массива NumPy с индексом времени с использованием функции `date_range()` и маркированными столбцами:"
   ]
  },
  {
   "cell_type": "code",
   "execution_count": null,
   "id": "a5eff0f9-dc1a-433e-b092-100cf33ad9c3",
   "metadata": {},
   "outputs": [],
   "source": [
    "dates = pd.date_range(\"20130101\", periods=6)\n",
    "\n",
    "dates"
   ]
  },
  {
   "cell_type": "code",
   "execution_count": null,
   "id": "499b6ccd-d550-430e-9e1e-e3ba0077a87b",
   "metadata": {},
   "outputs": [],
   "source": [
    "df = pd.DataFrame(np.random.randn(6, 4), index=dates, columns=list(\"ABCD\")) # индексы - даты, колонки - буквы, значения - матрица 6x4 из случайных чисел)\n",
    "\n",
    "df"
   ]
  },
  {
   "cell_type": "markdown",
   "id": "68543bea-9a19-4ad5-874f-fc285afc0f09",
   "metadata": {},
   "source": [
    "Создание `DataFrame` путем передачи словаря объектов, в котором ключами являются метки столбцов, а значениями - значения столбцов."
   ]
  },
  {
   "cell_type": "code",
   "execution_count": null,
   "id": "0819a031-252a-498b-b321-aa8418801f41",
   "metadata": {
    "scrolled": true
   },
   "outputs": [],
   "source": [
    "df2 = pd.DataFrame(\n",
    "    {\n",
    "        \"A\": 1.0,\n",
    "\n",
    "        \"B\": pd.Timestamp(\"20130102\"),\n",
    "\n",
    "        \"C\": pd.Series(1, index=list(range(4)), dtype=\"float32\"),\n",
    "\n",
    "        \"D\": np.array([3] * 4, dtype=\"int32\"),\n",
    "\n",
    "        \"E\": pd.Categorical([\"test\", \"train\", \"test\", \"train\"]),\n",
    "\n",
    "        \"F\": \"foo\",\n",
    "    }\n",
    ")\n",
    "\n",
    "df2"
   ]
  },
  {
   "cell_type": "markdown",
   "id": "17995dda-8efc-4fd3-85b8-7fc7836ad703",
   "metadata": {},
   "source": [
    "В примере выше для задания датасета использовался `словарь`. Колонками стали буквы, а значениями в столбцах - то, что указано после двоеточия.\n",
    "\n",
    "`Словари` - это еще один тип данных в Python. Как и `списки`, они хранят несколько значений. Однако их назначение - отчего и функционал, - различаются"
   ]
  },
  {
   "cell_type": "markdown",
   "id": "1469ca02-6279-4782-a275-68817ff6fdcf",
   "metadata": {},
   "source": [
    "Само название \"словарь\" уже наталкивает нас на правильную ассоциацию. Если вы представите, что вам нужно хранить содержимое англо-русского словаря, то словари здесь подходят идеально. Запустите пример ниже"
   ]
  },
  {
   "cell_type": "code",
   "execution_count": null,
   "id": "1ce30418-d4d6-49d1-9b24-9324b0b14de2",
   "metadata": {},
   "outputs": [],
   "source": [
    "en_rus_dictionary = {\n",
    "    'cat': 'котка',\n",
    "    'dot': 'пёсель',\n",
    "    'killer whale / orca': 'косатич'\n",
    "}"
   ]
  },
  {
   "cell_type": "code",
   "execution_count": null,
   "id": "ccfb20aa-39df-4e9b-949b-a8ef12980840",
   "metadata": {},
   "outputs": [],
   "source": [
    "en_rus_dictionary"
   ]
  },
  {
   "cell_type": "markdown",
   "id": "b112d6cd-1d71-4878-a926-ed75e0b9ac23",
   "metadata": {},
   "source": [
    "Переменная выше хранит в себе словарь. В нем английские слова - это `ключи` словаря. Ключам словаря соответствуют `значения`. В данном случае значения - это переводы английских слов.\n",
    "\n",
    "Используя ключи, можно получать значения этих ключей. Это чем-то похоже на то, как в списках можно получать значения по индексу. На всякий случай напомним, как работают списки, приведя краткий код-демонстрацию"
   ]
  },
  {
   "cell_type": "code",
   "execution_count": null,
   "id": "ac6d920f-4eb6-4bac-a340-149553c807d1",
   "metadata": {},
   "outputs": [],
   "source": [
    "to_do_list = [\n",
    "    'Выгулять кота',\n",
    "    'Проспать кукушку',\n",
    "    'Выгнать капибару',\n",
    "    'Вычислить колибри'\n",
    "]\n",
    "\n",
    "to_do_list"
   ]
  },
  {
   "cell_type": "code",
   "execution_count": null,
   "id": "b9dff4c4-35f8-4e37-ace1-524ed3f47824",
   "metadata": {},
   "outputs": [],
   "source": [
    "to_do_list[2]"
   ]
  },
  {
   "cell_type": "markdown",
   "id": "91e62752-b1e1-4b59-9558-068cfd0ed7bc",
   "metadata": {},
   "source": [
    "Аналогично, для словарей"
   ]
  },
  {
   "cell_type": "code",
   "execution_count": null,
   "id": "c10d2f76-8f56-4fbe-81ce-5d9fb80a0ed4",
   "metadata": {},
   "outputs": [],
   "source": [
    "en_rus_dictionary['cat']"
   ]
  },
  {
   "cell_type": "markdown",
   "id": "0ccab5e1-19bc-4d2c-b423-419c2bae2ef3",
   "metadata": {},
   "source": [
    "Вместо индексов используются ключи. В квадратных скобках передается не число-индекс, а ключ. Хотя ключом может быть и число, если того требует ситуация."
   ]
  },
  {
   "cell_type": "code",
   "execution_count": null,
   "id": "a7820769-5281-4805-b6ad-5b4ac3909807",
   "metadata": {
    "scrolled": true
   },
   "outputs": [],
   "source": [
    "events = {\n",
    "    1984: ['Мартин упал с моста', 'Джон стал почетным членом совета гусей', 'Лиза существовала'],\n",
    "    2016: ['Володя убегает', 'Денег нет, но мы держимся', 'Ди Каприо больше не мем']\n",
    "}\n",
    "\n",
    "events[1984]"
   ]
  },
  {
   "cell_type": "markdown",
   "id": "b9da19db-93e1-4d1f-bd1b-7ad628eacec8",
   "metadata": {},
   "source": [
    "Таким образом, задав словарем dataframe, можно ключами указать заголовки, а значениями - значения столбцов датафрейма.\n",
    "\n",
    "Причем столбцы результирующего DataFrame имеют разные dtypes:"
   ]
  },
  {
   "cell_type": "code",
   "execution_count": null,
   "id": "8e8b0b3d-603d-4618-ad68-7c5eeb6b10be",
   "metadata": {},
   "outputs": [],
   "source": [
    "df2.dtypes"
   ]
  },
  {
   "cell_type": "markdown",
   "id": "62f57871-851a-4ff4-8619-6272efabef5d",
   "metadata": {},
   "source": [
    "## Просмотр данных\n",
    "\n",
    "Для просмотра верхней и нижней строк кадра используйте `DataFrame.head()` и `DataFrame.tail()` соответственно:"
   ]
  },
  {
   "cell_type": "code",
   "execution_count": null,
   "id": "e5c6c8b6-0172-4909-a6da-d1ed5de0df33",
   "metadata": {},
   "outputs": [],
   "source": [
    "df.head()"
   ]
  },
  {
   "cell_type": "code",
   "execution_count": null,
   "id": "54bafaaa-279c-4bf7-85d7-3340d4f5d5ff",
   "metadata": {},
   "outputs": [],
   "source": [
    "df.tail(3)"
   ]
  },
  {
   "cell_type": "markdown",
   "id": "f0de7018-36db-42da-8941-7a8ca2cfad6a",
   "metadata": {},
   "source": [
    "Отображение `DataFrame.index` или `DataFrame.columns`:"
   ]
  },
  {
   "cell_type": "code",
   "execution_count": null,
   "id": "e8b38919-453a-4af4-ad9e-a0d71813ef30",
   "metadata": {},
   "outputs": [],
   "source": [
    "df.index"
   ]
  },
  {
   "cell_type": "code",
   "execution_count": null,
   "id": "c6e8dcbe-98b7-449b-a8d7-f659f4e82d87",
   "metadata": {},
   "outputs": [],
   "source": [
    "df.columns"
   ]
  },
  {
   "cell_type": "markdown",
   "id": "a89dc7ea-3ede-41e2-9172-be836f77b238",
   "metadata": {},
   "source": [
    "Возвращает NumPy-представление базовых данных с помощью `DataFrame.to_numpy()` без меток индексов и столбцов:"
   ]
  },
  {
   "cell_type": "code",
   "execution_count": null,
   "id": "29a19667-90d3-46ff-8f1b-fe21defb1d94",
   "metadata": {},
   "outputs": [],
   "source": [
    "df.to_numpy()"
   ]
  },
  {
   "cell_type": "markdown",
   "id": "7a0e9a50-d7d7-497a-8fec-f6b3a9b0a83f",
   "metadata": {},
   "source": [
    "`describe()` выводит краткую статистическую информацию о ваших данных:"
   ]
  },
  {
   "cell_type": "code",
   "execution_count": null,
   "id": "2b6287dd-bfbf-4584-a0df-0b631fc14e43",
   "metadata": {},
   "outputs": [],
   "source": [
    "df.describe()"
   ]
  },
  {
   "cell_type": "markdown",
   "id": "64b781b5-664a-4c80-8c0c-7eddbf4ea168",
   "metadata": {},
   "source": [
    "Транспонирование данных:"
   ]
  },
  {
   "cell_type": "code",
   "execution_count": null,
   "id": "9dbae88d-c9f3-45e5-8f1a-8b4cb1ed720a",
   "metadata": {},
   "outputs": [],
   "source": [
    "df.T"
   ]
  },
  {
   "cell_type": "markdown",
   "id": "87adb5b9-9aa2-4eba-b21c-997bacc173c6",
   "metadata": {},
   "source": [
    "В транспонированных данных строки становятся столбцами, а столбцы - строками. Наглядно этот процесс продемонстрирован далее"
   ]
  },
  {
   "cell_type": "markdown",
   "id": "31fd1b0b-a8ad-4f1c-bc29-88ad378e01d1",
   "metadata": {},
   "source": [
    "![title](img/transpose.gif) ![title](img/transpose2.gif)"
   ]
  },
  {
   "cell_type": "markdown",
   "id": "e83460e9-7c4f-4bcb-acc1-68c4bf9aec0d",
   "metadata": {},
   "source": [
    "`DataFrame.sort_index()` выполняет сортировку по оси:"
   ]
  },
  {
   "cell_type": "code",
   "execution_count": null,
   "id": "72467e9f-315a-44e1-9d69-0a5d6cace7da",
   "metadata": {},
   "outputs": [],
   "source": [
    "df"
   ]
  },
  {
   "cell_type": "code",
   "execution_count": null,
   "id": "062a7730-e711-46ed-b8f8-7273c2079fac",
   "metadata": {},
   "outputs": [],
   "source": [
    "df.sort_index(axis=1, ascending=False)"
   ]
  },
  {
   "cell_type": "markdown",
   "id": "17c336f5-7572-4849-b719-457fe801fc1d",
   "metadata": {},
   "source": [
    "`DataFrame.sort_values()` выполняет сортировку по значениям:"
   ]
  },
  {
   "cell_type": "code",
   "execution_count": null,
   "id": "0102cb3a-5ff1-4cda-8098-a25997a8d36f",
   "metadata": {},
   "outputs": [],
   "source": [
    "df.sort_values(by=\"B\")"
   ]
  },
  {
   "cell_type": "code",
   "execution_count": null,
   "id": "12efd806-c673-41ac-83c8-b6cad7118727",
   "metadata": {},
   "outputs": [],
   "source": [
    "df # обратите внимание на то, что содержимое датафрейма не меняется, порядок остается прежним"
   ]
  },
  {
   "cell_type": "markdown",
   "id": "e336ef37-08a9-40b0-a6d5-391c2cb08f19",
   "metadata": {},
   "source": [
    "## Выборка"
   ]
  },
  {
   "cell_type": "markdown",
   "id": "29614f31-80e1-4f0d-87a0-d0e6291befc4",
   "metadata": {},
   "source": [
    "### Getitem ([])\n",
    "Для `DataFrame` передача одной метки позволяет выбрать столбец и получить `Series`, эквивалентный `df.A`:"
   ]
  },
  {
   "cell_type": "code",
   "execution_count": null,
   "id": "6a67627d-85e6-4d3f-88f0-e0e774a98463",
   "metadata": {},
   "outputs": [],
   "source": [
    "df[\"A\"]"
   ]
  },
  {
   "cell_type": "code",
   "execution_count": null,
   "id": "c82c6ac2-0313-4d7c-bc4f-410ca7f2d572",
   "metadata": {},
   "outputs": [],
   "source": [
    "df.A"
   ]
  },
  {
   "cell_type": "markdown",
   "id": "cb95b06e-50bc-44bf-bfa9-bf5f1045a536",
   "metadata": {},
   "source": [
    "Для DataFrame передача фрагмента `:` выбирает совпадающие строки:"
   ]
  },
  {
   "cell_type": "code",
   "execution_count": null,
   "id": "d2822cca-d6f5-449c-a574-9cbb85501a63",
   "metadata": {},
   "outputs": [],
   "source": [
    "df[0:3]"
   ]
  },
  {
   "cell_type": "code",
   "execution_count": null,
   "id": "9c62c610-463d-4351-8545-a5883e1aef37",
   "metadata": {},
   "outputs": [],
   "source": [
    "df[\"20130102\":\"20130104\"]"
   ]
  },
  {
   "cell_type": "markdown",
   "id": "ee11a83f-b8bd-44ad-b27d-144e3d8e0dac",
   "metadata": {},
   "source": [
    "### Выбор по метке"
   ]
  },
  {
   "cell_type": "markdown",
   "id": "fbadf81c-00c6-44bf-a2a3-39ec4d334b1c",
   "metadata": {},
   "source": [
    "Выбор строки, соответствующей метке:"
   ]
  },
  {
   "cell_type": "code",
   "execution_count": null,
   "id": "04e8a64f-29bb-462f-be25-ed1bfca9fa06",
   "metadata": {},
   "outputs": [],
   "source": [
    "dates"
   ]
  },
  {
   "cell_type": "code",
   "execution_count": null,
   "id": "ad18d6d4-27e8-4302-9606-a80c38f8f6c4",
   "metadata": {},
   "outputs": [],
   "source": [
    "df.loc[dates[0]] # выбор серии за 2013-01-01"
   ]
  },
  {
   "cell_type": "markdown",
   "id": "8f4df748-2ce5-4447-986e-b7bd6779faad",
   "metadata": {},
   "source": [
    "Выделение всех строк (`:`) с помощью метки столбца `select`:"
   ]
  },
  {
   "cell_type": "code",
   "execution_count": null,
   "id": "fd122b5a-8750-4b89-a86e-6f451e139272",
   "metadata": {},
   "outputs": [],
   "source": [
    "df.loc[:, [\"A\", \"B\"]]"
   ]
  },
  {
   "cell_type": "markdown",
   "id": "c56901ef-f4e5-4430-a1b3-18e630e10bd4",
   "metadata": {},
   "source": [
    "При нарезке меток включаются обе конечные точки:"
   ]
  },
  {
   "cell_type": "code",
   "execution_count": null,
   "id": "cf40034b-4dd6-4a90-b491-89d9290328a9",
   "metadata": {},
   "outputs": [],
   "source": [
    "df.loc[\"20130102\":\"20130104\", [\"A\", \"B\"]]\n"
   ]
  },
  {
   "cell_type": "markdown",
   "id": "05c9dac2-ce42-4bac-99a3-1f97d88327da",
   "metadata": {},
   "source": [
    "Выбор метки одной строки и столбца возвращает скаляр :"
   ]
  },
  {
   "cell_type": "code",
   "execution_count": null,
   "id": "3623ac29-2e2d-4184-a55f-82ca32056910",
   "metadata": {},
   "outputs": [],
   "source": [
    "df.loc[dates[0], \"A\"]"
   ]
  },
  {
   "cell_type": "markdown",
   "id": "67d9ff52-bcc8-496b-a0ef-27776d6fb73f",
   "metadata": {},
   "source": [
    "Для получения быстрого доступа к скаляру (эквивалентно предыдущему методу):"
   ]
  },
  {
   "cell_type": "code",
   "execution_count": null,
   "id": "a052c1a8-eae0-4e65-99ec-edd22985d059",
   "metadata": {},
   "outputs": [],
   "source": [
    "df.at[dates[0], \"A\"]"
   ]
  },
  {
   "cell_type": "markdown",
   "id": "56051a5a-d987-463f-8268-78f5047f3d33",
   "metadata": {},
   "source": [
    "### Выбор по позиции"
   ]
  },
  {
   "cell_type": "markdown",
   "id": "c033b98d-c52e-452e-9b90-e111252bc32c",
   "metadata": {},
   "source": [
    "Выбор по позиции переданных целых чисел:"
   ]
  },
  {
   "cell_type": "code",
   "execution_count": null,
   "id": "42a49952-12cd-4ad3-8a1f-894bbab832ec",
   "metadata": {},
   "outputs": [],
   "source": [
    "df.iloc[3]"
   ]
  },
  {
   "cell_type": "markdown",
   "id": "5bc7a12a-0ef5-46d8-9093-eabb811092a1",
   "metadata": {},
   "source": [
    "Целочисленные срезы действуют аналогично NumPy/Python:"
   ]
  },
  {
   "cell_type": "code",
   "execution_count": null,
   "id": "c2dc9fd9-6589-452a-a1fd-6f5b1fb8ce58",
   "metadata": {},
   "outputs": [],
   "source": [
    "df.iloc[3:5, 0:2]"
   ]
  },
  {
   "cell_type": "code",
   "execution_count": null,
   "id": "9fc647ca-bbd5-490f-8f4e-8461c2733f60",
   "metadata": {},
   "outputs": [],
   "source": [
    "df.iloc[[1, 2, 4], [0, 2]]"
   ]
  },
  {
   "cell_type": "markdown",
   "id": "724182fc-1c3e-4d4a-a34b-5cab36c8898e",
   "metadata": {},
   "source": [
    "Для нарезки строк в явном виде:"
   ]
  },
  {
   "cell_type": "code",
   "execution_count": null,
   "id": "c4dd3563-022b-4c48-9e46-83edb0683869",
   "metadata": {},
   "outputs": [],
   "source": [
    "df.iloc[1:3, :]"
   ]
  },
  {
   "cell_type": "markdown",
   "id": "98af58a5-7fd1-4cef-88aa-11b19fdf89dd",
   "metadata": {},
   "source": [
    "Для явной нарезки столбцов:"
   ]
  },
  {
   "cell_type": "code",
   "execution_count": null,
   "id": "10f0d104-2bd4-4ab9-9a2c-90b3e39c2feb",
   "metadata": {},
   "outputs": [],
   "source": [
    "df.iloc[:, 1:3]"
   ]
  },
  {
   "cell_type": "markdown",
   "id": "f0f5f9a3-7e4d-4821-8abe-d92fd8556e40",
   "metadata": {},
   "source": [
    "Для получения значения в явном виде:"
   ]
  },
  {
   "cell_type": "code",
   "execution_count": null,
   "id": "df180017-7fe1-46ed-aa1d-6179968b7c09",
   "metadata": {},
   "outputs": [],
   "source": [
    "df.iloc[1, 1]"
   ]
  },
  {
   "cell_type": "code",
   "execution_count": null,
   "id": "2c000f7e-dc4a-47ea-9668-09e1eee89839",
   "metadata": {},
   "outputs": [],
   "source": [
    "df.iat[1, 1]"
   ]
  },
  {
   "cell_type": "markdown",
   "id": "9d7657c0-074e-47cf-8343-9d7f26046599",
   "metadata": {},
   "source": [
    "### Булево индексирование"
   ]
  },
  {
   "cell_type": "markdown",
   "id": "5059bf5e-5064-4d7f-b2d8-b468bb68bcc6",
   "metadata": {},
   "source": [
    "Выберите строки, в которых df.A больше 0."
   ]
  },
  {
   "cell_type": "code",
   "execution_count": null,
   "id": "a2236a1b-e1d6-4292-b9e2-3ba295fc67ef",
   "metadata": {},
   "outputs": [],
   "source": [
    "df"
   ]
  },
  {
   "cell_type": "code",
   "execution_count": null,
   "id": "29a19040-7d4d-48d3-8bc2-b00357ca01fa",
   "metadata": {},
   "outputs": [],
   "source": [
    "df[df[\"A\"] > 0]"
   ]
  },
  {
   "cell_type": "markdown",
   "id": "f41e3d43-39a6-463c-811e-fff6d9e5dffd",
   "metadata": {},
   "source": [
    "Выборка значений из DataFrame, для которых выполняется булево условие:"
   ]
  },
  {
   "cell_type": "code",
   "execution_count": null,
   "id": "ddf6eb6c-d2fb-4831-87ff-bfcd1175a2db",
   "metadata": {},
   "outputs": [],
   "source": [
    "df[df > 0]"
   ]
  },
  {
   "cell_type": "markdown",
   "id": "3d6be796-fc21-4bc8-b41f-3ec75ac4a7e2",
   "metadata": {},
   "source": [
    "Использование метода `isin()` для фильтрации:"
   ]
  },
  {
   "cell_type": "code",
   "execution_count": null,
   "id": "b7a1419e-85f5-4083-b44c-9394fc201154",
   "metadata": {},
   "outputs": [],
   "source": [
    "df2 = df.copy()\n",
    "df2[\"E\"] = [\"one\", \"one\", \"two\", \"three\", \"four\", \"three\"]\n",
    "df2"
   ]
  },
  {
   "cell_type": "code",
   "execution_count": null,
   "id": "99246bfb-64d1-4da5-b24d-c30d67098250",
   "metadata": {},
   "outputs": [],
   "source": [
    "df2[df2[\"E\"].isin([\"two\", \"four\"])]"
   ]
  },
  {
   "cell_type": "markdown",
   "id": "69f49682-79ea-40ae-8882-65b8cd7c538b",
   "metadata": {},
   "source": [
    "## Задание значений\n",
    "Задание нового столбца автоматически выравнивает данные по индексам:"
   ]
  },
  {
   "cell_type": "code",
   "execution_count": null,
   "id": "6976ead9-75a4-4295-8a54-e67278e08d36",
   "metadata": {},
   "outputs": [],
   "source": [
    "s1 = pd.Series([1, 2, 3, 4, 5, 6], index=pd.date_range(\"20130102\", periods=6))\n",
    "s1"
   ]
  },
  {
   "cell_type": "markdown",
   "id": "d4e0ac35-eb24-4e6a-8423-eaf24a75fec6",
   "metadata": {},
   "source": [
    "Установка значений по метке:"
   ]
  },
  {
   "cell_type": "code",
   "execution_count": null,
   "id": "6c98b4be-8594-4b01-a59a-000c8db4d2e5",
   "metadata": {},
   "outputs": [],
   "source": [
    "df.at[dates[0], \"A\"] = 0\n",
    "df"
   ]
  },
  {
   "cell_type": "markdown",
   "id": "b4daf703-19f1-42d9-a78d-37aec38042db",
   "metadata": {},
   "source": [
    "Установка значений по позициям:"
   ]
  },
  {
   "cell_type": "code",
   "execution_count": null,
   "id": "3452b62d-7b9b-4cc4-96a2-d29afc97bf6a",
   "metadata": {},
   "outputs": [],
   "source": [
    "df.iat[0, 1] = 0\n",
    "df"
   ]
  },
  {
   "cell_type": "markdown",
   "id": "889cd131-052a-4ee0-a7bc-f29e03930a36",
   "metadata": {},
   "source": [
    "Задание путем присваивания с помощью массива NumPy:"
   ]
  },
  {
   "cell_type": "code",
   "execution_count": null,
   "id": "6e97af80-b381-44a8-9055-6bc3db3a693d",
   "metadata": {},
   "outputs": [],
   "source": [
    "df.loc[:, \"D\"] = np.array([5] * len(df))\n",
    "df"
   ]
  },
  {
   "cell_type": "markdown",
   "id": "5233b4e4-cdc3-419a-99b5-4aebe2a03c32",
   "metadata": {},
   "source": [
    "Задание по условию"
   ]
  },
  {
   "cell_type": "code",
   "execution_count": null,
   "id": "468642dd-433f-45b7-b5fa-c7187be86bc2",
   "metadata": {},
   "outputs": [],
   "source": [
    "df"
   ]
  },
  {
   "cell_type": "code",
   "execution_count": null,
   "id": "3e05be22-8efe-47b0-b91b-81bf9f89f95c",
   "metadata": {},
   "outputs": [],
   "source": [
    "df2 = df.copy()\n",
    "df2[df2 > 0] = -df2\n",
    "df2"
   ]
  },
  {
   "cell_type": "markdown",
   "id": "1178516d-25eb-4895-b13d-6798fedf815c",
   "metadata": {},
   "source": [
    "## Недостающие данные"
   ]
  },
  {
   "cell_type": "markdown",
   "id": "4d6c273f-b44a-441e-bec7-a23334311e1a",
   "metadata": {},
   "source": [
    "Для типов данных NumPy `np.nan` представляет собой недостающие данные. По умолчанию они не учитываются при вычислениях.\n",
    "\n",
    "Переиндексация позволяет изменить/добавить/удалить индекс по указанной оси. При этом возвращается копия данных:"
   ]
  },
  {
   "cell_type": "code",
   "execution_count": null,
   "id": "727cd7fe-2703-41c0-8aca-90e21b1890c4",
   "metadata": {},
   "outputs": [],
   "source": [
    "df"
   ]
  },
  {
   "cell_type": "code",
   "execution_count": null,
   "id": "33dcbf9b-fbad-49d7-bfeb-14b437b00d31",
   "metadata": {},
   "outputs": [],
   "source": [
    "df1 = df.reindex(index=dates[0:4], columns=list(df.columns) + [\"E\"])\n",
    "df1"
   ]
  },
  {
   "cell_type": "code",
   "execution_count": null,
   "id": "c468863a-1c60-4e3f-be76-714d518464fb",
   "metadata": {},
   "outputs": [],
   "source": [
    "df1.loc[dates[0] : dates[1], \"E\"] = 1\n",
    "df1"
   ]
  },
  {
   "cell_type": "markdown",
   "id": "b88aedb9-bbcc-4638-89a3-37bbf7b38ce6",
   "metadata": {},
   "source": [
    "`DataFrame.dropna()` удаляет все строки, в которых отсутствуют данные:"
   ]
  },
  {
   "cell_type": "code",
   "execution_count": null,
   "id": "1ea16b7d-2360-41e8-9cfa-86bbffa62b51",
   "metadata": {},
   "outputs": [],
   "source": [
    "df1.dropna(how=\"any\") # не удаляет ничего из df1, возвращает в качестве результата операции копию df1"
   ]
  },
  {
   "cell_type": "markdown",
   "id": "eb4a4be0-83cb-482e-8f67-34c55d9a724c",
   "metadata": {},
   "source": [
    "`DataFrame.fillna()` заполняет отсутствующие данные:"
   ]
  },
  {
   "cell_type": "code",
   "execution_count": null,
   "id": "73b82fa5-efe3-4e89-9bf5-cbc3c4bbf04a",
   "metadata": {},
   "outputs": [],
   "source": [
    "df1.fillna(value=5)"
   ]
  },
  {
   "cell_type": "markdown",
   "id": "a68e78c7-1f4f-461f-a67f-bf82b5cbd60e",
   "metadata": {},
   "source": [
    "`isna()` получает булеву маску, в которой значения являются `nan`:"
   ]
  },
  {
   "cell_type": "code",
   "execution_count": null,
   "id": "745f5963-447a-4f71-82cb-55a0caddfb21",
   "metadata": {},
   "outputs": [],
   "source": [
    "pd.isna(df1)"
   ]
  },
  {
   "cell_type": "markdown",
   "id": "65cb3851-0ca9-497d-8e43-9b3c62a96c8a",
   "metadata": {},
   "source": [
    "## Операции"
   ]
  },
  {
   "cell_type": "markdown",
   "id": "b46d441e-3fd2-4be2-8ce5-2a9e828566c1",
   "metadata": {},
   "source": [
    "### Статистика\n",
    "Операции в общем случае исключают пропущенные данные.\n",
    "\n",
    "Вычислить среднее значение для каждого столбца:"
   ]
  },
  {
   "cell_type": "code",
   "execution_count": null,
   "id": "616616f8-5918-4681-a658-ff101b7ca588",
   "metadata": {},
   "outputs": [],
   "source": [
    "df"
   ]
  },
  {
   "cell_type": "code",
   "execution_count": null,
   "id": "b5f9015d-2417-4529-bea2-d0ea0c1716f6",
   "metadata": {},
   "outputs": [],
   "source": [
    "df.mean() # среднее арифметическое значение столбцов"
   ]
  },
  {
   "cell_type": "markdown",
   "id": "75d5a4a2-b089-4a7c-bb07-99794e49d3a4",
   "metadata": {},
   "source": [
    "Вычислить медиану для каждого столбца. Медианой называется значение, которое находится в середине при сортировки значений от большего к меньшему.\n",
    "\n",
    "Например, медианой набора {11, 9, 3, 5, 5} является число 5, так как оно стоит в середине этого набора после его упорядочивания: {3, 5, 5, 9, 11}."
   ]
  },
  {
   "cell_type": "code",
   "execution_count": null,
   "id": "bfbfa2c9-af45-450d-8bf4-5c0227cf6375",
   "metadata": {},
   "outputs": [],
   "source": [
    "df.median()"
   ]
  },
  {
   "cell_type": "markdown",
   "id": "f8922a0f-fec4-417d-9742-dc862b273dbc",
   "metadata": {},
   "source": [
    "*Как думаете, что отражает зарплатное положение населения: среднее арифметическое или медиана?*"
   ]
  },
  {
   "cell_type": "markdown",
   "id": "c7a8f444-23da-41f0-93da-6c614ce5b445",
   "metadata": {},
   "source": [
    "Рассчитайте среднее значение для каждого ряда:"
   ]
  },
  {
   "cell_type": "code",
   "execution_count": null,
   "id": "12e00e1c-c130-4764-9945-f783d288eba9",
   "metadata": {},
   "outputs": [],
   "source": [
    "df.mean(axis=1)"
   ]
  },
  {
   "cell_type": "code",
   "execution_count": null,
   "id": "8297b0f3-54b9-4bf3-b5ea-11e8d13e155d",
   "metadata": {},
   "outputs": [],
   "source": [
    "df.max()"
   ]
  },
  {
   "cell_type": "code",
   "execution_count": null,
   "id": "7891c9d4-a149-4a12-b0c9-f6e1f54be4a9",
   "metadata": {},
   "outputs": [],
   "source": [
    "df.min()"
   ]
  },
  {
   "cell_type": "markdown",
   "id": "4cdb8822-b175-41e2-82ba-385f7595c5a7",
   "metadata": {},
   "source": [
    "Посмотреть уникальные значения в столбце"
   ]
  },
  {
   "cell_type": "code",
   "execution_count": null,
   "id": "38882b9c-0d95-43da-8d1f-96525a549d2e",
   "metadata": {},
   "outputs": [],
   "source": [
    "df.iloc[:, 0].unique()"
   ]
  },
  {
   "cell_type": "markdown",
   "id": "6a35805d-a852-4773-94d1-9102f2ee1543",
   "metadata": {},
   "source": [
    "## Подсчет значений"
   ]
  },
  {
   "cell_type": "code",
   "execution_count": null,
   "id": "2f0c5c21-f135-40e0-9c67-db0beba530fe",
   "metadata": {},
   "outputs": [],
   "source": [
    "s = pd.Series(np.random.randint(0, 7, size=10))\n",
    "s"
   ]
  },
  {
   "cell_type": "code",
   "execution_count": null,
   "id": "02b561fe-c65f-43ed-b290-a18ab132b283",
   "metadata": {},
   "outputs": [],
   "source": [
    "s.value_counts()"
   ]
  },
  {
   "cell_type": "markdown",
   "id": "010f6b51-6012-462f-904a-415f61e43054",
   "metadata": {},
   "source": [
    "## Строковые методы"
   ]
  },
  {
   "cell_type": "markdown",
   "id": "bea92154-37dd-40d4-b93c-7d696351db28",
   "metadata": {},
   "source": [
    "`Серия` оснащена набором методов обработки строк в атрибуте `str`, которые позволяют легко оперировать с каждым элементом массива, как в приведенном ниже фрагменте кода."
   ]
  },
  {
   "cell_type": "code",
   "execution_count": null,
   "id": "834cede3-0a13-4b2b-9af0-772d1a72ae3e",
   "metadata": {},
   "outputs": [],
   "source": [
    "s = pd.Series([\"A\", \"B\", \"C\", \"Aaba\", \"Baca\", np.nan, \"CABA\", \"dog\", \"cat\"])\n",
    "s"
   ]
  },
  {
   "cell_type": "code",
   "execution_count": null,
   "id": "df1ce34d-e0cb-4ef7-979e-ed168b3a94e0",
   "metadata": {},
   "outputs": [],
   "source": [
    "s.str.lower()"
   ]
  },
  {
   "cell_type": "markdown",
   "id": "211d38b1-1a60-44c3-b2c4-40279f9fcf57",
   "metadata": {},
   "source": [
    "## Импорт и экспорт данных"
   ]
  },
  {
   "cell_type": "markdown",
   "id": "0f0f0f35-7a1e-4cb0-b42a-c16727e41f9b",
   "metadata": {},
   "source": [
    "### CSV\n",
    "Запись в файл csv: использование `DataFrame.to_csv()`"
   ]
  },
  {
   "cell_type": "code",
   "execution_count": null,
   "id": "ce97cb19-9a17-416c-954e-c0602c42582e",
   "metadata": {},
   "outputs": [],
   "source": [
    "df = pd.DataFrame(np.random.randint(0, 5, (10, 5)))\n",
    "df"
   ]
  },
  {
   "cell_type": "code",
   "execution_count": null,
   "id": "fa5a0bd3-505c-44d4-a43a-803da45bd3fa",
   "metadata": {},
   "outputs": [],
   "source": [
    "df.to_csv(\"foo.csv\")"
   ]
  },
  {
   "cell_type": "markdown",
   "id": "5a4f29e3-6bf2-4fa2-a517-e059f5395b74",
   "metadata": {},
   "source": [
    "**Теперь откройте папку, где сохранен блокнот, найдите там файл foo.csv и откройте его. В каком формате сохранились данные?**"
   ]
  },
  {
   "cell_type": "markdown",
   "id": "526d8c29-2250-4ed2-b739-189db4f38d5e",
   "metadata": {},
   "source": [
    "Чтение из csv-файла: использование функции `read_csv()`"
   ]
  },
  {
   "cell_type": "code",
   "execution_count": null,
   "id": "775ee209-d563-4108-8f88-79eb80f9f123",
   "metadata": {},
   "outputs": [],
   "source": [
    "pd.read_csv(\"foo.csv\")"
   ]
  },
  {
   "cell_type": "markdown",
   "id": "732cfd03-b019-49e4-859c-636debefab00",
   "metadata": {},
   "source": [
    "# Время практики"
   ]
  },
  {
   "cell_type": "code",
   "execution_count": null,
   "id": "f2903e85-3bf7-4a99-8a39-749f5961cdff",
   "metadata": {},
   "outputs": [],
   "source": [
    "import numpy as np\n",
    "import pandas as pd"
   ]
  },
  {
   "cell_type": "markdown",
   "id": "9a3b4e2e-9b97-40f0-a1da-595301f236af",
   "metadata": {},
   "source": [
    "**Откройте датасет под названием products_data.csv, который лежит в папке с блокнотом, в pandas**"
   ]
  },
  {
   "cell_type": "code",
   "execution_count": null,
   "id": "d7a05ac4-3cd4-4e6a-8572-f7fcb4ec8d44",
   "metadata": {},
   "outputs": [],
   "source": [
    "# строчкой ниже напишите код чтения файла csv, назвав переменную df\n",
    "# df = ...\n",
    "\n",
    "\n",
    "\n",
    "# код ниже оставьте, как есть\n",
    "# он обрабатывает численные столбцы датасета, приводя их от типа \"строка / объект\" к типу \"число\"\n",
    "df['Current Price'] = df['Current Price'].str.replace(',', '')\n",
    "df['Previous Price'] = df['Previous Price'].str.replace(',', '')\n",
    "df['Current Price'] = pd.to_numeric(df['Current Price'], errors='coerce')\n",
    "df['Previous Price'] = pd.to_numeric(df['Previous Price'], errors='coerce')\n",
    "df['Amount'] = pd.to_numeric(df['Amount'], errors='coerce')\n",
    "df = df.dropna()"
   ]
  },
  {
   "cell_type": "markdown",
   "id": "cec614e5-0f1f-4a4a-9527-1afc2b5aa706",
   "metadata": {},
   "source": [
    "**Выведите первые 5 записей датасета**"
   ]
  },
  {
   "cell_type": "code",
   "execution_count": null,
   "id": "7f66eb40-9833-4f6d-ba1b-74cc65661edf",
   "metadata": {
    "scrolled": true
   },
   "outputs": [],
   "source": []
  },
  {
   "cell_type": "markdown",
   "id": "a67afd12-d308-4d6e-b683-62e9eea00613",
   "metadata": {},
   "source": [
    "## **Ответьте на следующие вопросы**\n",
    "- Что за данные перед нами?\n",
    "- Что означают названия колонок?\n",
    "- Как связаны колонки current price, price per each и amount?"
   ]
  },
  {
   "cell_type": "markdown",
   "id": "d1dd28f8-93f6-4632-be0e-87cbe644b524",
   "metadata": {},
   "source": [
    "заметки и пояснения по вопросам выше писать тут"
   ]
  },
  {
   "cell_type": "markdown",
   "id": "f76a3ea1-0823-4ca9-b9e6-f4470c4b1037",
   "metadata": {},
   "source": [
    "---\n",
    "\n",
    "Для ответа на вопросы можете использовать ячейку выше, или же создать свою, добавив обычную ячейку с кодом и изменив ее тип. По умолчанию в ячейках нельзя писать обычные текстовые предложения, однако вверху на панели инструментов вы найдете рядом с кнопками запуска, остановки, перезапуска вы найдете настройки типа ячейки: для кода используется `Code`, для текстовой разметки - `Markdown`. Оба типа ячеек можно \"запускать\", что либо запускает код, либо фиксирует ваш текст согласно разметке. Подробнее о том, что такое Markdown, можно почитать по [ссылке](https://ru.wikipedia.org/wiki/Markdown)\n",
    "\n",
    "![title](img/markdown.png)\n",
    "\n",
    "Меняя тип ячейки, вы сможете как писать код решения, так и писать к нему пояснения\n",
    "\n",
    "---"
   ]
  },
  {
   "cell_type": "markdown",
   "id": "0a5e4118-2603-4f52-8440-439c3ee280fa",
   "metadata": {},
   "source": [
    "## **Практикуемся брать нужные части данных**"
   ]
  },
  {
   "cell_type": "markdown",
   "id": "cdbe51ed-52e9-429c-acfa-447421702147",
   "metadata": {},
   "source": [
    "**Выведите часть датафрейма с 100 по 150 строки, при этом пусть выводятся только столбцы Name, Current Price и Category**\n",
    "\n"
   ]
  },
  {
   "cell_type": "code",
   "execution_count": null,
   "id": "92b2f5ea-4638-4b98-8550-2804e567055b",
   "metadata": {},
   "outputs": [],
   "source": []
  },
  {
   "cell_type": "markdown",
   "id": "c57a7e64-38f1-45db-b876-1af8918cc0d1",
   "metadata": {},
   "source": [
    "**Выведите первые 15 элементов датафрейма, Current Price которых равняется 1.99**"
   ]
  },
  {
   "cell_type": "code",
   "execution_count": null,
   "id": "48c5487a-8b80-4274-ae71-27a715bf4eee",
   "metadata": {},
   "outputs": [],
   "source": []
  },
  {
   "cell_type": "markdown",
   "id": "c5d5cb4a-5c9e-4de1-8871-ad037bf7ea6b",
   "metadata": {},
   "source": [
    "## **Используя методы описательной статистики, определите:**\n",
    "\n",
    "- Сколько всего записей в датасете\n",
    "- Есть ли пропущенные данные в текущем датасете\n",
    "- Каковы максимальные и минимальные значения в столбцах?\n",
    "- Медианы и средние арифметические для столбцов. **Обращаем ваше внимание, что для расчета этих показателей требуется отобрать только численные столбцы**."
   ]
  },
  {
   "cell_type": "code",
   "execution_count": null,
   "id": "9bed5c1f-2c23-4297-848f-bc3dcb54fb8a",
   "metadata": {},
   "outputs": [],
   "source": []
  },
  {
   "cell_type": "code",
   "execution_count": null,
   "id": "112fa84c-6428-46e3-8cb3-2e551eabed01",
   "metadata": {},
   "outputs": [],
   "source": []
  },
  {
   "cell_type": "code",
   "execution_count": null,
   "id": "46050c10-3b56-4b1e-8300-2252f5751778",
   "metadata": {},
   "outputs": [],
   "source": []
  },
  {
   "cell_type": "code",
   "execution_count": null,
   "id": "00b3dcaa-69fa-422c-880a-4bf87c4ce12a",
   "metadata": {},
   "outputs": [],
   "source": []
  },
  {
   "cell_type": "markdown",
   "id": "490534f6-2960-47ab-8170-9d96834ee457",
   "metadata": {},
   "source": [
    "## **Определите:**\n",
    "\n",
    "- Какие уникальные значения (unique) встречаются в столбце Amount? Чем обусловено наличие в этом столбце как целых, так и дробных чисел?\n",
    "- Сколько в столбце Current Price значений > 100? Много / мало относительно общего числа?\n",
    "- Как думаете, какой вклад они вносят в статистические показатели?"
   ]
  },
  {
   "cell_type": "code",
   "execution_count": null,
   "id": "f73bd2f5-3712-4a25-a9b9-238efcbbef5b",
   "metadata": {},
   "outputs": [],
   "source": []
  },
  {
   "cell_type": "code",
   "execution_count": null,
   "id": "ca8fb904-2ef0-4765-be14-acf86afc6dd5",
   "metadata": {},
   "outputs": [],
   "source": []
  },
  {
   "cell_type": "code",
   "execution_count": null,
   "id": "ce5a6302-e32f-45c7-9b8e-0a13ff3b8855",
   "metadata": {},
   "outputs": [],
   "source": []
  },
  {
   "cell_type": "code",
   "execution_count": null,
   "id": "c368eccd-521d-44bc-8198-211c849dd542",
   "metadata": {},
   "outputs": [],
   "source": []
  },
  {
   "cell_type": "markdown",
   "id": "13d7039c-c1ea-49cd-8979-a03a25755954",
   "metadata": {},
   "source": [
    "## **Выполните**\n",
    "\n",
    "- Создайте переменную df2, куда поместите копию df\n",
    "- Отфильтруйте записи df2 по условию так, чтобы в df2 остались только записи, в которых Current Price <= 100\n",
    "- Примените к df2 те же методы описательной статистики, что и к df\n",
    "- Опишите полученную разницу в показателях датафреймов df и df2"
   ]
  },
  {
   "cell_type": "code",
   "execution_count": null,
   "id": "f80e6e84-7374-4b7a-8e88-773e357ad173",
   "metadata": {},
   "outputs": [],
   "source": []
  },
  {
   "cell_type": "code",
   "execution_count": null,
   "id": "d4a28486-d1f3-4149-aed9-3b9e2341aca4",
   "metadata": {},
   "outputs": [],
   "source": []
  },
  {
   "cell_type": "code",
   "execution_count": null,
   "id": "a8962246-d3e7-4fc3-a69b-5e74c1ff0337",
   "metadata": {},
   "outputs": [],
   "source": []
  },
  {
   "cell_type": "code",
   "execution_count": null,
   "id": "7edf9dc4-c7c2-4888-8eb4-83a34235663b",
   "metadata": {},
   "outputs": [],
   "source": []
  },
  {
   "cell_type": "code",
   "execution_count": null,
   "id": "0c2a11bb-ec19-4ea8-99c2-7e2ce850b58c",
   "metadata": {},
   "outputs": [],
   "source": []
  },
  {
   "cell_type": "code",
   "execution_count": null,
   "id": "7f05477d-25e5-499d-8dc7-cf6dd64c35b5",
   "metadata": {},
   "outputs": [],
   "source": []
  },
  {
   "cell_type": "code",
   "execution_count": null,
   "id": "96bcf8da-3d96-4cdf-9164-c2d00251fe43",
   "metadata": {},
   "outputs": [],
   "source": []
  },
  {
   "cell_type": "code",
   "execution_count": null,
   "id": "65e21531-6c43-4cce-82dc-b3cafb9d0ac5",
   "metadata": {},
   "outputs": [],
   "source": []
  },
  {
   "cell_type": "code",
   "execution_count": null,
   "id": "64cff9f4-0a22-4fa5-bcbf-b5ea2a12ff43",
   "metadata": {},
   "outputs": [],
   "source": []
  },
  {
   "cell_type": "code",
   "execution_count": null,
   "id": "42bca50c-69ff-46af-974a-87a1fbb697ba",
   "metadata": {},
   "outputs": [],
   "source": []
  },
  {
   "cell_type": "code",
   "execution_count": null,
   "id": "0880da6b-307d-48c9-9502-f2fdc62079fd",
   "metadata": {},
   "outputs": [],
   "source": []
  },
  {
   "cell_type": "code",
   "execution_count": null,
   "id": "91934ff5-d3e1-4677-af92-5d5382df2b38",
   "metadata": {},
   "outputs": [],
   "source": []
  },
  {
   "cell_type": "code",
   "execution_count": null,
   "id": "95ea3fc4-8b02-4dc4-8c45-e3069916a371",
   "metadata": {},
   "outputs": [],
   "source": []
  },
  {
   "cell_type": "code",
   "execution_count": null,
   "id": "952edbf9-652f-4a2a-87f9-025570fdd72a",
   "metadata": {},
   "outputs": [],
   "source": []
  },
  {
   "cell_type": "code",
   "execution_count": null,
   "id": "ce607dc7-884e-4580-834d-abe41261cd7a",
   "metadata": {},
   "outputs": [],
   "source": []
  },
  {
   "cell_type": "code",
   "execution_count": null,
   "id": "38f35ed5-5514-4c58-872b-ef2fabad8fa4",
   "metadata": {},
   "outputs": [],
   "source": []
  }
 ],
 "metadata": {
  "kernelspec": {
   "display_name": "Python 3 (ipykernel)",
   "language": "python",
   "name": "python3"
  },
  "language_info": {
   "codemirror_mode": {
    "name": "ipython",
    "version": 3
   },
   "file_extension": ".py",
   "mimetype": "text/x-python",
   "name": "python",
   "nbconvert_exporter": "python",
   "pygments_lexer": "ipython3",
   "version": "3.9.13"
  }
 },
 "nbformat": 4,
 "nbformat_minor": 5
}
